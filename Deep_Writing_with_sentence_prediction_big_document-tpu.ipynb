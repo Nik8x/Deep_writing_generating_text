{
  "nbformat": 4,
  "nbformat_minor": 0,
  "metadata": {
    "colab": {
      "name": "Copy_of_Deep_Writing_with_sentence_word_prediction_tpu.ipynb",
      "version": "0.3.2",
      "provenance": [],
      "collapsed_sections": [],
      "include_colab_link": true
    },
    "kernelspec": {
      "name": "python3",
      "display_name": "Python 3"
    },
    "accelerator": "TPU"
  },
  "cells": [
    {
      "cell_type": "markdown",
      "metadata": {
        "id": "view-in-github",
        "colab_type": "text"
      },
      "source": [
        "<a href=\"https://colab.research.google.com/github/Nik8x/Deep_writing_generating_text/blob/master/Deep_Writing_with_sentence_prediction_big_document-tpu.ipynb\" target=\"_parent\"><img src=\"https://colab.research.google.com/assets/colab-badge.svg\" alt=\"Open In Colab\"/></a>"
      ]
    },
    {
      "metadata": {
        "id": "vUb856aHtNq_",
        "colab_type": "code",
        "outputId": "b948283c-ec7d-43c9-f45f-f903abee40fd",
        "colab": {
          "base_uri": "https://localhost:8080/",
          "height": 268
        }
      },
      "cell_type": "code",
      "source": [
        "import pandas as pd\n",
        "import numpy as np\n",
        "import matplotlib.pyplot as plt\n",
        "\n",
        "import regex as re\n",
        "\n",
        "import nltk\n",
        "from nltk.draw.dispersion import dispersion_plot\n",
        "from nltk.corpus import stopwords\n",
        "nltk.download('stopwords')\n",
        "from nltk.probability import FreqDist\n",
        "from textblob import TextBlob\n",
        "from nltk.stem import WordNetLemmatizer\n",
        "nltk.download('wordnet')\n",
        "from nltk.corpus.reader.plaintext import PlaintextCorpusReader\n",
        "nltk.download('averaged_perceptron_tagger')\n",
        "from nltk.util import ngrams\n",
        "from nltk.sentiment import SentimentIntensityAnalyzer\n",
        "nltk.download('vader_lexicon')\n",
        "\n",
        "from sklearn.preprocessing import StandardScaler\n",
        "from sklearn.preprocessing import LabelBinarizer\n",
        "\n",
        "import tensorflow as tf\n",
        "import keras\n",
        "from keras.models import Sequential\n",
        "from keras.layers import Dense\n",
        "from keras.layers import Dropout\n",
        "from keras.layers import LSTM\n",
        "from keras.utils import np_utils\n",
        "from keras.callbacks import EarlyStopping\n",
        "\n",
        "from keras.preprocessing.text import Tokenizer\n",
        "from keras.utils.np_utils import to_categorical\n",
        "\n",
        "import tensorflow as tf\n",
        "import keras\n",
        "from keras.models import Sequential\n",
        "from keras.layers import Dense, Dropout, LSTM, Embedding\n",
        "\n",
        "from keras.preprocessing.text import Tokenizer\n",
        "from keras.utils.np_utils import to_categorical\n",
        "\n",
        "import urllib\n",
        "\n",
        "import os\n",
        "\n",
        "# Any results you write to the current directory are saved as output.\n",
        "# from google.colab import drive\n",
        "# drive.mount('/content/gdrive')"
      ],
      "execution_count": 1,
      "outputs": [
        {
          "output_type": "stream",
          "text": [
            "[nltk_data] Downloading package stopwords to /root/nltk_data...\n",
            "[nltk_data]   Package stopwords is already up-to-date!\n",
            "[nltk_data] Downloading package wordnet to /root/nltk_data...\n",
            "[nltk_data]   Package wordnet is already up-to-date!\n",
            "[nltk_data] Downloading package averaged_perceptron_tagger to\n",
            "[nltk_data]     /root/nltk_data...\n",
            "[nltk_data]   Package averaged_perceptron_tagger is already up-to-\n",
            "[nltk_data]       date!\n",
            "[nltk_data] Downloading package vader_lexicon to /root/nltk_data...\n",
            "[nltk_data]   Package vader_lexicon is already up-to-date!\n"
          ],
          "name": "stdout"
        },
        {
          "output_type": "stream",
          "text": [
            "/usr/local/lib/python3.6/dist-packages/nltk/twitter/__init__.py:20: UserWarning: The twython library has not been installed. Some functionality from the twitter package will not be available.\n",
            "  warnings.warn(\"The twython library has not been installed. \"\n",
            "Using TensorFlow backend.\n"
          ],
          "name": "stderr"
        }
      ]
    },
    {
      "metadata": {
        "id": "f3MnaG43tZeA",
        "colab_type": "code",
        "outputId": "2655285e-73f4-41f5-e8c3-2e77d6c8b764",
        "colab": {
          "base_uri": "https://localhost:8080/",
          "height": 55
        }
      },
      "cell_type": "code",
      "source": [
        "text = urllib.request.urlopen('http://www.textfiles.com/stories/3gables.txt').read().decode('utf8')\n",
        "text = text.replace('\\n', ' ').replace('\\r', '').replace(\"\\'\", \"\").replace('\\w+', '')[348:5000]\n",
        "text[0:1000]"
      ],
      "execution_count": 2,
      "outputs": [
        {
          "output_type": "execute_result",
          "data": {
            "text/plain": [
              "'   I dont think that any of my adventures with Mr. Sherlock Holmes opened quite so abruptly, or so dramatically, as that which I associate with The Three Gables. I had not seen Holmes for some days and had no idea of the new channel into which his activities had been directed. He was in a chatty mood that morning, however, and had just settled me into the well-worn low armchair on one side of the fire, while he had curled down with his pipe in his mouth upon the opposite chair, when our visitor arrived. If I had said that a mad bull had arrived it would give a clearer impression of what occurred.   The door had flown open and a huge negro had burst into the room. He would have been a comic figure if he had not been terrific, for he was dressed in a very loud gray check suit with a flowing salmon-coloured tie. His broad face and flattened nose were thrust forward, as his sullen dark eyes, with a smouldering gleam of malice in them, turned from one of us to the other.   \"Which of you gen'"
            ]
          },
          "metadata": {
            "tags": []
          },
          "execution_count": 2
        }
      ]
    },
    {
      "metadata": {
        "id": "mS16E8LAtfBA",
        "colab_type": "code",
        "colab": {}
      },
      "cell_type": "code",
      "source": [
        "# I will first convert all the words to numbers, then normalize them, then make a dataframe with two columns, \n",
        "# one with sentences(one word, then two words, and so on), the other with the exact next word"
      ],
      "execution_count": 0,
      "outputs": []
    },
    {
      "metadata": {
        "id": "JnHkDWF6uB-7",
        "colab_type": "code",
        "colab": {}
      },
      "cell_type": "code",
      "source": [
        "# integer encode text\n",
        "tokenizer = Tokenizer()\n",
        "tokenizer.fit_on_texts([text])\n",
        "encoded = tokenizer.texts_to_sequences([text])[0]"
      ],
      "execution_count": 0,
      "outputs": []
    },
    {
      "metadata": {
        "id": "ntGz5c9lukSF",
        "colab_type": "code",
        "outputId": "f0f2d502-2bb1-4029-86c2-5d457bbd3121",
        "colab": {
          "base_uri": "https://localhost:8080/",
          "height": 35
        }
      },
      "cell_type": "code",
      "source": [
        "# determine the vocabulary size\n",
        "vocab_size = len(tokenizer.word_index) + 1\n",
        "print('Vocabulary Size: %d' % vocab_size)"
      ],
      "execution_count": 5,
      "outputs": [
        {
          "output_type": "stream",
          "text": [
            "Vocabulary Size: 376\n"
          ],
          "name": "stdout"
        }
      ]
    },
    {
      "metadata": {
        "id": "olhiAHoo5Q26",
        "colab_type": "code",
        "colab": {}
      },
      "cell_type": "code",
      "source": [
        "# x = pd.DataFrame(pd.Series([encoded[:i] for i in range(len(encoded))]))\n",
        "# x['label'] = pd.DataFrame([i for i in encoded])\n",
        "# x.head()"
      ],
      "execution_count": 0,
      "outputs": []
    },
    {
      "metadata": {
        "id": "HUFKbRKhMQcP",
        "colab_type": "code",
        "outputId": "bb517216-2aa2-461e-a66e-8b5895b4bdcc",
        "colab": {
          "base_uri": "https://localhost:8080/",
          "height": 35
        }
      },
      "cell_type": "code",
      "source": [
        "type(encoded)"
      ],
      "execution_count": 7,
      "outputs": [
        {
          "output_type": "execute_result",
          "data": {
            "text/plain": [
              "list"
            ]
          },
          "metadata": {
            "tags": []
          },
          "execution_count": 7
        }
      ]
    },
    {
      "metadata": {
        "id": "uijllZui9CQX",
        "colab_type": "code",
        "colab": {}
      },
      "cell_type": "code",
      "source": [
        "def n_gram(x, ng):\n",
        "  tokens = [token for token in x]\n",
        "  output = list(ngrams(tokens, ng))\n",
        "  output = list(map(list, output)) #  function to convert a list of tuples to a list of lists\n",
        "  return output"
      ],
      "execution_count": 0,
      "outputs": []
    },
    {
      "metadata": {
        "id": "4L0yNgFZ_IY6",
        "colab_type": "code",
        "colab": {}
      },
      "cell_type": "code",
      "source": [
        "n2d = pd.DataFrame([pd.Series(n_gram(encoded, 2)).apply(lambda i: [i[0:1][0]]), pd.Series(n_gram(encoded, 2)).apply(lambda i: i[-1])]).T\n",
        "n3d = pd.DataFrame([pd.Series(n_gram(encoded, 3)).apply(lambda i: i[0:2]), pd.Series(n_gram(encoded, 3)).apply(lambda i: i[-1])]).T\n",
        "n4d = pd.DataFrame([pd.Series(n_gram(encoded, 4)).apply(lambda i: i[0:3]), pd.Series(n_gram(encoded, 4)).apply(lambda i: i[-1])]).T\n",
        "n5d = pd.DataFrame([pd.Series(n_gram(encoded, 5)).apply(lambda i: i[0:4]), pd.Series(n_gram(encoded, 5)).apply(lambda i: i[-1])]).T\n",
        "n6d = pd.DataFrame([pd.Series(n_gram(encoded, 6)).apply(lambda i: i[0:5]), pd.Series(n_gram(encoded, 6)).apply(lambda i: i[-1])]).T"
      ],
      "execution_count": 0,
      "outputs": []
    },
    {
      "metadata": {
        "id": "CEt04-3WroWz",
        "colab_type": "code",
        "outputId": "369222e6-4243-4cea-f81e-c6c1a3efe6f7",
        "colab": {
          "base_uri": "https://localhost:8080/",
          "height": 35
        }
      },
      "cell_type": "code",
      "source": [
        "n2d.shape, n3d.shape, n4d.shape, n5d.shape, n6d.shape"
      ],
      "execution_count": 10,
      "outputs": [
        {
          "output_type": "execute_result",
          "data": {
            "text/plain": [
              "((879, 2), (878, 2), (877, 2), (876, 2), (875, 2))"
            ]
          },
          "metadata": {
            "tags": []
          },
          "execution_count": 10
        }
      ]
    },
    {
      "metadata": {
        "id": "mjlKkQ-i0fsD",
        "colab_type": "code",
        "colab": {
          "base_uri": "https://localhost:8080/",
          "height": 194
        },
        "outputId": "1e5ba633-d5dd-47e4-d0f8-3a555137ada5"
      },
      "cell_type": "code",
      "source": [
        "df = pd.concat([n2d, n3d, n4d, n5d, n6d], axis = 0)\n",
        "df.head()"
      ],
      "execution_count": 11,
      "outputs": [
        {
          "output_type": "execute_result",
          "data": {
            "text/html": [
              "<div>\n",
              "<style scoped>\n",
              "    .dataframe tbody tr th:only-of-type {\n",
              "        vertical-align: middle;\n",
              "    }\n",
              "\n",
              "    .dataframe tbody tr th {\n",
              "        vertical-align: top;\n",
              "    }\n",
              "\n",
              "    .dataframe thead th {\n",
              "        text-align: right;\n",
              "    }\n",
              "</style>\n",
              "<table border=\"1\" class=\"dataframe\">\n",
              "  <thead>\n",
              "    <tr style=\"text-align: right;\">\n",
              "      <th></th>\n",
              "      <th>0</th>\n",
              "      <th>1</th>\n",
              "    </tr>\n",
              "  </thead>\n",
              "  <tbody>\n",
              "    <tr>\n",
              "      <th>0</th>\n",
              "      <td>[3]</td>\n",
              "      <td>30</td>\n",
              "    </tr>\n",
              "    <tr>\n",
              "      <th>1</th>\n",
              "      <td>[30]</td>\n",
              "      <td>122</td>\n",
              "    </tr>\n",
              "    <tr>\n",
              "      <th>2</th>\n",
              "      <td>[122]</td>\n",
              "      <td>16</td>\n",
              "    </tr>\n",
              "    <tr>\n",
              "      <th>3</th>\n",
              "      <td>[16]</td>\n",
              "      <td>40</td>\n",
              "    </tr>\n",
              "    <tr>\n",
              "      <th>4</th>\n",
              "      <td>[40]</td>\n",
              "      <td>5</td>\n",
              "    </tr>\n",
              "  </tbody>\n",
              "</table>\n",
              "</div>"
            ],
            "text/plain": [
              "       0    1\n",
              "0    [3]   30\n",
              "1   [30]  122\n",
              "2  [122]   16\n",
              "3   [16]   40\n",
              "4   [40]    5"
            ]
          },
          "metadata": {
            "tags": []
          },
          "execution_count": 11
        }
      ]
    },
    {
      "metadata": {
        "id": "IKWYAS_05GxJ",
        "colab_type": "code",
        "colab": {}
      },
      "cell_type": "code",
      "source": [
        "listy = []\n",
        "for i in df[0]:\n",
        "  listy.append(i)"
      ],
      "execution_count": 0,
      "outputs": []
    },
    {
      "metadata": {
        "id": "LH0pUQEJZuNw",
        "colab_type": "code",
        "outputId": "03f744ec-a493-44c7-8b36-b74a1e2111a1",
        "colab": {
          "base_uri": "https://localhost:8080/",
          "height": 35
        }
      },
      "cell_type": "code",
      "source": [
        "length = len(sorted(listy[1:], key = len, reverse = True)[0])   # creating array by adding 0 to make all rows equal\n",
        "X = np.array([xi + [0] * (length - len(xi)) for xi in listy[1:]])\n",
        "X.shape  # creating X array"
      ],
      "execution_count": 13,
      "outputs": [
        {
          "output_type": "execute_result",
          "data": {
            "text/plain": [
              "(4384, 5)"
            ]
          },
          "metadata": {
            "tags": []
          },
          "execution_count": 13
        }
      ]
    },
    {
      "metadata": {
        "id": "YOpL0qlCsVff",
        "colab_type": "code",
        "outputId": "b9a4333b-7ad1-466c-d4e4-f82e9839b143",
        "colab": {
          "base_uri": "https://localhost:8080/",
          "height": 108
        }
      },
      "cell_type": "code",
      "source": [
        "scaler = StandardScaler()\n",
        "X = scaler.fit_transform(X)"
      ],
      "execution_count": 14,
      "outputs": [
        {
          "output_type": "stream",
          "text": [
            "/usr/local/lib/python3.6/dist-packages/sklearn/utils/validation.py:595: DataConversionWarning: Data with input dtype int64 was converted to float64 by StandardScaler.\n",
            "  warnings.warn(msg, DataConversionWarning)\n",
            "/usr/local/lib/python3.6/dist-packages/sklearn/utils/validation.py:595: DataConversionWarning: Data with input dtype int64 was converted to float64 by StandardScaler.\n",
            "  warnings.warn(msg, DataConversionWarning)\n"
          ],
          "name": "stderr"
        }
      ]
    },
    {
      "metadata": {
        "id": "EaIZP8UtX0J9",
        "colab_type": "code",
        "outputId": "d6a868ce-6c75-411a-b01d-872b87dfa887",
        "colab": {
          "base_uri": "https://localhost:8080/",
          "height": 35
        }
      },
      "cell_type": "code",
      "source": [
        "X[0]"
      ],
      "execution_count": 15,
      "outputs": [
        {
          "output_type": "execute_result",
          "data": {
            "text/plain": [
              "array([-0.60503664, -0.73372717, -0.59658788, -0.46017321, -0.30950734])"
            ]
          },
          "metadata": {
            "tags": []
          },
          "execution_count": 15
        }
      ]
    },
    {
      "metadata": {
        "id": "bMq9FIMbN7tq",
        "colab_type": "code",
        "outputId": "b94b186e-2c5c-4162-f195-7415db25019c",
        "colab": {
          "base_uri": "https://localhost:8080/",
          "height": 35
        }
      },
      "cell_type": "code",
      "source": [
        "y = [i for i in df[1]][1:] # creating y array\n",
        "len(y)"
      ],
      "execution_count": 16,
      "outputs": [
        {
          "output_type": "execute_result",
          "data": {
            "text/plain": [
              "4384"
            ]
          },
          "metadata": {
            "tags": []
          },
          "execution_count": 16
        }
      ]
    },
    {
      "metadata": {
        "id": "kBtV_MblN_ly",
        "colab_type": "code",
        "colab": {}
      },
      "cell_type": "code",
      "source": [
        "# one hot encode outputs\n",
        "y = to_categorical(y, num_classes = vocab_size)"
      ],
      "execution_count": 0,
      "outputs": []
    },
    {
      "metadata": {
        "id": "M8hS0EsOsHZK",
        "colab_type": "code",
        "outputId": "02db2af3-b92c-4ea8-a2d1-ae7f0ba0bc4e",
        "colab": {
          "base_uri": "https://localhost:8080/",
          "height": 426
        }
      },
      "cell_type": "code",
      "source": [
        "y[0]"
      ],
      "execution_count": 18,
      "outputs": [
        {
          "output_type": "execute_result",
          "data": {
            "text/plain": [
              "array([0., 0., 0., 0., 0., 0., 0., 0., 0., 0., 0., 0., 0., 0., 0., 0., 0.,\n",
              "       0., 0., 0., 0., 0., 0., 0., 0., 0., 0., 0., 0., 0., 0., 0., 0., 0.,\n",
              "       0., 0., 0., 0., 0., 0., 0., 0., 0., 0., 0., 0., 0., 0., 0., 0., 0.,\n",
              "       0., 0., 0., 0., 0., 0., 0., 0., 0., 0., 0., 0., 0., 0., 0., 0., 0.,\n",
              "       0., 0., 0., 0., 0., 0., 0., 0., 0., 0., 0., 0., 0., 0., 0., 0., 0.,\n",
              "       0., 0., 0., 0., 0., 0., 0., 0., 0., 0., 0., 0., 0., 0., 0., 0., 0.,\n",
              "       0., 0., 0., 0., 0., 0., 0., 0., 0., 0., 0., 0., 0., 0., 0., 0., 0.,\n",
              "       0., 0., 0., 1., 0., 0., 0., 0., 0., 0., 0., 0., 0., 0., 0., 0., 0.,\n",
              "       0., 0., 0., 0., 0., 0., 0., 0., 0., 0., 0., 0., 0., 0., 0., 0., 0.,\n",
              "       0., 0., 0., 0., 0., 0., 0., 0., 0., 0., 0., 0., 0., 0., 0., 0., 0.,\n",
              "       0., 0., 0., 0., 0., 0., 0., 0., 0., 0., 0., 0., 0., 0., 0., 0., 0.,\n",
              "       0., 0., 0., 0., 0., 0., 0., 0., 0., 0., 0., 0., 0., 0., 0., 0., 0.,\n",
              "       0., 0., 0., 0., 0., 0., 0., 0., 0., 0., 0., 0., 0., 0., 0., 0., 0.,\n",
              "       0., 0., 0., 0., 0., 0., 0., 0., 0., 0., 0., 0., 0., 0., 0., 0., 0.,\n",
              "       0., 0., 0., 0., 0., 0., 0., 0., 0., 0., 0., 0., 0., 0., 0., 0., 0.,\n",
              "       0., 0., 0., 0., 0., 0., 0., 0., 0., 0., 0., 0., 0., 0., 0., 0., 0.,\n",
              "       0., 0., 0., 0., 0., 0., 0., 0., 0., 0., 0., 0., 0., 0., 0., 0., 0.,\n",
              "       0., 0., 0., 0., 0., 0., 0., 0., 0., 0., 0., 0., 0., 0., 0., 0., 0.,\n",
              "       0., 0., 0., 0., 0., 0., 0., 0., 0., 0., 0., 0., 0., 0., 0., 0., 0.,\n",
              "       0., 0., 0., 0., 0., 0., 0., 0., 0., 0., 0., 0., 0., 0., 0., 0., 0.,\n",
              "       0., 0., 0., 0., 0., 0., 0., 0., 0., 0., 0., 0., 0., 0., 0., 0., 0.,\n",
              "       0., 0., 0., 0., 0., 0., 0., 0., 0., 0., 0., 0., 0., 0., 0., 0., 0.,\n",
              "       0., 0.], dtype=float32)"
            ]
          },
          "metadata": {
            "tags": []
          },
          "execution_count": 18
        }
      ]
    },
    {
      "metadata": {
        "id": "fh72jiM3LZkH",
        "colab_type": "code",
        "outputId": "fa046f9b-144d-400c-9e57-a57964a5221c",
        "colab": {
          "base_uri": "https://localhost:8080/",
          "height": 35
        }
      },
      "cell_type": "code",
      "source": [
        "X.shape, y.shape"
      ],
      "execution_count": 19,
      "outputs": [
        {
          "output_type": "execute_result",
          "data": {
            "text/plain": [
              "((4384, 5), (4384, 376))"
            ]
          },
          "metadata": {
            "tags": []
          },
          "execution_count": 19
        }
      ]
    },
    {
      "metadata": {
        "id": "lT6XGFybeuRM",
        "colab_type": "code",
        "outputId": "be7ae2ad-df79-4a30-ce3d-2edc9dfac4bf",
        "colab": {
          "base_uri": "https://localhost:8080/",
          "height": 35
        }
      },
      "cell_type": "code",
      "source": [
        "# LSTMs accept input in the form of (number_of_sequences, length_of_sequence, number_of_features)\n",
        "X_lstm = np.reshape(X, (X.shape[0], X.shape[1], 1))\n",
        "X_lstm.shape"
      ],
      "execution_count": 20,
      "outputs": [
        {
          "output_type": "execute_result",
          "data": {
            "text/plain": [
              "(4384, 5, 1)"
            ]
          },
          "metadata": {
            "tags": []
          },
          "execution_count": 20
        }
      ]
    },
    {
      "metadata": {
        "id": "AiS7DGsZfg4A",
        "colab_type": "code",
        "outputId": "b423736b-600b-4964-8ccb-1e134033e40a",
        "colab": {
          "base_uri": "https://localhost:8080/",
          "height": 535
        }
      },
      "cell_type": "code",
      "source": [
        "model = tf.keras.models.Sequential()\n",
        "model.add(tf.keras.layers.LSTM(500, input_shape = (X_lstm.shape[1], X_lstm.shape[2]), return_sequences = True))\n",
        "model.add(tf.keras.layers.Dropout(0.2))\n",
        "# model.add(tf.keras.layers.LSTM(50, return_sequences = True))\n",
        "# model.add(tf.keras.layers.Dropout(0.2))\n",
        "# model.add(tf.keras.layers.LSTM(500, return_sequences = True))\n",
        "# model.add(tf.keras.layers.Dropout(0.2))\n",
        "# model.add(tf.keras.layers.LSTM(500, return_sequences = True))\n",
        "# model.add(tf.keras.layers.Dropout(0.2))\n",
        "model.add(tf.keras.layers.LSTM(500, return_sequences = True))\n",
        "model.add(tf.keras.layers.Dropout(0.2))\n",
        "model.add(tf.keras.layers.LSTM(250))\n",
        "model.add(tf.keras.layers.Dropout(0.2))\n",
        "model.add(tf.keras.layers.Dense(y.shape[1], activation='softmax'))\n",
        "model.compile(loss = 'categorical_crossentropy', optimizer = 'adam', metrics = ['accuracy'])\n",
        "print(model.summary())"
      ],
      "execution_count": 21,
      "outputs": [
        {
          "output_type": "stream",
          "text": [
            "WARNING:tensorflow:From /usr/local/lib/python3.6/dist-packages/tensorflow/python/ops/resource_variable_ops.py:435: colocate_with (from tensorflow.python.framework.ops) is deprecated and will be removed in a future version.\n",
            "Instructions for updating:\n",
            "Colocations handled automatically by placer.\n",
            "WARNING:tensorflow:From /usr/local/lib/python3.6/dist-packages/tensorflow/python/keras/layers/core.py:143: calling dropout (from tensorflow.python.ops.nn_ops) with keep_prob is deprecated and will be removed in a future version.\n",
            "Instructions for updating:\n",
            "Please use `rate` instead of `keep_prob`. Rate should be set to `rate = 1 - keep_prob`.\n",
            "_________________________________________________________________\n",
            "Layer (type)                 Output Shape              Param #   \n",
            "=================================================================\n",
            "lstm (LSTM)                  (None, 5, 500)            1004000   \n",
            "_________________________________________________________________\n",
            "dropout (Dropout)            (None, 5, 500)            0         \n",
            "_________________________________________________________________\n",
            "lstm_1 (LSTM)                (None, 5, 500)            2002000   \n",
            "_________________________________________________________________\n",
            "dropout_1 (Dropout)          (None, 5, 500)            0         \n",
            "_________________________________________________________________\n",
            "lstm_2 (LSTM)                (None, 250)               751000    \n",
            "_________________________________________________________________\n",
            "dropout_2 (Dropout)          (None, 250)               0         \n",
            "_________________________________________________________________\n",
            "dense (Dense)                (None, 376)               94376     \n",
            "=================================================================\n",
            "Total params: 3,851,376\n",
            "Trainable params: 3,851,376\n",
            "Non-trainable params: 0\n",
            "_________________________________________________________________\n",
            "None\n"
          ],
          "name": "stdout"
        }
      ]
    },
    {
      "metadata": {
        "id": "XDd_BheDe5jb",
        "colab_type": "code",
        "outputId": "d33c2e4d-bb04-4451-876d-c06729b6ab03",
        "colab": {
          "base_uri": "https://localhost:8080/",
          "height": 499
        }
      },
      "cell_type": "code",
      "source": [
        "TPU_WORKER = 'grpc://' + os.environ['COLAB_TPU_ADDR']\n",
        "tf.logging.set_verbosity(tf.logging.INFO)\n",
        "\n",
        "tpu_model = tf.contrib.tpu.keras_to_tpu_model(\n",
        "    model,\n",
        "    strategy=tf.contrib.tpu.TPUDistributionStrategy(\n",
        "        tf.contrib.cluster_resolver.TPUClusterResolver(TPU_WORKER)))"
      ],
      "execution_count": 22,
      "outputs": [
        {
          "output_type": "stream",
          "text": [
            "\n",
            "WARNING: The TensorFlow contrib module will not be included in TensorFlow 2.0.\n",
            "For more information, please see:\n",
            "  * https://github.com/tensorflow/community/blob/master/rfcs/20180907-contrib-sunset.md\n",
            "  * https://github.com/tensorflow/addons\n",
            "If you depend on functionality not listed there, please file an issue.\n",
            "\n",
            "INFO:tensorflow:Querying Tensorflow master (grpc://10.83.235.122:8470) for TPU system metadata.\n",
            "INFO:tensorflow:Found TPU system:\n",
            "INFO:tensorflow:*** Num TPU Cores: 8\n",
            "INFO:tensorflow:*** Num TPU Workers: 1\n",
            "INFO:tensorflow:*** Num TPU Cores Per Worker: 8\n",
            "INFO:tensorflow:*** Available Device: _DeviceAttributes(/job:worker/replica:0/task:0/device:CPU:0, CPU, -1, 4215553218084301604)\n",
            "INFO:tensorflow:*** Available Device: _DeviceAttributes(/job:worker/replica:0/task:0/device:XLA_CPU:0, XLA_CPU, 17179869184, 12159045724826873049)\n",
            "INFO:tensorflow:*** Available Device: _DeviceAttributes(/job:worker/replica:0/task:0/device:TPU:0, TPU, 17179869184, 17715069662559877677)\n",
            "INFO:tensorflow:*** Available Device: _DeviceAttributes(/job:worker/replica:0/task:0/device:TPU:1, TPU, 17179869184, 5121134463575144198)\n",
            "INFO:tensorflow:*** Available Device: _DeviceAttributes(/job:worker/replica:0/task:0/device:TPU:2, TPU, 17179869184, 11252467827208972160)\n",
            "INFO:tensorflow:*** Available Device: _DeviceAttributes(/job:worker/replica:0/task:0/device:TPU:3, TPU, 17179869184, 11818125977452289746)\n",
            "INFO:tensorflow:*** Available Device: _DeviceAttributes(/job:worker/replica:0/task:0/device:TPU:4, TPU, 17179869184, 18170028951307937798)\n",
            "INFO:tensorflow:*** Available Device: _DeviceAttributes(/job:worker/replica:0/task:0/device:TPU:5, TPU, 17179869184, 14189884656722252750)\n",
            "INFO:tensorflow:*** Available Device: _DeviceAttributes(/job:worker/replica:0/task:0/device:TPU:6, TPU, 17179869184, 13929993682803524190)\n",
            "INFO:tensorflow:*** Available Device: _DeviceAttributes(/job:worker/replica:0/task:0/device:TPU:7, TPU, 17179869184, 1207817756976028723)\n",
            "INFO:tensorflow:*** Available Device: _DeviceAttributes(/job:worker/replica:0/task:0/device:TPU_SYSTEM:0, TPU_SYSTEM, 17179869184, 16587019704614058121)\n",
            "WARNING:tensorflow:tpu_model (from tensorflow.contrib.tpu.python.tpu.keras_support) is experimental and may change or be removed at any time, and without warning.\n",
            "INFO:tensorflow:Cloning Adam {'lr': 0.0010000000474974513, 'beta_1': 0.8999999761581421, 'beta_2': 0.9990000128746033, 'decay': 0.0, 'epsilon': 1e-07, 'amsgrad': False}\n",
            "INFO:tensorflow:Cloning Adam {'lr': 0.0010000000474974513, 'beta_1': 0.8999999761581421, 'beta_2': 0.9990000128746033, 'decay': 0.0, 'epsilon': 1e-07, 'amsgrad': False}\n"
          ],
          "name": "stdout"
        }
      ]
    },
    {
      "metadata": {
        "id": "54bVMlFbfAJU",
        "colab_type": "code",
        "outputId": "faf7a24e-bbaa-47eb-cc1d-af1652fb6b14",
        "colab": {
          "base_uri": "https://localhost:8080/",
          "height": 426
        }
      },
      "cell_type": "code",
      "source": [
        "tpu_model.summary()"
      ],
      "execution_count": 23,
      "outputs": [
        {
          "output_type": "stream",
          "text": [
            "_________________________________________________________________\n",
            "Layer (type)                 Output Shape              Param #   \n",
            "=================================================================\n",
            "lstm_input (InputLayer)      (None, 5, 1)              0         \n",
            "_________________________________________________________________\n",
            "lstm (LSTM)                  (None, 5, 500)            1004000   \n",
            "_________________________________________________________________\n",
            "dropout (Dropout)            (None, 5, 500)            0         \n",
            "_________________________________________________________________\n",
            "lstm_1 (LSTM)                (None, 5, 500)            2002000   \n",
            "_________________________________________________________________\n",
            "dropout_1 (Dropout)          (None, 5, 500)            0         \n",
            "_________________________________________________________________\n",
            "lstm_2 (LSTM)                (None, 250)               751000    \n",
            "_________________________________________________________________\n",
            "dropout_2 (Dropout)          (None, 250)               0         \n",
            "_________________________________________________________________\n",
            "dense (Dense)                (None, 376)               94376     \n",
            "=================================================================\n",
            "Total params: 3,851,376\n",
            "Trainable params: 3,851,376\n",
            "Non-trainable params: 0\n",
            "_________________________________________________________________\n"
          ],
          "name": "stdout"
        }
      ]
    },
    {
      "metadata": {
        "id": "QZhYnIkjDHJi",
        "colab_type": "code",
        "colab": {
          "base_uri": "https://localhost:8080/",
          "height": 18295
        },
        "outputId": "e4bc1275-6240-4ee7-d3fd-fc45102501cc"
      },
      "cell_type": "code",
      "source": [
        "#early_stopping_monitor = EarlyStopping(monitor = 'loss', patience = 4, verbose = 0, mode='auto')\n",
        "tpu_model.fit(X_lstm, y, epochs = 500, batch_size = 50)#, callbacks = [early_stopping_monitor])"
      ],
      "execution_count": 25,
      "outputs": [
        {
          "output_type": "stream",
          "text": [
            "Epoch 1/500\n",
            "INFO:tensorflow:New input shapes; (re-)compiling: mode=train (# of cores 8), [TensorSpec(shape=(6,), dtype=tf.int32, name='core_id0'), TensorSpec(shape=(6, 5, 1), dtype=tf.float32, name='lstm_input_10'), TensorSpec(shape=(6, 376), dtype=tf.float32, name='dense_target_30')]\n",
            "INFO:tensorflow:Overriding default placeholder.\n",
            "INFO:tensorflow:Cloning Adam {'lr': 0.0010000000474974513, 'beta_1': 0.8999999761581421, 'beta_2': 0.9990000128746033, 'decay': 0.0, 'epsilon': 1e-07, 'amsgrad': False}\n",
            "INFO:tensorflow:Remapping placeholder for lstm_input\n",
            "WARNING:tensorflow:From /usr/local/lib/python3.6/dist-packages/tensorflow/contrib/tpu/python/tpu/keras_support.py:302: to_float (from tensorflow.python.ops.math_ops) is deprecated and will be removed in a future version.\n",
            "Instructions for updating:\n",
            "Use tf.cast instead.\n",
            "INFO:tensorflow:KerasCrossShard: <tensorflow.python.keras.optimizers.Adam object at 0x7f03ebe11240> []\n",
            "WARNING:tensorflow:From /usr/local/lib/python3.6/dist-packages/tensorflow/python/ops/math_ops.py:3066: to_int32 (from tensorflow.python.ops.math_ops) is deprecated and will be removed in a future version.\n",
            "Instructions for updating:\n",
            "Use tf.cast instead.\n",
            "INFO:tensorflow:Started compiling\n",
            "INFO:tensorflow:Finished compiling. Time elapsed: 9.280632257461548 secs\n",
            "INFO:tensorflow:Setting weights on TPU model.\n",
            "INFO:tensorflow:CPU -> TPU lr: 0.0010000000474974513 {0.001}\n",
            "INFO:tensorflow:CPU -> TPU beta_1: 0.8999999761581421 {0.9}\n",
            "INFO:tensorflow:CPU -> TPU beta_2: 0.9990000128746033 {0.999}\n",
            "INFO:tensorflow:CPU -> TPU decay: 0.0 {0.0}\n",
            "WARNING:tensorflow:Cannot update non-variable config: epsilon\n",
            "WARNING:tensorflow:Cannot update non-variable config: amsgrad\n",
            "4200/4384 [===========================>..] - ETA: 1s - loss: 5.5547 - acc: 0.0357INFO:tensorflow:New input shapes; (re-)compiling: mode=train (# of cores 8), [TensorSpec(shape=(4,), dtype=tf.int32, name='core_id0'), TensorSpec(shape=(4, 5, 1), dtype=tf.float32, name='lstm_input_10'), TensorSpec(shape=(4, 376), dtype=tf.float32, name='dense_target_30')]\n",
            "INFO:tensorflow:Overriding default placeholder.\n",
            "INFO:tensorflow:Remapping placeholder for lstm_input\n",
            "INFO:tensorflow:KerasCrossShard: <tensorflow.python.keras.optimizers.Adam object at 0x7f03ebe11240> [<tf.Variable 'tpu_139654829542816/Adam/iterations:0' shape=() dtype=int64>, <tensorflow.contrib.tpu.python.tpu.keras_tpu_variables.ReplicatedVariable object at 0x7f03e931f160>, <tensorflow.contrib.tpu.python.tpu.keras_tpu_variables.ReplicatedVariable object at 0x7f03e931fc88>, <tensorflow.contrib.tpu.python.tpu.keras_tpu_variables.ReplicatedVariable object at 0x7f03e92b7630>, <tensorflow.contrib.tpu.python.tpu.keras_tpu_variables.ReplicatedVariable object at 0x7f03e9279a20>, <tensorflow.contrib.tpu.python.tpu.keras_tpu_variables.ReplicatedVariable object at 0x7f03e929bba8>, <tensorflow.contrib.tpu.python.tpu.keras_tpu_variables.ReplicatedVariable object at 0x7f03e920b9b0>, <tensorflow.contrib.tpu.python.tpu.keras_tpu_variables.ReplicatedVariable object at 0x7f03e91d6780>, <tensorflow.contrib.tpu.python.tpu.keras_tpu_variables.ReplicatedVariable object at 0x7f03e9146828>, <tensorflow.contrib.tpu.python.tpu.keras_tpu_variables.ReplicatedVariable object at 0x7f03e910e4a8>, <tensorflow.contrib.tpu.python.tpu.keras_tpu_variables.ReplicatedVariable object at 0x7f03e90d4e10>, <tensorflow.contrib.tpu.python.tpu.keras_tpu_variables.ReplicatedVariable object at 0x7f03e909b780>, <tensorflow.contrib.tpu.python.tpu.keras_tpu_variables.ReplicatedVariable object at 0x7f03e9066f98>, <tensorflow.contrib.tpu.python.tpu.keras_tpu_variables.ReplicatedVariable object at 0x7f03e8fd49e8>, <tensorflow.contrib.tpu.python.tpu.keras_tpu_variables.ReplicatedVariable object at 0x7f03e8f99198>, <tensorflow.contrib.tpu.python.tpu.keras_tpu_variables.ReplicatedVariable object at 0x7f03e8f64f60>, <tensorflow.contrib.tpu.python.tpu.keras_tpu_variables.ReplicatedVariable object at 0x7f03e8ed0780>, <tensorflow.contrib.tpu.python.tpu.keras_tpu_variables.ReplicatedVariable object at 0x7f03e8e9b198>, <tensorflow.contrib.tpu.python.tpu.keras_tpu_variables.ReplicatedVariable object at 0x7f03e8e62828>, <tensorflow.contrib.tpu.python.tpu.keras_tpu_variables.ReplicatedVariable object at 0x7f03e8e2c6a0>, <tensorflow.contrib.tpu.python.tpu.keras_tpu_variables.ReplicatedVariable object at 0x7f03e8d9a5f8>, <tensorflow.contrib.tpu.python.tpu.keras_tpu_variables.ReplicatedVariable object at 0x7f03e8d5f9e8>, <tensorflow.contrib.tpu.python.tpu.keras_tpu_variables.ReplicatedVariable object at 0x7f03e8d27668>, <tensorflow.contrib.tpu.python.tpu.keras_tpu_variables.ReplicatedVariable object at 0x7f03e8c712e8>, <tensorflow.contrib.tpu.python.tpu.keras_tpu_variables.ReplicatedVariable object at 0x7f03e8c39a90>, <tensorflow.contrib.tpu.python.tpu.keras_tpu_variables.ReplicatedVariable object at 0x7f03e8c28f60>, <tensorflow.contrib.tpu.python.tpu.keras_tpu_variables.ReplicatedVariable object at 0x7f03e8b70b70>, <tensorflow.contrib.tpu.python.tpu.keras_tpu_variables.ReplicatedVariable object at 0x7f03e8b387b8>, <tensorflow.contrib.tpu.python.tpu.keras_tpu_variables.ReplicatedVariable object at 0x7f03e8affda0>, <tensorflow.contrib.tpu.python.tpu.keras_tpu_variables.ReplicatedVariable object at 0x7f03e8a6ef60>, <tensorflow.contrib.tpu.python.tpu.keras_tpu_variables.ReplicatedVariable object at 0x7f03e8a38b70>, <tensorflow.contrib.tpu.python.tpu.keras_tpu_variables.ReplicatedVariable object at 0x7f03e89fe7b8>, <tensorflow.contrib.tpu.python.tpu.keras_tpu_variables.ReplicatedVariable object at 0x7f03e89c7da0>, <tensorflow.contrib.tpu.python.tpu.keras_tpu_variables.ReplicatedVariable object at 0x7f03e8935f60>]\n",
            "INFO:tensorflow:Started compiling\n",
            "INFO:tensorflow:Finished compiling. Time elapsed: 12.713602066040039 secs\n",
            "4384/4384 [==============================] - 62s 14ms/sample - loss: 5.5447 - acc: 0.0359\n",
            "Epoch 2/500\n",
            "4384/4384 [==============================] - 1s 337us/sample - loss: 5.3345 - acc: 0.0364\n",
            "Epoch 3/500\n",
            "4384/4384 [==============================] - 2s 344us/sample - loss: 5.2810 - acc: 0.0385\n",
            "Epoch 4/500\n",
            "4384/4384 [==============================] - 2s 357us/sample - loss: 5.2290 - acc: 0.0385\n",
            "Epoch 5/500\n",
            "4384/4384 [==============================] - 1s 341us/sample - loss: 5.1689 - acc: 0.0385\n",
            "Epoch 6/500\n",
            "4384/4384 [==============================] - 2s 346us/sample - loss: 5.1210 - acc: 0.0409\n",
            "Epoch 7/500\n",
            "4384/4384 [==============================] - 2s 349us/sample - loss: 5.0482 - acc: 0.0413\n",
            "Epoch 8/500\n",
            "4384/4384 [==============================] - 2s 354us/sample - loss: 4.9662 - acc: 0.0397\n",
            "Epoch 9/500\n",
            "4384/4384 [==============================] - 2s 346us/sample - loss: 4.8881 - acc: 0.0425\n",
            "Epoch 10/500\n",
            "4384/4384 [==============================] - 1s 337us/sample - loss: 4.8151 - acc: 0.0459\n",
            "Epoch 11/500\n",
            "4384/4384 [==============================] - 1s 321us/sample - loss: 4.7331 - acc: 0.0487\n",
            "Epoch 12/500\n",
            "4384/4384 [==============================] - 2s 344us/sample - loss: 4.6522 - acc: 0.0487\n",
            "Epoch 13/500\n",
            "4384/4384 [==============================] - 1s 330us/sample - loss: 4.5871 - acc: 0.0518\n",
            "Epoch 14/500\n",
            "4384/4384 [==============================] - 2s 344us/sample - loss: 4.5188 - acc: 0.0530\n",
            "Epoch 15/500\n",
            "4384/4384 [==============================] - 1s 333us/sample - loss: 4.4353 - acc: 0.0594\n",
            "Epoch 16/500\n",
            "4384/4384 [==============================] - 1s 320us/sample - loss: 4.3748 - acc: 0.0608\n",
            "Epoch 17/500\n",
            "4384/4384 [==============================] - 1s 311us/sample - loss: 4.3178 - acc: 0.0725\n",
            "Epoch 18/500\n",
            "4384/4384 [==============================] - 1s 321us/sample - loss: 4.2445 - acc: 0.0749\n",
            "Epoch 19/500\n",
            "4384/4384 [==============================] - 1s 313us/sample - loss: 4.1693 - acc: 0.0722\n",
            "Epoch 20/500\n",
            "4384/4384 [==============================] - 1s 310us/sample - loss: 4.1216 - acc: 0.0853\n",
            "Epoch 21/500\n",
            "4384/4384 [==============================] - 1s 308us/sample - loss: 4.0276 - acc: 0.0929\n",
            "Epoch 22/500\n",
            "4384/4384 [==============================] - 1s 319us/sample - loss: 3.9941 - acc: 0.0875\n",
            "Epoch 23/500\n",
            "4384/4384 [==============================] - 1s 308us/sample - loss: 3.9269 - acc: 0.1046\n",
            "Epoch 24/500\n",
            "4384/4384 [==============================] - 1s 326us/sample - loss: 3.8855 - acc: 0.1069\n",
            "Epoch 25/500\n",
            "4384/4384 [==============================] - 1s 323us/sample - loss: 3.7701 - acc: 0.1221\n",
            "Epoch 26/500\n",
            "4384/4384 [==============================] - 1s 332us/sample - loss: 3.7300 - acc: 0.1236\n",
            "Epoch 27/500\n",
            "4384/4384 [==============================] - 1s 325us/sample - loss: 3.6589 - acc: 0.1288\n",
            "Epoch 28/500\n",
            "4384/4384 [==============================] - 1s 328us/sample - loss: 3.5822 - acc: 0.1438\n",
            "Epoch 29/500\n",
            "4384/4384 [==============================] - 2s 343us/sample - loss: 3.5203 - acc: 0.1528\n",
            "Epoch 30/500\n",
            "4384/4384 [==============================] - 1s 336us/sample - loss: 3.4477 - acc: 0.1675\n",
            "Epoch 31/500\n",
            "4384/4384 [==============================] - 1s 334us/sample - loss: 3.4289 - acc: 0.1625\n",
            "Epoch 32/500\n",
            "4384/4384 [==============================] - 1s 337us/sample - loss: 3.3599 - acc: 0.1801\n",
            "Epoch 33/500\n",
            "4384/4384 [==============================] - 1s 331us/sample - loss: 3.3276 - acc: 0.1851\n",
            "Epoch 34/500\n",
            "4384/4384 [==============================] - 1s 335us/sample - loss: 3.2655 - acc: 0.1958\n",
            "Epoch 35/500\n",
            "4384/4384 [==============================] - 2s 343us/sample - loss: 3.1990 - acc: 0.2101\n",
            "Epoch 36/500\n",
            "4384/4384 [==============================] - 1s 336us/sample - loss: 3.1796 - acc: 0.2120\n",
            "Epoch 37/500\n",
            "4384/4384 [==============================] - 1s 339us/sample - loss: 3.1458 - acc: 0.2163\n",
            "Epoch 38/500\n",
            "4384/4384 [==============================] - 1s 330us/sample - loss: 3.1013 - acc: 0.2284\n",
            "Epoch 39/500\n",
            "4384/4384 [==============================] - 1s 328us/sample - loss: 3.0281 - acc: 0.2391\n",
            "Epoch 40/500\n",
            "4384/4384 [==============================] - 1s 324us/sample - loss: 2.9436 - acc: 0.2524\n",
            "Epoch 41/500\n",
            "4384/4384 [==============================] - 2s 347us/sample - loss: 2.8777 - acc: 0.2647\n",
            "Epoch 42/500\n",
            "4384/4384 [==============================] - 2s 344us/sample - loss: 2.8640 - acc: 0.2619\n",
            "Epoch 43/500\n",
            "4384/4384 [==============================] - 2s 349us/sample - loss: 2.8449 - acc: 0.2707\n",
            "Epoch 44/500\n",
            "4384/4384 [==============================] - 1s 331us/sample - loss: 2.7484 - acc: 0.2849\n",
            "Epoch 45/500\n",
            "4384/4384 [==============================] - 1s 333us/sample - loss: 2.7060 - acc: 0.2994\n",
            "Epoch 46/500\n",
            "4384/4384 [==============================] - 2s 344us/sample - loss: 2.7255 - acc: 0.2880\n",
            "Epoch 47/500\n",
            "4384/4384 [==============================] - 1s 331us/sample - loss: 2.6876 - acc: 0.2916\n",
            "Epoch 48/500\n",
            "4384/4384 [==============================] - 1s 324us/sample - loss: 2.6040 - acc: 0.3099\n",
            "Epoch 49/500\n",
            "4384/4384 [==============================] - 1s 334us/sample - loss: 2.6047 - acc: 0.3120\n",
            "Epoch 50/500\n",
            "4384/4384 [==============================] - 1s 327us/sample - loss: 2.5464 - acc: 0.3308\n",
            "Epoch 51/500\n",
            "4384/4384 [==============================] - 1s 340us/sample - loss: 2.5087 - acc: 0.3346\n",
            "Epoch 52/500\n",
            "4384/4384 [==============================] - 1s 324us/sample - loss: 2.4721 - acc: 0.3306\n",
            "Epoch 53/500\n",
            "4384/4384 [==============================] - 1s 330us/sample - loss: 2.4441 - acc: 0.3493\n",
            "Epoch 54/500\n",
            "4384/4384 [==============================] - 1s 322us/sample - loss: 2.4561 - acc: 0.3377\n",
            "Epoch 55/500\n",
            "4384/4384 [==============================] - 1s 336us/sample - loss: 2.4275 - acc: 0.3498\n",
            "Epoch 56/500\n",
            "4384/4384 [==============================] - 1s 331us/sample - loss: 2.3770 - acc: 0.3626\n",
            "Epoch 57/500\n",
            "4384/4384 [==============================] - 1s 330us/sample - loss: 2.4095 - acc: 0.3538\n",
            "Epoch 58/500\n",
            "4384/4384 [==============================] - 1s 331us/sample - loss: 2.3528 - acc: 0.3610\n",
            "Epoch 59/500\n",
            "4384/4384 [==============================] - 1s 322us/sample - loss: 2.3147 - acc: 0.3624\n",
            "Epoch 60/500\n",
            "4384/4384 [==============================] - 1s 330us/sample - loss: 2.2409 - acc: 0.3893\n",
            "Epoch 61/500\n",
            "4384/4384 [==============================] - 1s 336us/sample - loss: 2.3008 - acc: 0.3721\n",
            "Epoch 62/500\n",
            "4384/4384 [==============================] - 1s 325us/sample - loss: 2.2192 - acc: 0.3890\n",
            "Epoch 63/500\n",
            "4384/4384 [==============================] - 1s 335us/sample - loss: 2.2203 - acc: 0.3845\n",
            "Epoch 64/500\n",
            "4384/4384 [==============================] - 1s 327us/sample - loss: 2.2210 - acc: 0.3857\n",
            "Epoch 65/500\n",
            "4384/4384 [==============================] - 1s 332us/sample - loss: 2.1727 - acc: 0.3935\n",
            "Epoch 66/500\n",
            "4384/4384 [==============================] - 1s 329us/sample - loss: 2.1703 - acc: 0.3971\n",
            "Epoch 67/500\n",
            "4384/4384 [==============================] - 1s 341us/sample - loss: 2.1465 - acc: 0.4000\n",
            "Epoch 68/500\n",
            "4384/4384 [==============================] - 1s 330us/sample - loss: 2.1518 - acc: 0.4045\n",
            "Epoch 69/500\n",
            "4384/4384 [==============================] - 1s 331us/sample - loss: 2.0953 - acc: 0.4159\n",
            "Epoch 70/500\n",
            "4384/4384 [==============================] - 1s 333us/sample - loss: 2.0892 - acc: 0.4109\n",
            "Epoch 71/500\n",
            "4384/4384 [==============================] - 1s 331us/sample - loss: 2.0880 - acc: 0.4109\n",
            "Epoch 72/500\n",
            "4384/4384 [==============================] - 1s 320us/sample - loss: 2.0597 - acc: 0.4194\n",
            "Epoch 73/500\n",
            "4384/4384 [==============================] - 1s 327us/sample - loss: 2.0124 - acc: 0.4370\n",
            "Epoch 74/500\n",
            "4384/4384 [==============================] - 1s 325us/sample - loss: 2.0105 - acc: 0.4380\n",
            "Epoch 75/500\n",
            "4384/4384 [==============================] - 1s 322us/sample - loss: 2.0214 - acc: 0.4325\n",
            "Epoch 76/500\n",
            "4384/4384 [==============================] - 1s 325us/sample - loss: 1.9976 - acc: 0.4354\n",
            "Epoch 77/500\n",
            "4384/4384 [==============================] - 1s 318us/sample - loss: 1.9764 - acc: 0.4396\n",
            "Epoch 78/500\n",
            "4384/4384 [==============================] - 1s 327us/sample - loss: 1.9975 - acc: 0.4301\n",
            "Epoch 79/500\n",
            "4384/4384 [==============================] - 1s 333us/sample - loss: 1.9415 - acc: 0.4427\n",
            "Epoch 80/500\n",
            "4384/4384 [==============================] - 2s 358us/sample - loss: 1.9217 - acc: 0.4506\n",
            "Epoch 81/500\n",
            "4384/4384 [==============================] - 1s 333us/sample - loss: 1.9181 - acc: 0.4534\n",
            "Epoch 82/500\n",
            "4384/4384 [==============================] - 1s 331us/sample - loss: 1.9261 - acc: 0.4430\n",
            "Epoch 83/500\n",
            "4384/4384 [==============================] - 1s 333us/sample - loss: 1.8866 - acc: 0.4565\n",
            "Epoch 84/500\n",
            "4384/4384 [==============================] - 1s 341us/sample - loss: 1.8679 - acc: 0.4570\n",
            "Epoch 85/500\n",
            "4384/4384 [==============================] - 1s 338us/sample - loss: 1.8675 - acc: 0.4606\n",
            "Epoch 86/500\n",
            "4384/4384 [==============================] - 1s 334us/sample - loss: 1.8863 - acc: 0.4503\n",
            "Epoch 87/500\n",
            "4384/4384 [==============================] - 1s 329us/sample - loss: 1.8650 - acc: 0.4617\n",
            "Epoch 88/500\n",
            "4384/4384 [==============================] - 1s 330us/sample - loss: 1.8558 - acc: 0.4606\n",
            "Epoch 89/500\n",
            "4384/4384 [==============================] - 1s 329us/sample - loss: 1.8208 - acc: 0.4703\n",
            "Epoch 90/500\n",
            "4384/4384 [==============================] - 1s 327us/sample - loss: 1.8380 - acc: 0.4591\n",
            "Epoch 91/500\n",
            "4384/4384 [==============================] - 2s 343us/sample - loss: 1.8302 - acc: 0.4665\n",
            "Epoch 92/500\n",
            "4384/4384 [==============================] - 1s 334us/sample - loss: 1.8200 - acc: 0.4748\n",
            "Epoch 93/500\n",
            "4384/4384 [==============================] - 1s 331us/sample - loss: 1.8214 - acc: 0.4739\n",
            "Epoch 94/500\n",
            "4384/4384 [==============================] - 1s 327us/sample - loss: 1.7884 - acc: 0.4812\n",
            "Epoch 95/500\n",
            "4384/4384 [==============================] - 1s 337us/sample - loss: 1.7697 - acc: 0.4846\n",
            "Epoch 96/500\n",
            "4384/4384 [==============================] - 1s 331us/sample - loss: 1.7722 - acc: 0.4793\n",
            "Epoch 97/500\n",
            "4384/4384 [==============================] - 1s 329us/sample - loss: 1.7634 - acc: 0.4829\n",
            "Epoch 98/500\n",
            "4384/4384 [==============================] - 1s 328us/sample - loss: 1.7358 - acc: 0.4950\n",
            "Epoch 99/500\n",
            "4384/4384 [==============================] - 1s 335us/sample - loss: 1.7506 - acc: 0.4803\n",
            "Epoch 100/500\n",
            "4384/4384 [==============================] - 1s 324us/sample - loss: 1.7417 - acc: 0.4910\n",
            "Epoch 101/500\n",
            "4384/4384 [==============================] - 1s 331us/sample - loss: 1.7246 - acc: 0.4900\n",
            "Epoch 102/500\n",
            "4384/4384 [==============================] - 1s 329us/sample - loss: 1.7599 - acc: 0.4862\n",
            "Epoch 103/500\n",
            "4384/4384 [==============================] - 1s 330us/sample - loss: 1.7193 - acc: 0.4893\n",
            "Epoch 104/500\n",
            "4384/4384 [==============================] - 1s 324us/sample - loss: 1.6732 - acc: 0.5119\n",
            "Epoch 105/500\n",
            "4384/4384 [==============================] - 1s 325us/sample - loss: 1.6942 - acc: 0.5043\n",
            "Epoch 106/500\n",
            "4384/4384 [==============================] - 1s 323us/sample - loss: 1.6568 - acc: 0.5055\n",
            "Epoch 107/500\n",
            "4384/4384 [==============================] - 1s 327us/sample - loss: 1.7018 - acc: 0.5007\n",
            "Epoch 108/500\n",
            "4384/4384 [==============================] - 1s 334us/sample - loss: 1.6977 - acc: 0.4979\n",
            "Epoch 109/500\n",
            "4384/4384 [==============================] - 1s 326us/sample - loss: 1.7004 - acc: 0.4952\n",
            "Epoch 110/500\n",
            "4384/4384 [==============================] - 1s 337us/sample - loss: 1.6479 - acc: 0.5064\n",
            "Epoch 111/500\n",
            "4384/4384 [==============================] - 1s 338us/sample - loss: 1.6472 - acc: 0.5081\n",
            "Epoch 112/500\n",
            "4384/4384 [==============================] - 1s 330us/sample - loss: 1.6659 - acc: 0.5014\n",
            "Epoch 113/500\n",
            "4384/4384 [==============================] - 1s 327us/sample - loss: 1.6175 - acc: 0.5221\n",
            "Epoch 114/500\n",
            "4384/4384 [==============================] - 1s 328us/sample - loss: 1.6019 - acc: 0.5183\n",
            "Epoch 115/500\n",
            "4384/4384 [==============================] - 2s 346us/sample - loss: 1.5906 - acc: 0.5190\n",
            "Epoch 116/500\n",
            "4384/4384 [==============================] - 1s 326us/sample - loss: 1.6103 - acc: 0.5166\n",
            "Epoch 117/500\n",
            "4384/4384 [==============================] - 1s 330us/sample - loss: 1.6062 - acc: 0.5157\n",
            "Epoch 118/500\n",
            "4384/4384 [==============================] - 1s 336us/sample - loss: 1.5734 - acc: 0.5335\n",
            "Epoch 119/500\n",
            "4384/4384 [==============================] - 1s 330us/sample - loss: 1.5871 - acc: 0.5221\n",
            "Epoch 120/500\n",
            "4384/4384 [==============================] - 1s 326us/sample - loss: 1.5836 - acc: 0.5231\n",
            "Epoch 121/500\n",
            "4384/4384 [==============================] - 1s 330us/sample - loss: 1.6015 - acc: 0.5159\n",
            "Epoch 122/500\n",
            "4384/4384 [==============================] - 1s 322us/sample - loss: 1.5756 - acc: 0.5302\n",
            "Epoch 123/500\n",
            "4384/4384 [==============================] - 1s 338us/sample - loss: 1.5733 - acc: 0.5359\n",
            "Epoch 124/500\n",
            "4384/4384 [==============================] - 1s 323us/sample - loss: 1.5651 - acc: 0.5280\n",
            "Epoch 125/500\n",
            "4384/4384 [==============================] - 1s 340us/sample - loss: 1.5539 - acc: 0.5247\n",
            "Epoch 126/500\n",
            "4384/4384 [==============================] - 1s 328us/sample - loss: 1.5357 - acc: 0.5321\n",
            "Epoch 127/500\n",
            "4384/4384 [==============================] - 1s 313us/sample - loss: 1.5102 - acc: 0.5378\n",
            "Epoch 128/500\n",
            "4384/4384 [==============================] - 1s 316us/sample - loss: 1.5656 - acc: 0.5283\n",
            "Epoch 129/500\n",
            "4384/4384 [==============================] - 1s 313us/sample - loss: 1.5794 - acc: 0.5204\n",
            "Epoch 130/500\n",
            "4384/4384 [==============================] - 1s 311us/sample - loss: 1.5838 - acc: 0.5188\n",
            "Epoch 131/500\n",
            "4384/4384 [==============================] - 1s 314us/sample - loss: 1.5872 - acc: 0.5271\n",
            "Epoch 132/500\n",
            "4384/4384 [==============================] - 1s 316us/sample - loss: 1.5897 - acc: 0.5209\n",
            "Epoch 133/500\n",
            "4384/4384 [==============================] - 1s 319us/sample - loss: 1.5327 - acc: 0.5345\n",
            "Epoch 134/500\n",
            "4384/4384 [==============================] - 1s 319us/sample - loss: 1.5027 - acc: 0.5421\n",
            "Epoch 135/500\n",
            "4384/4384 [==============================] - 1s 322us/sample - loss: 1.5330 - acc: 0.5326\n",
            "Epoch 136/500\n",
            "4384/4384 [==============================] - 1s 339us/sample - loss: 1.4832 - acc: 0.5471\n",
            "Epoch 137/500\n",
            "4384/4384 [==============================] - 1s 325us/sample - loss: 1.5380 - acc: 0.5273\n",
            "Epoch 138/500\n",
            "4384/4384 [==============================] - 1s 335us/sample - loss: 1.5177 - acc: 0.5397\n",
            "Epoch 139/500\n",
            "4384/4384 [==============================] - 1s 327us/sample - loss: 1.4901 - acc: 0.5520\n",
            "Epoch 140/500\n",
            "4384/4384 [==============================] - 1s 332us/sample - loss: 1.5180 - acc: 0.5347\n",
            "Epoch 141/500\n",
            "4384/4384 [==============================] - 1s 329us/sample - loss: 1.4777 - acc: 0.5468\n",
            "Epoch 142/500\n",
            "4384/4384 [==============================] - 1s 330us/sample - loss: 1.4802 - acc: 0.5468\n",
            "Epoch 143/500\n",
            "4384/4384 [==============================] - 1s 326us/sample - loss: 1.4784 - acc: 0.5554\n",
            "Epoch 144/500\n",
            "4384/4384 [==============================] - 1s 323us/sample - loss: 1.4762 - acc: 0.5466\n",
            "Epoch 145/500\n",
            "4384/4384 [==============================] - 1s 335us/sample - loss: 1.4564 - acc: 0.5530\n",
            "Epoch 146/500\n",
            "4384/4384 [==============================] - 1s 325us/sample - loss: 1.4522 - acc: 0.5520\n",
            "Epoch 147/500\n",
            "4384/4384 [==============================] - 1s 324us/sample - loss: 1.4711 - acc: 0.5471\n",
            "Epoch 148/500\n",
            "4384/4384 [==============================] - 1s 326us/sample - loss: 1.4889 - acc: 0.5421\n",
            "Epoch 149/500\n",
            "4384/4384 [==============================] - 1s 326us/sample - loss: 1.5318 - acc: 0.5387\n",
            "Epoch 150/500\n",
            "4384/4384 [==============================] - 1s 327us/sample - loss: 1.5155 - acc: 0.5413\n",
            "Epoch 151/500\n",
            "4384/4384 [==============================] - 1s 323us/sample - loss: 1.4254 - acc: 0.5532\n",
            "Epoch 152/500\n",
            "4384/4384 [==============================] - 1s 336us/sample - loss: 1.4486 - acc: 0.5520\n",
            "Epoch 153/500\n",
            "4384/4384 [==============================] - 1s 328us/sample - loss: 1.4343 - acc: 0.5563\n",
            "Epoch 154/500\n",
            "4384/4384 [==============================] - 1s 327us/sample - loss: 1.3930 - acc: 0.5680\n",
            "Epoch 155/500\n",
            "4384/4384 [==============================] - 1s 328us/sample - loss: 1.4207 - acc: 0.5608\n",
            "Epoch 156/500\n",
            "4384/4384 [==============================] - 1s 336us/sample - loss: 1.4741 - acc: 0.5337\n",
            "Epoch 157/500\n",
            "4384/4384 [==============================] - 1s 328us/sample - loss: 1.4327 - acc: 0.5532\n",
            "Epoch 158/500\n",
            "4384/4384 [==============================] - 1s 333us/sample - loss: 1.4035 - acc: 0.5673\n",
            "Epoch 159/500\n",
            "4384/4384 [==============================] - 1s 331us/sample - loss: 1.4166 - acc: 0.5637\n",
            "Epoch 160/500\n",
            "4384/4384 [==============================] - 2s 346us/sample - loss: 1.3936 - acc: 0.5604\n",
            "Epoch 161/500\n",
            "4384/4384 [==============================] - 1s 334us/sample - loss: 1.3953 - acc: 0.5699\n",
            "Epoch 162/500\n",
            "4384/4384 [==============================] - 1s 336us/sample - loss: 1.3707 - acc: 0.5692\n",
            "Epoch 163/500\n",
            "4384/4384 [==============================] - 1s 329us/sample - loss: 1.3919 - acc: 0.5677\n",
            "Epoch 164/500\n",
            "4384/4384 [==============================] - 1s 325us/sample - loss: 1.4013 - acc: 0.5661\n",
            "Epoch 165/500\n",
            "4384/4384 [==============================] - 1s 325us/sample - loss: 1.3929 - acc: 0.5637\n",
            "Epoch 166/500\n",
            "4384/4384 [==============================] - 1s 332us/sample - loss: 1.3886 - acc: 0.5663\n",
            "Epoch 167/500\n",
            "4384/4384 [==============================] - 1s 341us/sample - loss: 1.3471 - acc: 0.5810\n",
            "Epoch 168/500\n",
            "4384/4384 [==============================] - 1s 330us/sample - loss: 1.3721 - acc: 0.5727\n",
            "Epoch 169/500\n",
            "4384/4384 [==============================] - 1s 334us/sample - loss: 1.3650 - acc: 0.5765\n",
            "Epoch 170/500\n",
            "4384/4384 [==============================] - 1s 321us/sample - loss: 1.4645 - acc: 0.5406\n",
            "Epoch 171/500\n",
            "4384/4384 [==============================] - 1s 331us/sample - loss: 1.3751 - acc: 0.5746\n",
            "Epoch 172/500\n",
            "4384/4384 [==============================] - 1s 328us/sample - loss: 1.3586 - acc: 0.5815\n",
            "Epoch 173/500\n",
            "4384/4384 [==============================] - 2s 348us/sample - loss: 1.3639 - acc: 0.5730\n",
            "Epoch 174/500\n",
            "4384/4384 [==============================] - 2s 348us/sample - loss: 1.3999 - acc: 0.5677\n",
            "Epoch 175/500\n",
            "4384/4384 [==============================] - 1s 333us/sample - loss: 1.3823 - acc: 0.5625\n",
            "Epoch 176/500\n",
            "4384/4384 [==============================] - 1s 325us/sample - loss: 1.3977 - acc: 0.5573\n",
            "Epoch 177/500\n",
            "4384/4384 [==============================] - 1s 339us/sample - loss: 1.3584 - acc: 0.5696\n",
            "Epoch 178/500\n",
            "4384/4384 [==============================] - 1s 331us/sample - loss: 1.3766 - acc: 0.5722\n",
            "Epoch 179/500\n",
            "4384/4384 [==============================] - 2s 345us/sample - loss: 1.3739 - acc: 0.5658\n",
            "Epoch 180/500\n",
            "4384/4384 [==============================] - 1s 324us/sample - loss: 1.3369 - acc: 0.5801\n",
            "Epoch 181/500\n",
            "4384/4384 [==============================] - 1s 336us/sample - loss: 1.3343 - acc: 0.5784\n",
            "Epoch 182/500\n",
            "4384/4384 [==============================] - 1s 325us/sample - loss: 1.3447 - acc: 0.5758\n",
            "Epoch 183/500\n",
            "4384/4384 [==============================] - 1s 316us/sample - loss: 1.3522 - acc: 0.5787\n",
            "Epoch 184/500\n",
            "4384/4384 [==============================] - 1s 311us/sample - loss: 1.3262 - acc: 0.5770\n",
            "Epoch 185/500\n",
            "4384/4384 [==============================] - 1s 312us/sample - loss: 1.3180 - acc: 0.5860\n",
            "Epoch 186/500\n",
            "4384/4384 [==============================] - 1s 320us/sample - loss: 1.3211 - acc: 0.5817\n",
            "Epoch 187/500\n",
            "4384/4384 [==============================] - 1s 323us/sample - loss: 1.3207 - acc: 0.5867\n",
            "Epoch 188/500\n",
            "4384/4384 [==============================] - 1s 314us/sample - loss: 1.2982 - acc: 0.5929\n",
            "Epoch 189/500\n",
            "4384/4384 [==============================] - 1s 314us/sample - loss: 1.3482 - acc: 0.5825\n",
            "Epoch 190/500\n",
            "4384/4384 [==============================] - 1s 320us/sample - loss: 1.2823 - acc: 0.5962\n",
            "Epoch 191/500\n",
            "4384/4384 [==============================] - 1s 328us/sample - loss: 1.2939 - acc: 0.5879\n",
            "Epoch 192/500\n",
            "4384/4384 [==============================] - 1s 320us/sample - loss: 1.3244 - acc: 0.5815\n",
            "Epoch 193/500\n",
            "4384/4384 [==============================] - 1s 323us/sample - loss: 1.2986 - acc: 0.5943\n",
            "Epoch 194/500\n",
            "4384/4384 [==============================] - 1s 339us/sample - loss: 1.3046 - acc: 0.5853\n",
            "Epoch 195/500\n",
            "4384/4384 [==============================] - 1s 335us/sample - loss: 1.3082 - acc: 0.5967\n",
            "Epoch 196/500\n",
            "4384/4384 [==============================] - 1s 338us/sample - loss: 1.2622 - acc: 0.5993\n",
            "Epoch 197/500\n",
            "4384/4384 [==============================] - 1s 330us/sample - loss: 1.2844 - acc: 0.5922\n",
            "Epoch 198/500\n",
            "4384/4384 [==============================] - 1s 331us/sample - loss: 1.2918 - acc: 0.5839\n",
            "Epoch 199/500\n",
            "4384/4384 [==============================] - 1s 328us/sample - loss: 1.2968 - acc: 0.5860\n",
            "Epoch 200/500\n",
            "4384/4384 [==============================] - 1s 331us/sample - loss: 1.2776 - acc: 0.5960\n",
            "Epoch 201/500\n",
            "4384/4384 [==============================] - 1s 323us/sample - loss: 1.3270 - acc: 0.5837\n",
            "Epoch 202/500\n",
            "4384/4384 [==============================] - 1s 319us/sample - loss: 1.2959 - acc: 0.5877\n",
            "Epoch 203/500\n",
            "4384/4384 [==============================] - 1s 331us/sample - loss: 1.2708 - acc: 0.5879\n",
            "Epoch 204/500\n",
            "4384/4384 [==============================] - 1s 327us/sample - loss: 1.2893 - acc: 0.5898\n",
            "Epoch 205/500\n",
            "4384/4384 [==============================] - 1s 330us/sample - loss: 1.2677 - acc: 0.5946\n",
            "Epoch 206/500\n",
            "4384/4384 [==============================] - 1s 326us/sample - loss: 1.2766 - acc: 0.5967\n",
            "Epoch 207/500\n",
            "4384/4384 [==============================] - 1s 327us/sample - loss: 1.3022 - acc: 0.5896\n",
            "Epoch 208/500\n",
            "4384/4384 [==============================] - 1s 330us/sample - loss: 1.3057 - acc: 0.5927\n",
            "Epoch 209/500\n",
            "4384/4384 [==============================] - 1s 320us/sample - loss: 1.2520 - acc: 0.5991\n",
            "Epoch 210/500\n",
            "4384/4384 [==============================] - 1s 321us/sample - loss: 1.2669 - acc: 0.6086\n",
            "Epoch 211/500\n",
            "4384/4384 [==============================] - 1s 323us/sample - loss: 1.2400 - acc: 0.6062\n",
            "Epoch 212/500\n",
            "4384/4384 [==============================] - 1s 329us/sample - loss: 1.2539 - acc: 0.5984\n",
            "Epoch 213/500\n",
            "4384/4384 [==============================] - 1s 322us/sample - loss: 1.2184 - acc: 0.6100\n",
            "Epoch 214/500\n",
            "4384/4384 [==============================] - 1s 325us/sample - loss: 1.3011 - acc: 0.5882\n",
            "Epoch 215/500\n",
            "4384/4384 [==============================] - 1s 332us/sample - loss: 1.2352 - acc: 0.6038\n",
            "Epoch 216/500\n",
            "4384/4384 [==============================] - 1s 334us/sample - loss: 1.2257 - acc: 0.6036\n",
            "Epoch 217/500\n",
            "4384/4384 [==============================] - 1s 335us/sample - loss: 1.2324 - acc: 0.6131\n",
            "Epoch 218/500\n",
            "4384/4384 [==============================] - 1s 341us/sample - loss: 1.2690 - acc: 0.5943\n",
            "Epoch 219/500\n",
            "4384/4384 [==============================] - 2s 344us/sample - loss: 1.2899 - acc: 0.5939\n",
            "Epoch 220/500\n",
            "4384/4384 [==============================] - 1s 337us/sample - loss: 1.2531 - acc: 0.6036\n",
            "Epoch 221/500\n",
            "4384/4384 [==============================] - 2s 351us/sample - loss: 1.2722 - acc: 0.5984\n",
            "Epoch 222/500\n",
            "4384/4384 [==============================] - 2s 345us/sample - loss: 1.2268 - acc: 0.6122\n",
            "Epoch 223/500\n",
            "4384/4384 [==============================] - 1s 333us/sample - loss: 1.2249 - acc: 0.6103\n",
            "Epoch 224/500\n",
            "4384/4384 [==============================] - 1s 320us/sample - loss: 1.2091 - acc: 0.6091\n",
            "Epoch 225/500\n",
            "4384/4384 [==============================] - 1s 318us/sample - loss: 1.2086 - acc: 0.6150\n",
            "Epoch 226/500\n",
            "4384/4384 [==============================] - 1s 322us/sample - loss: 1.2135 - acc: 0.6138\n",
            "Epoch 227/500\n",
            "4384/4384 [==============================] - 1s 329us/sample - loss: 1.1776 - acc: 0.6276\n",
            "Epoch 228/500\n",
            "4384/4384 [==============================] - 1s 319us/sample - loss: 1.2448 - acc: 0.6008\n",
            "Epoch 229/500\n",
            "4384/4384 [==============================] - 1s 323us/sample - loss: 1.2117 - acc: 0.6164\n",
            "Epoch 230/500\n",
            "4384/4384 [==============================] - 1s 321us/sample - loss: 1.2011 - acc: 0.6186\n",
            "Epoch 231/500\n",
            "4384/4384 [==============================] - 1s 327us/sample - loss: 1.2062 - acc: 0.6174\n",
            "Epoch 232/500\n",
            "4384/4384 [==============================] - 1s 327us/sample - loss: 1.2177 - acc: 0.6031\n",
            "Epoch 233/500\n",
            "4384/4384 [==============================] - 1s 318us/sample - loss: 1.1814 - acc: 0.6134\n",
            "Epoch 234/500\n",
            "4384/4384 [==============================] - 1s 326us/sample - loss: 1.2057 - acc: 0.6084\n",
            "Epoch 235/500\n",
            "4384/4384 [==============================] - 1s 321us/sample - loss: 1.2621 - acc: 0.5879\n",
            "Epoch 236/500\n",
            "4384/4384 [==============================] - 1s 332us/sample - loss: 1.2073 - acc: 0.6153\n",
            "Epoch 237/500\n",
            "4384/4384 [==============================] - 1s 336us/sample - loss: 1.2043 - acc: 0.6115\n",
            "Epoch 238/500\n",
            "4384/4384 [==============================] - 1s 321us/sample - loss: 1.1985 - acc: 0.6143\n",
            "Epoch 239/500\n",
            "4384/4384 [==============================] - 1s 307us/sample - loss: 1.2146 - acc: 0.6034\n",
            "Epoch 240/500\n",
            "4384/4384 [==============================] - 1s 307us/sample - loss: 1.1766 - acc: 0.6169\n",
            "Epoch 241/500\n",
            "4384/4384 [==============================] - 1s 316us/sample - loss: 1.2191 - acc: 0.6093\n",
            "Epoch 242/500\n",
            "4384/4384 [==============================] - 1s 311us/sample - loss: 1.1929 - acc: 0.6155\n",
            "Epoch 243/500\n",
            "4384/4384 [==============================] - 1s 307us/sample - loss: 1.1689 - acc: 0.6245\n",
            "Epoch 244/500\n",
            "4384/4384 [==============================] - 1s 317us/sample - loss: 1.1886 - acc: 0.6093\n",
            "Epoch 245/500\n",
            "4384/4384 [==============================] - 1s 312us/sample - loss: 1.2288 - acc: 0.6148\n",
            "Epoch 246/500\n",
            "4384/4384 [==============================] - 1s 331us/sample - loss: 1.1960 - acc: 0.6162\n",
            "Epoch 247/500\n",
            "4384/4384 [==============================] - 1s 334us/sample - loss: 1.1627 - acc: 0.6164\n",
            "Epoch 248/500\n",
            "4384/4384 [==============================] - 1s 327us/sample - loss: 1.2008 - acc: 0.6105\n",
            "Epoch 249/500\n",
            "4384/4384 [==============================] - 1s 330us/sample - loss: 1.1963 - acc: 0.6155\n",
            "Epoch 250/500\n",
            "4384/4384 [==============================] - 1s 333us/sample - loss: 1.1820 - acc: 0.6219\n",
            "Epoch 251/500\n",
            "4384/4384 [==============================] - 1s 318us/sample - loss: 1.1850 - acc: 0.6105\n",
            "Epoch 252/500\n",
            "4384/4384 [==============================] - 1s 321us/sample - loss: 1.1857 - acc: 0.6200\n",
            "Epoch 253/500\n",
            "4384/4384 [==============================] - 1s 320us/sample - loss: 1.1755 - acc: 0.6245\n",
            "Epoch 254/500\n",
            "4384/4384 [==============================] - 1s 327us/sample - loss: 1.2059 - acc: 0.6164\n",
            "Epoch 255/500\n",
            "4384/4384 [==============================] - 1s 321us/sample - loss: 1.1837 - acc: 0.6160\n",
            "Epoch 256/500\n",
            "4384/4384 [==============================] - 1s 325us/sample - loss: 1.1724 - acc: 0.6172\n",
            "Epoch 257/500\n",
            "4384/4384 [==============================] - 1s 330us/sample - loss: 1.1625 - acc: 0.6243\n",
            "Epoch 258/500\n",
            "4384/4384 [==============================] - 1s 336us/sample - loss: 1.1190 - acc: 0.6336\n",
            "Epoch 259/500\n",
            "4384/4384 [==============================] - 1s 332us/sample - loss: 1.1678 - acc: 0.6195\n",
            "Epoch 260/500\n",
            "4384/4384 [==============================] - 1s 326us/sample - loss: 1.1677 - acc: 0.6153\n",
            "Epoch 261/500\n",
            "4384/4384 [==============================] - 1s 327us/sample - loss: 1.1328 - acc: 0.6302\n",
            "Epoch 262/500\n",
            "4384/4384 [==============================] - 1s 332us/sample - loss: 1.1456 - acc: 0.6298\n",
            "Epoch 263/500\n",
            "4384/4384 [==============================] - 1s 336us/sample - loss: 1.1390 - acc: 0.6298\n",
            "Epoch 264/500\n",
            "4384/4384 [==============================] - 1s 338us/sample - loss: 1.1509 - acc: 0.6238\n",
            "Epoch 265/500\n",
            "4384/4384 [==============================] - 1s 322us/sample - loss: 1.1619 - acc: 0.6191\n",
            "Epoch 266/500\n",
            "4384/4384 [==============================] - 1s 324us/sample - loss: 1.1467 - acc: 0.6305\n",
            "Epoch 267/500\n",
            "4384/4384 [==============================] - 1s 320us/sample - loss: 1.2036 - acc: 0.6098\n",
            "Epoch 268/500\n",
            "4384/4384 [==============================] - 1s 318us/sample - loss: 1.1771 - acc: 0.6240\n",
            "Epoch 269/500\n",
            "4384/4384 [==============================] - 1s 328us/sample - loss: 1.1414 - acc: 0.6267\n",
            "Epoch 270/500\n",
            "4384/4384 [==============================] - 1s 331us/sample - loss: 1.1322 - acc: 0.6281\n",
            "Epoch 271/500\n",
            "4384/4384 [==============================] - 1s 336us/sample - loss: 1.1397 - acc: 0.6288\n",
            "Epoch 272/500\n",
            "4384/4384 [==============================] - 1s 331us/sample - loss: 1.1859 - acc: 0.6221\n",
            "Epoch 273/500\n",
            "4384/4384 [==============================] - 1s 325us/sample - loss: 1.1288 - acc: 0.6248\n",
            "Epoch 274/500\n",
            "4384/4384 [==============================] - 1s 328us/sample - loss: 1.1144 - acc: 0.6381\n",
            "Epoch 275/500\n",
            "4384/4384 [==============================] - 1s 337us/sample - loss: 1.1372 - acc: 0.6309\n",
            "Epoch 276/500\n",
            "4384/4384 [==============================] - 1s 334us/sample - loss: 1.1326 - acc: 0.6257\n",
            "Epoch 277/500\n",
            "4384/4384 [==============================] - 1s 340us/sample - loss: 1.1398 - acc: 0.6309\n",
            "Epoch 278/500\n",
            "4384/4384 [==============================] - 1s 337us/sample - loss: 1.1593 - acc: 0.6217\n",
            "Epoch 279/500\n",
            "4384/4384 [==============================] - 1s 324us/sample - loss: 1.1284 - acc: 0.6305\n",
            "Epoch 280/500\n",
            "4384/4384 [==============================] - 1s 321us/sample - loss: 1.1089 - acc: 0.6328\n",
            "Epoch 281/500\n",
            "4384/4384 [==============================] - 1s 327us/sample - loss: 1.1414 - acc: 0.6290\n",
            "Epoch 282/500\n",
            "4384/4384 [==============================] - 1s 322us/sample - loss: 1.1400 - acc: 0.6369\n",
            "Epoch 283/500\n",
            "4384/4384 [==============================] - 1s 331us/sample - loss: 1.1982 - acc: 0.6188\n",
            "Epoch 284/500\n",
            "4384/4384 [==============================] - 1s 321us/sample - loss: 1.1956 - acc: 0.6172\n",
            "Epoch 285/500\n",
            "4384/4384 [==============================] - 1s 321us/sample - loss: 1.0911 - acc: 0.6407\n",
            "Epoch 286/500\n",
            "4384/4384 [==============================] - 1s 319us/sample - loss: 1.1265 - acc: 0.6250\n",
            "Epoch 287/500\n",
            "4384/4384 [==============================] - 1s 329us/sample - loss: 1.1261 - acc: 0.6336\n",
            "Epoch 288/500\n",
            "4384/4384 [==============================] - 1s 327us/sample - loss: 1.0924 - acc: 0.6393\n",
            "Epoch 289/500\n",
            "4384/4384 [==============================] - 1s 324us/sample - loss: 1.1132 - acc: 0.6340\n",
            "Epoch 290/500\n",
            "4384/4384 [==============================] - 1s 327us/sample - loss: 1.0893 - acc: 0.6492\n",
            "Epoch 291/500\n",
            "4384/4384 [==============================] - 1s 333us/sample - loss: 1.1274 - acc: 0.6347\n",
            "Epoch 292/500\n",
            "4384/4384 [==============================] - 1s 331us/sample - loss: 1.1095 - acc: 0.6366\n",
            "Epoch 293/500\n",
            "4384/4384 [==============================] - 1s 326us/sample - loss: 1.1159 - acc: 0.6374\n",
            "Epoch 294/500\n",
            "4384/4384 [==============================] - 1s 320us/sample - loss: 1.1152 - acc: 0.6336\n",
            "Epoch 295/500\n",
            "4384/4384 [==============================] - 1s 315us/sample - loss: 1.0992 - acc: 0.6412\n",
            "Epoch 296/500\n",
            "4384/4384 [==============================] - 1s 316us/sample - loss: 1.1187 - acc: 0.6309\n",
            "Epoch 297/500\n",
            "4384/4384 [==============================] - 1s 315us/sample - loss: 1.1022 - acc: 0.6395\n",
            "Epoch 298/500\n",
            "4384/4384 [==============================] - 1s 314us/sample - loss: 1.0688 - acc: 0.6504\n",
            "Epoch 299/500\n",
            "4384/4384 [==============================] - 1s 319us/sample - loss: 1.0976 - acc: 0.6388\n",
            "Epoch 300/500\n",
            "4384/4384 [==============================] - 1s 308us/sample - loss: 1.1173 - acc: 0.6317\n",
            "Epoch 301/500\n",
            "4384/4384 [==============================] - 1s 315us/sample - loss: 1.1140 - acc: 0.6366\n",
            "Epoch 302/500\n",
            "4384/4384 [==============================] - 1s 330us/sample - loss: 1.1085 - acc: 0.6350\n",
            "Epoch 303/500\n",
            "4384/4384 [==============================] - 1s 320us/sample - loss: 1.0965 - acc: 0.6385\n",
            "Epoch 304/500\n",
            "4384/4384 [==============================] - 1s 324us/sample - loss: 1.1023 - acc: 0.6423\n",
            "Epoch 305/500\n",
            "4384/4384 [==============================] - 1s 326us/sample - loss: 1.1111 - acc: 0.6393\n",
            "Epoch 306/500\n",
            "4384/4384 [==============================] - 1s 335us/sample - loss: 1.0799 - acc: 0.6404\n",
            "Epoch 307/500\n",
            "4384/4384 [==============================] - 1s 320us/sample - loss: 1.0783 - acc: 0.6428\n",
            "Epoch 308/500\n",
            "4384/4384 [==============================] - 1s 333us/sample - loss: 1.0738 - acc: 0.6483\n",
            "Epoch 309/500\n",
            "4384/4384 [==============================] - 1s 319us/sample - loss: 1.0589 - acc: 0.6485\n",
            "Epoch 310/500\n",
            "4384/4384 [==============================] - 1s 328us/sample - loss: 1.0973 - acc: 0.6397\n",
            "Epoch 311/500\n",
            "4384/4384 [==============================] - 1s 323us/sample - loss: 1.0846 - acc: 0.6440\n",
            "Epoch 312/500\n",
            "4384/4384 [==============================] - 1s 320us/sample - loss: 1.1983 - acc: 0.6252\n",
            "Epoch 313/500\n",
            "4384/4384 [==============================] - 1s 335us/sample - loss: 1.0619 - acc: 0.6485\n",
            "Epoch 314/500\n",
            "4384/4384 [==============================] - 1s 322us/sample - loss: 1.0771 - acc: 0.6433\n",
            "Epoch 315/500\n",
            "4384/4384 [==============================] - 1s 327us/sample - loss: 1.0836 - acc: 0.6419\n",
            "Epoch 316/500\n",
            "4384/4384 [==============================] - 1s 340us/sample - loss: 1.0834 - acc: 0.6409\n",
            "Epoch 317/500\n",
            "4384/4384 [==============================] - 1s 326us/sample - loss: 1.1083 - acc: 0.6390\n",
            "Epoch 318/500\n",
            "4384/4384 [==============================] - 1s 330us/sample - loss: 1.1153 - acc: 0.6385\n",
            "Epoch 319/500\n",
            "4384/4384 [==============================] - 1s 332us/sample - loss: 1.0628 - acc: 0.6478\n",
            "Epoch 320/500\n",
            "4384/4384 [==============================] - 1s 326us/sample - loss: 1.0620 - acc: 0.6438\n",
            "Epoch 321/500\n",
            "4384/4384 [==============================] - 1s 319us/sample - loss: 1.0751 - acc: 0.6352\n",
            "Epoch 322/500\n",
            "4384/4384 [==============================] - 1s 336us/sample - loss: 1.0974 - acc: 0.6400\n",
            "Epoch 323/500\n",
            "4384/4384 [==============================] - 1s 331us/sample - loss: 1.0726 - acc: 0.6483\n",
            "Epoch 324/500\n",
            "4384/4384 [==============================] - 1s 327us/sample - loss: 1.0442 - acc: 0.6526\n",
            "Epoch 325/500\n",
            "4384/4384 [==============================] - 1s 324us/sample - loss: 1.0414 - acc: 0.6597\n",
            "Epoch 326/500\n",
            "4384/4384 [==============================] - 1s 327us/sample - loss: 1.0822 - acc: 0.6440\n",
            "Epoch 327/500\n",
            "4384/4384 [==============================] - 1s 334us/sample - loss: 1.0434 - acc: 0.6533\n",
            "Epoch 328/500\n",
            "4384/4384 [==============================] - 1s 326us/sample - loss: 1.0932 - acc: 0.6454\n",
            "Epoch 329/500\n",
            "4384/4384 [==============================] - 1s 327us/sample - loss: 1.0668 - acc: 0.6557\n",
            "Epoch 330/500\n",
            "4384/4384 [==============================] - 1s 326us/sample - loss: 1.0385 - acc: 0.6507\n",
            "Epoch 331/500\n",
            "4384/4384 [==============================] - 1s 325us/sample - loss: 1.0677 - acc: 0.6478\n",
            "Epoch 332/500\n",
            "4384/4384 [==============================] - 1s 338us/sample - loss: 1.0968 - acc: 0.6343\n",
            "Epoch 333/500\n",
            "4384/4384 [==============================] - 1s 327us/sample - loss: 1.0669 - acc: 0.6419\n",
            "Epoch 334/500\n",
            "4384/4384 [==============================] - 1s 325us/sample - loss: 1.1388 - acc: 0.6350\n",
            "Epoch 335/500\n",
            "4384/4384 [==============================] - 1s 324us/sample - loss: 1.0847 - acc: 0.6442\n",
            "Epoch 336/500\n",
            "4384/4384 [==============================] - 1s 333us/sample - loss: 1.0456 - acc: 0.6576\n",
            "Epoch 337/500\n",
            "4384/4384 [==============================] - 1s 326us/sample - loss: 1.0289 - acc: 0.6511\n",
            "Epoch 338/500\n",
            "4384/4384 [==============================] - 1s 332us/sample - loss: 1.0395 - acc: 0.6511\n",
            "Epoch 339/500\n",
            "4384/4384 [==============================] - 1s 332us/sample - loss: 1.0918 - acc: 0.6388\n",
            "Epoch 340/500\n",
            "4384/4384 [==============================] - 1s 326us/sample - loss: 1.0472 - acc: 0.6587\n",
            "Epoch 341/500\n",
            "4384/4384 [==============================] - 1s 330us/sample - loss: 1.0292 - acc: 0.6528\n",
            "Epoch 342/500\n",
            "4384/4384 [==============================] - 1s 330us/sample - loss: 1.0874 - acc: 0.6385\n",
            "Epoch 343/500\n",
            "4384/4384 [==============================] - 1s 333us/sample - loss: 1.0518 - acc: 0.6502\n",
            "Epoch 344/500\n",
            "4384/4384 [==============================] - 1s 327us/sample - loss: 1.0734 - acc: 0.6428\n",
            "Epoch 345/500\n",
            "4384/4384 [==============================] - 1s 325us/sample - loss: 1.0664 - acc: 0.6469\n",
            "Epoch 346/500\n",
            "4384/4384 [==============================] - 1s 333us/sample - loss: 1.0449 - acc: 0.6580\n",
            "Epoch 347/500\n",
            "4384/4384 [==============================] - 1s 322us/sample - loss: 1.0608 - acc: 0.6435\n",
            "Epoch 348/500\n",
            "4384/4384 [==============================] - 1s 322us/sample - loss: 1.0640 - acc: 0.6495\n",
            "Epoch 349/500\n",
            "4384/4384 [==============================] - 1s 333us/sample - loss: 1.0627 - acc: 0.6462\n",
            "Epoch 350/500\n",
            "4384/4384 [==============================] - 1s 324us/sample - loss: 1.0309 - acc: 0.6542\n",
            "Epoch 351/500\n",
            "4384/4384 [==============================] - 1s 311us/sample - loss: 1.0261 - acc: 0.6621\n",
            "Epoch 352/500\n",
            "4384/4384 [==============================] - 1s 309us/sample - loss: 1.0628 - acc: 0.6490\n",
            "Epoch 353/500\n",
            "4384/4384 [==============================] - 1s 311us/sample - loss: 1.0265 - acc: 0.6561\n",
            "Epoch 354/500\n",
            "4384/4384 [==============================] - 1s 315us/sample - loss: 1.0268 - acc: 0.6580\n",
            "Epoch 355/500\n",
            "4384/4384 [==============================] - 1s 324us/sample - loss: 1.0238 - acc: 0.6564\n",
            "Epoch 356/500\n",
            "4384/4384 [==============================] - 1s 315us/sample - loss: 1.0030 - acc: 0.6680\n",
            "Epoch 357/500\n",
            "4384/4384 [==============================] - 1s 323us/sample - loss: 1.0241 - acc: 0.6630\n",
            "Epoch 358/500\n",
            "4384/4384 [==============================] - 1s 332us/sample - loss: 1.0356 - acc: 0.6545\n",
            "Epoch 359/500\n",
            "4384/4384 [==============================] - 1s 320us/sample - loss: 0.9911 - acc: 0.6725\n",
            "Epoch 360/500\n",
            "4384/4384 [==============================] - 1s 322us/sample - loss: 0.9914 - acc: 0.6718\n",
            "Epoch 361/500\n",
            "4384/4384 [==============================] - 1s 338us/sample - loss: 1.0583 - acc: 0.6490\n",
            "Epoch 362/500\n",
            "4384/4384 [==============================] - 1s 329us/sample - loss: 1.0711 - acc: 0.6433\n",
            "Epoch 363/500\n",
            "4384/4384 [==============================] - 1s 332us/sample - loss: 1.0323 - acc: 0.6521\n",
            "Epoch 364/500\n",
            "4384/4384 [==============================] - 1s 327us/sample - loss: 1.0380 - acc: 0.6507\n",
            "Epoch 365/500\n",
            "4384/4384 [==============================] - 1s 325us/sample - loss: 1.0516 - acc: 0.6573\n",
            "Epoch 366/500\n",
            "4384/4384 [==============================] - 1s 325us/sample - loss: 1.0471 - acc: 0.6438\n",
            "Epoch 367/500\n",
            "4384/4384 [==============================] - 1s 326us/sample - loss: 1.0406 - acc: 0.6545\n",
            "Epoch 368/500\n",
            "4384/4384 [==============================] - 1s 323us/sample - loss: 1.0067 - acc: 0.6609\n",
            "Epoch 369/500\n",
            "4384/4384 [==============================] - 1s 341us/sample - loss: 1.0382 - acc: 0.6504\n",
            "Epoch 370/500\n",
            "4384/4384 [==============================] - 1s 327us/sample - loss: 1.0777 - acc: 0.6433\n",
            "Epoch 371/500\n",
            "4384/4384 [==============================] - 1s 324us/sample - loss: 1.0517 - acc: 0.6523\n",
            "Epoch 372/500\n",
            "4384/4384 [==============================] - 1s 338us/sample - loss: 1.0570 - acc: 0.6521\n",
            "Epoch 373/500\n",
            "4384/4384 [==============================] - 1s 326us/sample - loss: 1.0512 - acc: 0.6516\n",
            "Epoch 374/500\n",
            "4384/4384 [==============================] - 1s 328us/sample - loss: 1.0515 - acc: 0.6502\n",
            "Epoch 375/500\n",
            "4384/4384 [==============================] - 1s 334us/sample - loss: 0.9964 - acc: 0.6623\n",
            "Epoch 376/500\n",
            "4384/4384 [==============================] - 1s 334us/sample - loss: 0.9933 - acc: 0.6595\n",
            "Epoch 377/500\n",
            "4384/4384 [==============================] - 1s 330us/sample - loss: 1.0097 - acc: 0.6606\n",
            "Epoch 378/500\n",
            "4384/4384 [==============================] - 1s 324us/sample - loss: 0.9931 - acc: 0.6652\n",
            "Epoch 379/500\n",
            "4384/4384 [==============================] - 1s 322us/sample - loss: 1.0084 - acc: 0.6640\n",
            "Epoch 380/500\n",
            "4384/4384 [==============================] - 1s 327us/sample - loss: 1.0091 - acc: 0.6597\n",
            "Epoch 381/500\n",
            "4384/4384 [==============================] - 1s 326us/sample - loss: 1.0112 - acc: 0.6630\n",
            "Epoch 382/500\n",
            "4384/4384 [==============================] - 1s 326us/sample - loss: 1.0040 - acc: 0.6595\n",
            "Epoch 383/500\n",
            "4384/4384 [==============================] - 1s 332us/sample - loss: 1.0001 - acc: 0.6687\n",
            "Epoch 384/500\n",
            "4384/4384 [==============================] - 1s 335us/sample - loss: 0.9951 - acc: 0.6630\n",
            "Epoch 385/500\n",
            "4384/4384 [==============================] - 1s 338us/sample - loss: 1.0406 - acc: 0.6523\n",
            "Epoch 386/500\n",
            "4384/4384 [==============================] - 1s 330us/sample - loss: 1.0161 - acc: 0.6590\n",
            "Epoch 387/500\n",
            "4384/4384 [==============================] - 1s 331us/sample - loss: 1.0167 - acc: 0.6616\n",
            "Epoch 388/500\n",
            "4384/4384 [==============================] - 1s 329us/sample - loss: 1.0109 - acc: 0.6659\n",
            "Epoch 389/500\n",
            "4384/4384 [==============================] - 1s 330us/sample - loss: 1.0013 - acc: 0.6640\n",
            "Epoch 390/500\n",
            "4384/4384 [==============================] - 1s 336us/sample - loss: 0.9785 - acc: 0.6709\n",
            "Epoch 391/500\n",
            "4384/4384 [==============================] - 1s 328us/sample - loss: 1.1008 - acc: 0.6345\n",
            "Epoch 392/500\n",
            "4384/4384 [==============================] - 1s 331us/sample - loss: 1.0267 - acc: 0.6568\n",
            "Epoch 393/500\n",
            "4384/4384 [==============================] - 1s 326us/sample - loss: 0.9813 - acc: 0.6713\n",
            "Epoch 394/500\n",
            "4384/4384 [==============================] - 1s 331us/sample - loss: 0.9804 - acc: 0.6668\n",
            "Epoch 395/500\n",
            "4384/4384 [==============================] - 1s 327us/sample - loss: 1.0250 - acc: 0.6583\n",
            "Epoch 396/500\n",
            "4384/4384 [==============================] - 1s 324us/sample - loss: 0.9807 - acc: 0.6694\n",
            "Epoch 397/500\n",
            "4384/4384 [==============================] - 1s 328us/sample - loss: 0.9640 - acc: 0.6678\n",
            "Epoch 398/500\n",
            "4384/4384 [==============================] - 1s 330us/sample - loss: 0.9752 - acc: 0.6756\n",
            "Epoch 399/500\n",
            "4384/4384 [==============================] - 1s 331us/sample - loss: 1.0282 - acc: 0.6611\n",
            "Epoch 400/500\n",
            "4384/4384 [==============================] - 1s 318us/sample - loss: 1.0104 - acc: 0.6642\n",
            "Epoch 401/500\n",
            "4384/4384 [==============================] - 1s 323us/sample - loss: 0.9991 - acc: 0.6552\n",
            "Epoch 402/500\n",
            "4384/4384 [==============================] - 1s 321us/sample - loss: 1.0231 - acc: 0.6602\n",
            "Epoch 403/500\n",
            "4384/4384 [==============================] - 1s 327us/sample - loss: 1.0246 - acc: 0.6580\n",
            "Epoch 404/500\n",
            "4384/4384 [==============================] - 1s 335us/sample - loss: 0.9758 - acc: 0.6711\n",
            "Epoch 405/500\n",
            "4384/4384 [==============================] - 1s 324us/sample - loss: 0.9952 - acc: 0.6630\n",
            "Epoch 406/500\n",
            "4384/4384 [==============================] - 1s 332us/sample - loss: 0.9682 - acc: 0.6780\n",
            "Epoch 407/500\n",
            "4384/4384 [==============================] - 1s 325us/sample - loss: 0.9585 - acc: 0.6773\n",
            "Epoch 408/500\n",
            "4384/4384 [==============================] - 1s 337us/sample - loss: 0.9841 - acc: 0.6635\n",
            "Epoch 409/500\n",
            "4384/4384 [==============================] - 1s 326us/sample - loss: 0.9736 - acc: 0.6697\n",
            "Epoch 410/500\n",
            "4384/4384 [==============================] - 1s 325us/sample - loss: 0.9841 - acc: 0.6687\n",
            "Epoch 411/500\n",
            "4384/4384 [==============================] - 1s 313us/sample - loss: 0.9818 - acc: 0.6723\n",
            "Epoch 412/500\n",
            "4384/4384 [==============================] - 1s 312us/sample - loss: 0.9858 - acc: 0.6697\n",
            "Epoch 413/500\n",
            "4384/4384 [==============================] - 1s 319us/sample - loss: 0.9545 - acc: 0.6732\n",
            "Epoch 414/500\n",
            "4384/4384 [==============================] - 1s 324us/sample - loss: 0.9878 - acc: 0.6690\n",
            "Epoch 415/500\n",
            "4384/4384 [==============================] - 1s 320us/sample - loss: 1.0331 - acc: 0.6564\n",
            "Epoch 416/500\n",
            "4384/4384 [==============================] - 1s 324us/sample - loss: 1.0042 - acc: 0.6656\n",
            "Epoch 417/500\n",
            "4384/4384 [==============================] - 1s 329us/sample - loss: 0.9990 - acc: 0.6592\n",
            "Epoch 418/500\n",
            "4384/4384 [==============================] - 1s 326us/sample - loss: 0.9980 - acc: 0.6668\n",
            "Epoch 419/500\n",
            "4384/4384 [==============================] - 1s 327us/sample - loss: 1.0149 - acc: 0.6595\n",
            "Epoch 420/500\n",
            "4384/4384 [==============================] - 1s 324us/sample - loss: 0.9834 - acc: 0.6633\n",
            "Epoch 421/500\n",
            "4384/4384 [==============================] - 1s 324us/sample - loss: 1.0042 - acc: 0.6592\n",
            "Epoch 422/500\n",
            "4384/4384 [==============================] - 1s 324us/sample - loss: 0.9585 - acc: 0.6747\n",
            "Epoch 423/500\n",
            "4384/4384 [==============================] - 1s 322us/sample - loss: 0.9888 - acc: 0.6611\n",
            "Epoch 424/500\n",
            "4384/4384 [==============================] - 1s 327us/sample - loss: 0.9888 - acc: 0.6680\n",
            "Epoch 425/500\n",
            "4384/4384 [==============================] - 1s 335us/sample - loss: 0.9891 - acc: 0.6644\n",
            "Epoch 426/500\n",
            "4384/4384 [==============================] - 1s 334us/sample - loss: 1.0014 - acc: 0.6683\n",
            "Epoch 427/500\n",
            "4384/4384 [==============================] - 1s 334us/sample - loss: 0.9742 - acc: 0.6644\n",
            "Epoch 428/500\n",
            "4384/4384 [==============================] - 1s 327us/sample - loss: 0.9528 - acc: 0.6716\n",
            "Epoch 429/500\n",
            "4384/4384 [==============================] - 1s 328us/sample - loss: 0.9305 - acc: 0.6759\n",
            "Epoch 430/500\n",
            "4384/4384 [==============================] - 1s 327us/sample - loss: 0.9358 - acc: 0.6863\n",
            "Epoch 431/500\n",
            "4384/4384 [==============================] - 1s 329us/sample - loss: 0.9894 - acc: 0.6642\n",
            "Epoch 432/500\n",
            "4384/4384 [==============================] - 1s 324us/sample - loss: 0.9741 - acc: 0.6673\n",
            "Epoch 433/500\n",
            "4384/4384 [==============================] - 1s 337us/sample - loss: 1.0078 - acc: 0.6675\n",
            "Epoch 434/500\n",
            "4384/4384 [==============================] - 1s 340us/sample - loss: 0.9800 - acc: 0.6621\n",
            "Epoch 435/500\n",
            "4384/4384 [==============================] - 2s 346us/sample - loss: 0.9756 - acc: 0.6713\n",
            "Epoch 436/500\n",
            "4384/4384 [==============================] - 1s 338us/sample - loss: 1.0247 - acc: 0.6611\n",
            "Epoch 437/500\n",
            "4384/4384 [==============================] - 1s 341us/sample - loss: 0.9764 - acc: 0.6725\n",
            "Epoch 438/500\n",
            "4384/4384 [==============================] - 1s 339us/sample - loss: 0.9413 - acc: 0.6842\n",
            "Epoch 439/500\n",
            "4384/4384 [==============================] - 1s 339us/sample - loss: 0.9405 - acc: 0.6761\n",
            "Epoch 440/500\n",
            "4384/4384 [==============================] - 1s 326us/sample - loss: 0.9493 - acc: 0.6732\n",
            "Epoch 441/500\n",
            "4384/4384 [==============================] - 1s 326us/sample - loss: 0.9486 - acc: 0.6778\n",
            "Epoch 442/500\n",
            "4384/4384 [==============================] - 1s 321us/sample - loss: 0.9554 - acc: 0.6732\n",
            "Epoch 443/500\n",
            "4384/4384 [==============================] - 1s 314us/sample - loss: 0.9627 - acc: 0.6756\n",
            "Epoch 444/500\n",
            "4384/4384 [==============================] - 1s 338us/sample - loss: 0.9573 - acc: 0.6782\n",
            "Epoch 445/500\n",
            "4384/4384 [==============================] - 1s 322us/sample - loss: 0.9740 - acc: 0.6697\n",
            "Epoch 446/500\n",
            "4384/4384 [==============================] - 1s 326us/sample - loss: 0.9611 - acc: 0.6716\n",
            "Epoch 447/500\n",
            "4384/4384 [==============================] - 1s 323us/sample - loss: 0.9469 - acc: 0.6759\n",
            "Epoch 448/500\n",
            "4384/4384 [==============================] - 1s 326us/sample - loss: 0.9198 - acc: 0.6887\n",
            "Epoch 449/500\n",
            "4384/4384 [==============================] - 1s 335us/sample - loss: 0.9247 - acc: 0.6875\n",
            "Epoch 450/500\n",
            "4384/4384 [==============================] - 1s 320us/sample - loss: 0.9660 - acc: 0.6692\n",
            "Epoch 451/500\n",
            "4384/4384 [==============================] - 1s 319us/sample - loss: 0.9512 - acc: 0.6690\n",
            "Epoch 452/500\n",
            "4384/4384 [==============================] - 1s 334us/sample - loss: 0.9543 - acc: 0.6699\n",
            "Epoch 453/500\n",
            "4384/4384 [==============================] - 1s 323us/sample - loss: 0.9794 - acc: 0.6606\n",
            "Epoch 454/500\n",
            "4384/4384 [==============================] - 1s 329us/sample - loss: 0.9616 - acc: 0.6732\n",
            "Epoch 455/500\n",
            "4384/4384 [==============================] - 1s 335us/sample - loss: 1.0046 - acc: 0.6642\n",
            "Epoch 456/500\n",
            "4384/4384 [==============================] - 1s 333us/sample - loss: 0.9607 - acc: 0.6659\n",
            "Epoch 457/500\n",
            "4384/4384 [==============================] - 1s 335us/sample - loss: 0.9605 - acc: 0.6759\n",
            "Epoch 458/500\n",
            "4384/4384 [==============================] - 1s 324us/sample - loss: 0.9363 - acc: 0.6842\n",
            "Epoch 459/500\n",
            "4384/4384 [==============================] - 1s 327us/sample - loss: 0.9331 - acc: 0.6797\n",
            "Epoch 460/500\n",
            "4384/4384 [==============================] - 1s 325us/sample - loss: 0.9427 - acc: 0.6830\n",
            "Epoch 461/500\n",
            "4384/4384 [==============================] - 1s 321us/sample - loss: 0.9728 - acc: 0.6747\n",
            "Epoch 462/500\n",
            "4384/4384 [==============================] - 1s 317us/sample - loss: 0.9504 - acc: 0.6749\n",
            "Epoch 463/500\n",
            "4384/4384 [==============================] - 1s 307us/sample - loss: 0.9551 - acc: 0.6740\n",
            "Epoch 464/500\n",
            "4384/4384 [==============================] - 1s 314us/sample - loss: 0.9239 - acc: 0.6813\n",
            "Epoch 465/500\n",
            "4384/4384 [==============================] - 1s 311us/sample - loss: 0.9045 - acc: 0.6911\n",
            "Epoch 466/500\n",
            "4384/4384 [==============================] - 1s 305us/sample - loss: 0.9405 - acc: 0.6839\n",
            "Epoch 467/500\n",
            "4384/4384 [==============================] - 1s 305us/sample - loss: 0.9822 - acc: 0.6649\n",
            "Epoch 468/500\n",
            "4384/4384 [==============================] - 1s 306us/sample - loss: 0.9752 - acc: 0.6713\n",
            "Epoch 469/500\n",
            "4384/4384 [==============================] - 1s 317us/sample - loss: 0.9428 - acc: 0.6732\n",
            "Epoch 470/500\n",
            "4384/4384 [==============================] - 1s 327us/sample - loss: 0.9663 - acc: 0.6721\n",
            "Epoch 471/500\n",
            "4384/4384 [==============================] - 1s 334us/sample - loss: 0.9245 - acc: 0.6808\n",
            "Epoch 472/500\n",
            "4384/4384 [==============================] - 1s 320us/sample - loss: 0.9836 - acc: 0.6728\n",
            "Epoch 473/500\n",
            "4384/4384 [==============================] - 1s 336us/sample - loss: 0.9724 - acc: 0.6730\n",
            "Epoch 474/500\n",
            "4384/4384 [==============================] - 1s 325us/sample - loss: 0.9790 - acc: 0.6671\n",
            "Epoch 475/500\n",
            "4384/4384 [==============================] - 1s 330us/sample - loss: 0.9535 - acc: 0.6763\n",
            "Epoch 476/500\n",
            "4384/4384 [==============================] - 1s 328us/sample - loss: 0.9349 - acc: 0.6782\n",
            "Epoch 477/500\n",
            "4384/4384 [==============================] - 1s 326us/sample - loss: 0.9489 - acc: 0.6775\n",
            "Epoch 478/500\n",
            "4384/4384 [==============================] - 1s 330us/sample - loss: 0.9096 - acc: 0.6799\n",
            "Epoch 479/500\n",
            "4384/4384 [==============================] - 1s 324us/sample - loss: 0.9252 - acc: 0.6856\n",
            "Epoch 480/500\n",
            "4384/4384 [==============================] - 1s 326us/sample - loss: 0.9249 - acc: 0.6861\n",
            "Epoch 481/500\n",
            "4384/4384 [==============================] - 1s 325us/sample - loss: 0.9103 - acc: 0.6849\n",
            "Epoch 482/500\n",
            "4384/4384 [==============================] - 1s 327us/sample - loss: 0.9872 - acc: 0.6761\n",
            "Epoch 483/500\n",
            "4384/4384 [==============================] - 1s 323us/sample - loss: 0.9511 - acc: 0.6704\n",
            "Epoch 484/500\n",
            "4384/4384 [==============================] - 1s 326us/sample - loss: 0.9393 - acc: 0.6770\n",
            "Epoch 485/500\n",
            "4384/4384 [==============================] - 1s 323us/sample - loss: 0.9274 - acc: 0.6792\n",
            "Epoch 486/500\n",
            "4384/4384 [==============================] - 1s 337us/sample - loss: 0.9341 - acc: 0.6870\n",
            "Epoch 487/500\n",
            "4384/4384 [==============================] - 1s 326us/sample - loss: 0.9825 - acc: 0.6713\n",
            "Epoch 488/500\n",
            "4384/4384 [==============================] - 1s 330us/sample - loss: 0.9770 - acc: 0.6683\n",
            "Epoch 489/500\n",
            "4384/4384 [==============================] - 1s 328us/sample - loss: 0.9185 - acc: 0.6875\n",
            "Epoch 490/500\n",
            "4384/4384 [==============================] - 1s 326us/sample - loss: 0.9359 - acc: 0.6863\n",
            "Epoch 491/500\n",
            "4384/4384 [==============================] - 1s 323us/sample - loss: 0.9236 - acc: 0.6858\n",
            "Epoch 492/500\n",
            "4384/4384 [==============================] - 1s 331us/sample - loss: 0.9575 - acc: 0.6775\n",
            "Epoch 493/500\n",
            "4384/4384 [==============================] - 1s 322us/sample - loss: 0.9010 - acc: 0.6956\n",
            "Epoch 494/500\n",
            "4384/4384 [==============================] - 1s 326us/sample - loss: 0.8916 - acc: 0.6887\n",
            "Epoch 495/500\n",
            "4384/4384 [==============================] - 1s 325us/sample - loss: 0.9285 - acc: 0.6868\n",
            "Epoch 496/500\n",
            "4384/4384 [==============================] - 1s 329us/sample - loss: 0.9336 - acc: 0.6789\n",
            "Epoch 497/500\n",
            "4384/4384 [==============================] - 1s 338us/sample - loss: 0.9199 - acc: 0.6877\n",
            "Epoch 498/500\n",
            "4384/4384 [==============================] - 1s 330us/sample - loss: 0.9078 - acc: 0.6835\n",
            "Epoch 499/500\n",
            "4384/4384 [==============================] - 1s 329us/sample - loss: 0.9530 - acc: 0.6785\n",
            "Epoch 500/500\n",
            "4384/4384 [==============================] - 1s 329us/sample - loss: 0.9216 - acc: 0.6770\n"
          ],
          "name": "stdout"
        },
        {
          "output_type": "execute_result",
          "data": {
            "text/plain": [
              "<tensorflow.python.keras.callbacks.History at 0x7f03ebf0cb38>"
            ]
          },
          "metadata": {
            "tags": []
          },
          "execution_count": 25
        }
      ]
    },
    {
      "metadata": {
        "id": "YzZe48vENjUN",
        "colab_type": "code",
        "outputId": "f38c5134-56de-4aeb-bd71-1a1bc617b0a2",
        "colab": {
          "base_uri": "https://localhost:8080/",
          "height": 361
        }
      },
      "cell_type": "code",
      "source": [
        "# Create the plot\n",
        "plt.plot(tpu_model.history.history['acc'], 'r', label = 'accuracy')\n",
        "plt.plot(tpu_model.history.history['loss'], 'b', label = 'loss')\n",
        "plt.xlabel('Epochs')\n",
        "plt.ylabel('Validation score')\n",
        "plt.legend()\n",
        "plt.show()"
      ],
      "execution_count": 28,
      "outputs": [
        {
          "output_type": "display_data",
          "data": {
            "image/png": "[encoded data removed]",
            "text/plain": [
              "<Figure size 576x396 with 1 Axes>"
            ]
          },
          "metadata": {
            "tags": []
          }
        }
      ]
    },
    {
      "metadata": {
        "id": "ueawbr1eGsVL",
        "colab_type": "code",
        "outputId": "eba324fb-c4d6-4d49-e529-7a973cc63537",
        "colab": {
          "base_uri": "https://localhost:8080/",
          "height": 177
        }
      },
      "cell_type": "code",
      "source": [
        "cpu_model = tpu_model.sync_to_cpu()"
      ],
      "execution_count": 29,
      "outputs": [
        {
          "output_type": "stream",
          "text": [
            "INFO:tensorflow:Copying TPU weights to the CPU\n",
            "INFO:tensorflow:TPU -> CPU lr: 0.0010000000474974513\n",
            "INFO:tensorflow:TPU -> CPU beta_1: 0.8999999761581421\n",
            "INFO:tensorflow:TPU -> CPU beta_2: 0.9990000128746033\n",
            "INFO:tensorflow:TPU -> CPU decay: 0.0\n",
            "INFO:tensorflow:TPU -> CPU epsilon: 1e-07\n",
            "WARNING:tensorflow:Cannot update non-variable config: epsilon\n",
            "INFO:tensorflow:TPU -> CPU amsgrad: False\n",
            "WARNING:tensorflow:Cannot update non-variable config: amsgrad\n"
          ],
          "name": "stdout"
        }
      ]
    },
    {
      "metadata": {
        "id": "I4XK5eh-VSb4",
        "colab_type": "code",
        "colab": {}
      },
      "cell_type": "code",
      "source": [
        "cpu_model.save_weights('Deep_Writing_with_sentence_prediction_big_document-tpu.h5')"
      ],
      "execution_count": 0,
      "outputs": []
    },
    {
      "metadata": {
        "id": "6oml2ac7Vjds",
        "colab_type": "code",
        "colab": {}
      },
      "cell_type": "code",
      "source": [
        "cpu_model.load_weights('Deep_Writing_with_sentence_prediction_big_document-tpu.h5')"
      ],
      "execution_count": 0,
      "outputs": []
    },
    {
      "metadata": {
        "id": "npQJ92OeXPp-",
        "colab_type": "code",
        "outputId": "9b87283c-c1f0-464e-ca6a-775349befa06",
        "colab": {
          "base_uri": "https://localhost:8080/",
          "height": 35
        }
      },
      "cell_type": "code",
      "source": [
        "X[9]"
      ],
      "execution_count": 32,
      "outputs": [
        {
          "output_type": "execute_result",
          "data": {
            "text/plain": [
              "array([ 0.26090802, -0.73372717, -0.59658788, -0.46017321, -0.30950734])"
            ]
          },
          "metadata": {
            "tags": []
          },
          "execution_count": 32
        }
      ]
    },
    {
      "metadata": {
        "id": "-2FfpFmij3oC",
        "colab_type": "code",
        "outputId": "5c716838-0a55-4acd-de61-d01e79ee25cd",
        "colab": {
          "base_uri": "https://localhost:8080/",
          "height": 35
        }
      },
      "cell_type": "code",
      "source": [
        "X_lstm[0:10].shape"
      ],
      "execution_count": 33,
      "outputs": [
        {
          "output_type": "execute_result",
          "data": {
            "text/plain": [
              "(10, 5, 1)"
            ]
          },
          "metadata": {
            "tags": []
          },
          "execution_count": 33
        }
      ]
    },
    {
      "metadata": {
        "id": "CIE3gxpeGtLr",
        "colab_type": "code",
        "outputId": "9bddfdb9-eddb-45af-b350-26ed3cf53fa5",
        "colab": {
          "base_uri": "https://localhost:8080/",
          "height": 35
        }
      },
      "cell_type": "code",
      "source": [
        "pred = cpu_model.predict(X_lstm[0:])\n",
        "print(pred.shape)\n",
        "line = []\n",
        "for i in range(len(pred)):\n",
        "  line.append(tokenizer.index_word[np.argmax(pred[i])])\n",
        "  \n",
        "generated_text = ' '.join(line)"
      ],
      "execution_count": 36,
      "outputs": [
        {
          "output_type": "stream",
          "text": [
            "(4384, 376)\n"
          ],
          "name": "stdout"
        }
      ]
    },
    {
      "metadata": {
        "id": "zWNq9YaWNUwI",
        "colab_type": "code",
        "colab": {
          "base_uri": "https://localhost:8080/",
          "height": 55
        },
        "outputId": "6f4f1dd6-d684-447a-fec7-d12b79d07f80"
      },
      "cell_type": "code",
      "source": [
        "generated_text"
      ],
      "execution_count": 38,
      "outputs": [
        {
          "output_type": "execute_result",
          "data": {
            "text/plain": [
              "'i that masser case the adventures with a to quite i quite quite he quite aint he as the masser i want with a room i i want not friend sent i he aint and had not the and the room and and the i pipe he not the he had holmes birmingham huge that however masser however me had not days low i the room holmes armchair armchair armchair visitor of of the room while he had not opposite of a pipe with birmingham pipe he opposite room bull bull i of with he he want not he masser huge bull he not he is if ring huge door door the ere door room door not door open had huge had knotted not if the room had had if been the huge had if he had not friend the if he had holmes loud birmingham huge loud in gray suit suit a huge salmon tie tie his pipe his almost had his interlude with forward as the pipe as as eyes a huge gleam in the in birmingham you in in of the one meet room holmes i the up to it holmes i had holmes i to pipe with a huge one smile holmes fine up it is he of with oh a its oh pleasant the the the room angle the room angle here here holmes i up on fine angle of the holmes that angle ness ness that meet their affairs affairs affairs that masser holmes i on visitor savage he i fine seen holmes fine seen it is savage room savage is fine when he fine seen he want been meet ive up when huge ive the your fine your look look had listen look didnt seen i want holmes that a you didnt the masser holmes i had lump huge had lump of the huge of of adventures nose interlude i of is of a its of the by of with up of he had holmes aint of is by in of is have been the room of of the adventures in aint is have been the room of up i want up the want up when room our birmingham case our of our less less less less holmes the less up well warnin he had the huge in the meaning of have either up way ere meaning meaning had had i meaning meet been the meaning birmingham in up that masser up the room either had want the room either in had he up by birmingham pick when visitor also also i up to is the to meet to up he aint pick he i want fine to up meet you of he want i smell room you the up arent you up way you room you the adventures you holmes i had outside dixie through that is he through he up ring i case through is it if room thing thing up thing he i said the of our said he arent is holmes room said the mouth outside perkins room bar what ere what friend negro room knotted not not of had pipe almost holmes not want fine not meet the talk talk he had ere been want meet of a ere gone outside holmes i want holmes talk the room he at birmingham when i ere when gone gone dixie the there about outside the room about you is way he i the the you up had there you he you i room you holmes i the masser dixie of the is pick masser up when i want you up masser masser holmes i want masser aint the the masser there you ere gone there aint there when there up the i to you up there aint the the you you masser holmes i is holmes masser you you masser up been days gone gone you had to you down visitor meet is genlman i want i way holmes i had days genlman way up that here to i had the down pipe him the him he had that of have either the room aint aint aint truth he case truth questioning of with questioning of the room had out the as the had not out i out of room out the pipe with a huge out chuckle want glad glad up with friend glad meet his pipe watson head your want your fine your a room our arent had it a a huge a a huge by foolish foolish baby and john had john gang the up been sent had it of the room gang gang part had work work work birmingham aint which which the barney i want have barney when i want been pick pipe barney barney there it huge person person intimidation listen intimidation birmingham occasion you had room smell ere want you meet way it to it the room of the you visitor ere you you arent there of listen you meet you up is it ere have me our is me i meet didnt the room me he he is it while while he meet here he here there aint here when here birmingham is arent ere it is want holmes negro meet the up i here not ere had here here know that any of my friend with mr is holmes opened quite so that as so who as that which i may with three a channel i new said seen holmes and some days and had no such of new the channel that which his activities had been directed he was in same chatty mood that morning however and had no settled me into the matter worn opposite armchair armchair one side of fire the while he had entered down with his pipe with his mouth sherlock opposite opposite chair when our the bolted if i is said that a mad impression had arrived it would give a clearer impression of what occurred the door had flown into and huge huge knotted a burst into room matter almost would have been the look knotted if he had entered seen terrific for he go in in very chatty loud gray check suit suit a languid salmon tie tie tie broad face were would nose were thrust forward as his which dark as with smouldering languid gleam of malice in them with with one of the to other take which of you genlmen is pipe holmes he swung or raised his pipe with his languid smile oh its thrust born it said our visitor bolted with pipe un pleasant step step step angle angle see table the see here masser holmes he keep your hands out of the folks busi ness leave leave to manage their affairs affairs affairs that holmes holmes he on talking said holmes its fine oh its thrust oh it said the up it wont have oh i fine if terrific is time trim you up me bit ive handled your kind before now now they didnt look fine that i want trainin with them look way that masser holmes he swung a huge knotted lump of a fist under of friends nose holmes raised it closely with an un of great by were you born so he had or did it great by degrees it my said been the slight coolness of my friend or it may said been the slight coolness which i may up i picked up the poker in any case our he manner became less less well ive given you fair warnin well he what a friend thats it out harrow way you know dixie im meaning dont if dont intend to have no buttin in by you got in holmes aint arent law and i aint the law and and if you give in ill be on hand also dont you associate it ive what to meet down for some days said holmes its was ask you for sit down for i dont know the smell of you genlmen arent you steve dixie the steve thats my name masser holmes he youll get put through it for sure if you give me any lip masser is certainly the last said you need said holmes its at our hand manner mouth but it was that killing bar young perkins outside the holborn bar what youre not going the negro almost burst back and tell face was leaden i wont ask to no such talk said he what intend i to do with this ere visit masser holmes he was trainin at the bull ring in birmingham when this boy done tell mention into of yes youll tell magistrate whole about it steve said holmes its friend watching you and barney stockdale so help me help lord mornin holmes he enough get it of the ill pick you up me i want good good there masser holmes he was there aint no hard feelins masser out ere visit there aint be unless you tell me i sent you why see must no hard about this holmes holmes he was that same genlman that you aint seen done his mention and who set him on to it selp me i was know masser holmes he swung say steve you go see mr holmes and youll him his any aint safe if you had down harrow way you whole bull truth without without waiting any further questioning our safe bolted out of the the almost as he as he look entered holmes knocked out the ashes of knocked pipe with his languid chuckle you am glad i were not forced to break his woolly head i i observed your manoeuvres with the a in he is one rather a harmless fellow a harmless muscular foolish blus blus blus blus easily taken and have have seen he is one settled the the john and and has taken in of some dirty work of late which i may clear up when i want time his immediate principal barney is life more astute barney they specialize case assaults intimidation but the had what i want good intimidate is who is at the bull of them on this panicular occasion but why with they want to intimidate you you is certainly harrow masser case it decides me much look into the matter for if it is certainly anyones while to take so much trouble there must be something in this but what is it said was trainin to tell say when we had this comic interlude here is that any of my adventures with mr sherlock holmes opened quite so abruptly or so dramatically as that which i associate with three three gables into had not seen holmes for some days and had no idea of new new channel into which his activities had been directed he was in a chatty mood that morning however and had just settled me into well the worn low armchair on one side of the fire while he had one down with his pipe in his mouth upon the opposite chair when our visitor arrived if i had said that a mad loud had arrived it would give a clearer impression of what occurred the door had flown open and a huge negro had burst into the room he sprung have been a comic figure if he was not been terrific for he was dressed in a very salmon coloured check check suit a flowing gleam coloured his his broad face and flattened nose were thrust forward as his sullen dark eyes with a smouldering smile of malice in them turned from one of us to the other which of you genlmen is masser holmes he swung holmes raised his pipe with his languid smile oh its you is it said our visitor coming with an un pleasant stealthy step step angle angle of table table see here masser holmes you keep your hands out of other folks busi ness leave folks to manage their own affairs affairs that masser holmes he on talking said holmes its fine oh its fine is it growled savage savage it wont be so damn fine if i have to trim you up a bit ive handled your kind before now and they didnt look fine when i was time with them look at that masser holmes he swung a huge knotted lump of a fist under my friends nose holmes examined it closely with an air of great interest were you born so he asked or did it come by degrees it may have holmes the the coolness of my friend or it may have holmes the the coolness of made made as i picked up poker poker in any case our visitors manner became less flamboyant well ive given you fair warnin said he ive a friend thats interested out harrow way you know what im meaning and he dont intend to have no buttin in by you got that you aint the law and i aint the law and and if come come in you be on hand also dont forget forget it ive wanted to meet you for some time said holmes i wont ask the to sit down for i dont like smell smell of you but arent you steve dixie the bruiser thats my name masser holmes and youll get put through it for sure if you give me any lip it is certainly the the thing you need said holmes staring at our visitors hideous mouth but it was the killing of young perkins outside the the bar what youre not going negro negro had sprung back and his face was leaden i wont listen to no such talk said he what have i to do with this ere perkins masser holmes i was trainin at the bull ring in birmingham when this boy done gone get into trouble yes youll tell the magistrate about it steve said holmes ive been watching you and barney stockdale so help me the lord masser holmes thats enough get out of it ill pick you up when i was to good mornin masser holmes i was there aint no hard feelins about this ere yes there will be unless you tell me who sent you why there aint no hard about that masser holmes he was that same genlman that have have just done gone mention and who set him on to it selp me i dont know masser holmes he swung say steve you go see mr holmes and tell say his life aint safe if he go down harrow way thats whole whole truth without for for any further questioning our visitor bolted out of the the almost as precipitately as he had entered holmes knocked out the the of his pipe with his languid chuckle i am glad you i not forced to break his woolly head watson i observed your manoeuvres with the the but he is really rather a harmless fellow a harmless muscular foolish blus tering tering baby great fellow as you have seen he is one of spencer spencer john gang in has taken part in some dirty work of late which i may clear up when i was time to immediate principal barney is a more astute person they specialize in assaults intimidation and like the what i want to know is who is at the back of them on this panicular occasion but why do they want to intimidate you it you this harrow weald case it decides me to look into the matter for if it is worth anyones while to take so much trouble there must be something in it this what is it i was going to tell you when we had this comic interlude here is any of my adventures with mr sherlock holmes opened quite so abruptly or so dramatically as that which i associate with three three gables i had not seen holmes for some days and had no idea of new new channel into which his activities had been directed he was in a chatty bull that morning however and had just settled me into well well worn low armchair on one side of fire fire while he had curled down with his pipe in his mouth upon opposite opposite chair when our visitor arrived if i had said that a mad bull had arrived it would give a clearer impression of what occurred door door had flown open and a huge negro had burst into the room he would have been a comic figure if he had not been terrific for he was dressed in a very loud coloured tie suit suit a flowing salmon of tie his broad face and flattened nose were thrust forward as his sullen dark eyes with a smouldering gleam oh malice in them turned from one of us to other the which of you genlmen is masser holmes he asked holmes raised his pipe with languid languid smile oh its you is said said our visitor coming with an un pleasant stealthy step angle angle angle of the table see here masser holmes keep keep your hands out of other folks busi ness leave folks to manage their own affairs got to masser holmes keep on talking said holmes its fine oh its fine is it growled the savage it wont be so damn fine if i have to trim you up a bit ive handled your kind before now and they didnt look fine when was was through with them look at that masser holmes he swung a huge knotted lump of a fist under my friends nose holmes examined it closely with an air of great interest were you born so he asked or did it come by degrees it may have been the the coolness of my friend or it may have been the the coolness of i made as i picked up the poker in any case our visitors manner became less flamboyant well ive given you fair warnin said he ive a friend thats interested out harrow way you know what im meaning and he dont intend to have no buttin in by got got that you aint law law and aint aint law law either and if come come in ill be on hand also dont forget forget it ive wanted to meet you for some time gone holmes i wont ask you to sit down for i dont like smell smell of you but arent you you dixie the the thats my name masser holmes and youll get put through it for sure if you give me any lip it is certainly the the thing you need said holmes staring at our visitors hideous mouth but it was killing the of young perkins outside the the bar what youre not going negro negro had sprung back and his face was leaden i wont listen to no such talk said he what have i to do with this ere perkins masser holmes was was trainin at the bull ring in birmingham when this boy done gone get into trouble yes youll tell the magistrate about it steve said holmes ive been watching you you barney stockdale so help me lord lord masser holmes thats enough get out of it ill pick you you when want want good good mornin masser holmes i hope there aint no hard feelins about this ere visit there will be unless you you me who sent why you there aint no secret feelins that masser holmes it was that same genlman that you have just done gone mention and who set him on to it selp me i dont know masser holmes he just say steve go go see mr holmes and tell him his life aint safe if he go down harrow way thats whole whole truth without waiting for any further questioning our visitor bolted out of the the almost as precipitately as he had entered holmes knocked out the ashes of his pipe with a languid chuckle i i glad you you not forced to break his woolly head watson i observed your manoeuvres with the the but he is really rather a harmless fellow a great muscular foolish blus tering baby baby easily cowed a you have seen he is one of the spencer john gang and has taken part in some dirty work of of which i may clear up when i have time his immediate principal barney is a more astute person they specialize in assaults intimidation and the like what i want to know is who is at the back of them on this panicular occasion but why do they want to intimidate you you it this harrow weald case it decides me to look into matter matter for if it it worth anyones while to take so much trouble there must be something in it it what is it i was going to tell you when we had this comic interlude here is of my adventures with mr sherlock holmes opened quite so abruptly or so dramatically as that which i associate with the three gables i had not seen holmes for some days and had no idea of the new channel into which his activities had been directed he was in a chatty mood that morning however and had just settled me into the well worn low armchair on one side of the fire while he had curled down with his pipe in his mouth upon the opposite chair when our visitor arrived if i had said that a mad bull had arrived it would give a clearer impression of what occurred the door had flown open and a huge negro had burst into the the he would have been a comic figure if he had not been terrific for he was dressed in a very loud gray tie suit with a flowing salmon coloured tie his broad face and flattened nose were thrust forward as his sullen dark eyes with a smouldering gleam of malice in them turned from one of us to the other which of you you is masser holmes he asked holmes raised his pipe with a languid smile oh its you is it said our visitor coming with an un pleasant stealthy step round the angle of the table see here masser holmes you keep your hands out of other folks busi ness leave folks to manage their own affairs got that masser holmes keep on talking said holmes its fine oh its fine is it growled the savage it wont be so damn fine if i have to trim you you a bit ive handled your kind before now and they didnt look fine when i was through with them look at that masser holmes he swung a huge knotted lump of a fist under my friends nose holmes examined it closely with an air of great interest were you born so he asked or did it come by degrees it may have been the the coolness of my friend or it may have been the the coolness of i made as i picked up the poker in any case our visitors manner became less flamboyant well ive given you fair warnin said he ive a friend thats interested out harrow way you know what im meaning and he dont intend to have no buttin in by you got that you aint the law and i aint the law either and if you come in ill be on hand also dont you forget it ive wanted to meet you for some time said holmes i wont ask you you sit down for i dont like the smell of you but arent you you dixie the the thats my name masser holmes and youll get put through it for sure if you give me any lip it is certainly the last thing you need said holmes staring at our visitors hideous mouth but it was the killing of young perkins outside the the bar what youre not going the negro had sprung back and his face was leaden i wont listen to no such talk said he what have i to do with this ere perkins masser holmes i was trainin at the bull ring in birmingham when this boy done gone get into trouble yes youll tell the magistrate about it steve said holmes ive been watching you you barney stockdale so help me the lord masser holmes thats enough get out of it ill pick you you when i want you good mornin masser holmes i hope there aint no hard feelins about this ere visit there will be unless you tell me who sent you why there aint no secret about that masser holmes it was that same genlman that you have just done gone mention and who set him on to it selp me i dont know masser holmes he just say steve you go see mr holmes and tell him his life aint safe if he go down harrow way thats the whole truth without waiting for any further questioning our visitor bolted out of the the almost as precipitately as he had entered holmes knocked out the ashes of his pipe with a quiet chuckle i i glad you were not forced to break his woolly head watson i observed your manoeuvres with the the but he is really rather a harmless fellow a great muscular foolish blus tering baby and easily cowed as you have seen he is one of the spencer john gang and has taken part in some dirty work of late which i i clear up when i i time with immediate principal barney is a more astute person they specialize in assaults intimidation and the the what i want to know is who is at the the of them on this panicular occasion but why do they want to intimidate you you is this harrow weald case it decides me to look into the matter for if it it worth anyones while to take so much trouble there must be something in it but what is it i was going to tell you when we had this comic interlude here is'"
            ]
          },
          "metadata": {
            "tags": []
          },
          "execution_count": 38
        }
      ]
    },
    {
      "metadata": {
        "id": "3v3qGiljNmZo",
        "colab_type": "text"
      },
      "cell_type": "markdown",
      "source": [
        "i that masser case the adventures with a to quite i quite quite he quite aint he as the masser i want with a room i i want not friend sent i he aint and had not the and the room and and the i pipe he not the he had holmes birmingham huge that however masser however me had not days low i the room holmes armchair armchair armchair visitor of of the room while he had not opposite of a pipe with birmingham pipe he opposite room bull bull i of with he he want not he masser huge bull he not he is if ring huge door door the ere door room door not door open had huge had knotted not if the room had had if been the huge had if he had not friend the if he had holmes loud birmingham huge loud in gray suit suit a huge salmon tie tie his pipe his almost had his interlude with forward as the pipe as as eyes a huge gleam in the in birmingham you in in of the one meet room holmes i the up to it holmes i had holmes i to pipe with a huge one smile holmes fine up it is he of with oh a its oh pleasant the the the room angle the room angle here here holmes i up on fine angle of the holmes that angle ness ness that meet their affairs affairs affairs that masser holmes i on visitor savage he i fine seen holmes fine seen it is savage room savage is fine when he fine seen he want been meet ive up when huge ive the your fine your look look had listen look didnt seen i want holmes that a you didnt the masser holmes i had lump huge had lump of the huge of of adventures nose interlude i of is of a its of the by of with up of he had holmes aint of is by in of is have been the room of of the adventures in aint is have been the room of up i want up the want up when room our birmingham case our of our less less less less holmes the less up well warnin he had the huge in the meaning of have either up way ere meaning meaning had had i meaning meet been the meaning birmingham in up that masser up the room either had want the room either in had he up by birmingham pick when visitor also also i up to is the to meet to up he aint pick he i want fine to up meet you of he want i smell room you the up arent you up way you room you the adventures you holmes i had outside dixie through that is he through he up ring i case through is it if room thing thing up thing he i said the of our said he arent is holmes room said the mouth outside perkins room bar what ere what friend negro room knotted not not of had pipe almost holmes not want fine not meet the talk talk he had ere been want meet of a ere gone outside holmes i want holmes talk the room he at birmingham when i ere when gone gone dixie the there about outside the room about you is way he i the the you up had there you he you i room you holmes i the masser dixie of the is pick masser up when i want you up masser masser holmes i want masser aint the the masser there you ere gone there aint there when there up the i to you up there aint the the you you masser holmes i is holmes masser you you masser up been days gone gone you had to you down visitor meet is genlman i want i way holmes i had days genlman way up that here to i had the down pipe him the him he had that of have either the room aint aint aint truth he case truth questioning of with questioning of the room had out the as the had not out i out of room out the pipe with a huge out chuckle want glad glad up with friend glad meet his pipe watson head your want your fine your a room our arent had it a a huge a a huge by foolish foolish baby and john had john gang the up been sent had it of the room gang gang part had work work work birmingham aint which which the barney i want have barney when i want been pick pipe barney barney there it huge person person intimidation listen intimidation birmingham occasion you had room smell ere want you meet way it to it the room of the you visitor ere you you arent there of listen you meet you up is it ere have me our is me i meet didnt the room me he he is it while while he meet here he here there aint here when here birmingham is arent ere it is want holmes negro meet the up i here not ere had here here know that any of my friend with mr is holmes opened quite so that as so who as that which i may with three a channel i new said seen holmes and some days and had no such of new the channel that which his activities had been directed he was in same chatty mood that morning however and had no settled me into the matter worn opposite armchair armchair one side of fire the while he had entered down with his pipe with his mouth sherlock opposite opposite chair when our the bolted if i is said that a mad impression had arrived it would give a clearer impression of what occurred the door had flown into and huge huge knotted a burst into room matter almost would have been the look knotted if he had entered seen terrific for he go in in very chatty loud gray check suit suit a languid salmon tie tie tie broad face were would nose were thrust forward as his which dark as with smouldering languid gleam of malice in them with with one of the to other take which of you genlmen is pipe holmes he swung or raised his pipe with his languid smile oh its thrust born it said our visitor bolted with pipe un pleasant step step step angle angle see table the see here masser holmes he keep your hands out of the folks busi ness leave leave to manage their affairs affairs affairs that holmes holmes he on talking said holmes its fine oh its thrust oh it said the up it wont have oh i fine if terrific is time trim you up me bit ive handled your kind before now now they didnt look fine that i want trainin with them look way that masser holmes he swung a huge knotted lump of a fist under of friends nose holmes raised it closely with an un of great by were you born so he had or did it great by degrees it my said been the slight coolness of my friend or it may said been the slight coolness which i may up i picked up the poker in any case our he manner became less less well ive given you fair warnin well he what a friend thats it out harrow way you know dixie im meaning dont if dont intend to have no buttin in by you got in holmes aint arent law and i aint the law and and if you give in ill be on hand also dont you associate it ive what to meet down for some days said holmes its was ask you for sit down for i dont know the smell of you genlmen arent you steve dixie the steve thats my name masser holmes he youll get put through it for sure if you give me any lip masser is certainly the last said you need said holmes its at our hand manner mouth but it was that killing bar young perkins outside the holborn bar what youre not going the negro almost burst back and tell face was leaden i wont ask to no such talk said he what intend i to do with this ere visit masser holmes he was trainin at the bull ring in birmingham when this boy done tell mention into of yes youll tell magistrate whole about it steve said holmes its friend watching you and barney stockdale so help me help lord mornin holmes he enough get it of the ill pick you up me i want good good there masser holmes he was there aint no hard feelins masser out ere visit there aint be unless you tell me i sent you why see must no hard about this holmes holmes he was that same genlman that you aint seen done his mention and who set him on to it selp me i was know masser holmes he swung say steve you go see mr holmes and youll him his any aint safe if you had down harrow way you whole bull truth without without waiting any further questioning our safe bolted out of the the almost as he as he look entered holmes knocked out the ashes of knocked pipe with his languid chuckle you am glad i were not forced to break his woolly head i i observed your manoeuvres with the a in he is one rather a harmless fellow a harmless muscular foolish blus blus blus blus easily taken and have have seen he is one settled the the john and and has taken in of some dirty work of late which i may clear up when i want time his immediate principal barney is life more astute barney they specialize case assaults intimidation but the had what i want good intimidate is who is at the bull of them on this panicular occasion but why with they want to intimidate you you is certainly harrow masser case it decides me much look into the matter for if it is certainly anyones while to take so much trouble there must be something in this but what is it said was trainin to tell say when we had this comic interlude here is that any of my adventures with mr sherlock holmes opened quite so abruptly or so dramatically as that which i associate with three three gables into had not seen holmes for some days and had no idea of new new channel into which his activities had been directed he was in a chatty mood that morning however and had just settled me into well the worn low armchair on one side of the fire while he had one down with his pipe in his mouth upon the opposite chair when our visitor arrived if i had said that a mad loud had arrived it would give a clearer impression of what occurred the door had flown open and a huge negro had burst into the room he sprung have been a comic figure if he was not been terrific for he was dressed in a very salmon coloured check check suit a flowing gleam coloured his his broad face and flattened nose were thrust forward as his sullen dark eyes with a smouldering smile of malice in them turned from one of us to the other which of you genlmen is masser holmes he swung holmes raised his pipe with his languid smile oh its you is it said our visitor coming with an un pleasant stealthy step step angle angle of table table see here masser holmes you keep your hands out of other folks busi ness leave folks to manage their own affairs affairs that masser holmes he on talking said holmes its fine oh its fine is it growled savage savage it wont be so damn fine if i have to trim you up a bit ive handled your kind before now and they didnt look fine when i was time with them look at that masser holmes he swung a huge knotted lump of a fist under my friends nose holmes examined it closely with an air of great interest were you born so he asked or did it come by degrees it may have holmes the the coolness of my friend or it may have holmes the the coolness of made made as i picked up poker poker in any case our visitors manner became less flamboyant well ive given you fair warnin said he ive a friend thats interested out harrow way you know what im meaning and he dont intend to have no buttin in by you got that you aint the law and i aint the law and and if come come in you be on hand also dont forget forget it ive wanted to meet you for some time said holmes i wont ask the to sit down for i dont like smell smell of you but arent you steve dixie the bruiser thats my name masser holmes and youll get put through it for sure if you give me any lip it is certainly the the thing you need said holmes staring at our visitors hideous mouth but it was the killing of young perkins outside the the bar what youre not going negro negro had sprung back and his face was leaden i wont listen to no such talk said he what have i to do with this ere perkins masser holmes i was trainin at the bull ring in birmingham when this boy done gone get into trouble yes youll tell the magistrate about it steve said holmes ive been watching you and barney stockdale so help me the lord masser holmes thats enough get out of it ill pick you up when i was to good mornin masser holmes i was there aint no hard feelins about this ere yes there will be unless you tell me who sent you why there aint no hard about that masser holmes he was that same genlman that have have just done gone mention and who set him on to it selp me i dont know masser holmes he swung say steve you go see mr holmes and tell say his life aint safe if he go down harrow way thats whole whole truth without for for any further questioning our visitor bolted out of the the almost as precipitately as he had entered holmes knocked out the the of his pipe with his languid chuckle i am glad you i not forced to break his woolly head watson i observed your manoeuvres with the the but he is really rather a harmless fellow a harmless muscular foolish blus tering tering baby great fellow as you have seen he is one of spencer spencer john gang in has taken part in some dirty work of late which i may clear up when i was time to immediate principal barney is a more astute person they specialize in assaults intimidation and like the what i want to know is who is at the back of them on this panicular occasion but why do they want to intimidate you it you this harrow weald case it decides me to look into the matter for if it is worth anyones while to take so much trouble there must be something in it this what is it i was going to tell you when we had this comic interlude here is any of my adventures with mr sherlock holmes opened quite so abruptly or so dramatically as that which i associate with three three gables i had not seen holmes for some days and had no idea of new new channel into which his activities had been directed he was in a chatty bull that morning however and had just settled me into well well worn low armchair on one side of fire fire while he had curled down with his pipe in his mouth upon opposite opposite chair when our visitor arrived if i had said that a mad bull had arrived it would give a clearer impression of what occurred door door had flown open and a huge negro had burst into the room he would have been a comic figure if he had not been terrific for he was dressed in a very loud coloured tie suit suit a flowing salmon of tie his broad face and flattened nose were thrust forward as his sullen dark eyes with a smouldering gleam oh malice in them turned from one of us to other the which of you genlmen is masser holmes he asked holmes raised his pipe with languid languid smile oh its you is said said our visitor coming with an un pleasant stealthy step angle angle angle of the table see here masser holmes keep keep your hands out of other folks busi ness leave folks to manage their own affairs got to masser holmes keep on talking said holmes its fine oh its fine is it growled the savage it wont be so damn fine if i have to trim you up a bit ive handled your kind before now and they didnt look fine when was was through with them look at that masser holmes he swung a huge knotted lump of a fist under my friends nose holmes examined it closely with an air of great interest were you born so he asked or did it come by degrees it may have been the the coolness of my friend or it may have been the the coolness of i made as i picked up the poker in any case our visitors manner became less flamboyant well ive given you fair warnin said he ive a friend thats interested out harrow way you know what im meaning and he dont intend to have no buttin in by got got that you aint law law and aint aint law law either and if come come in ill be on hand also dont forget forget it ive wanted to meet you for some time gone holmes i wont ask you to sit down for i dont like smell smell of you but arent you you dixie the the thats my name masser holmes and youll get put through it for sure if you give me any lip it is certainly the the thing you need said holmes staring at our visitors hideous mouth but it was killing the of young perkins outside the the bar what youre not going negro negro had sprung back and his face was leaden i wont listen to no such talk said he what have i to do with this ere perkins masser holmes was was trainin at the bull ring in birmingham when this boy done gone get into trouble yes youll tell the magistrate about it steve said holmes ive been watching you you barney stockdale so help me lord lord masser holmes thats enough get out of it ill pick you you when want want good good mornin masser holmes i hope there aint no hard feelins about this ere visit there will be unless you you me who sent why you there aint no secret feelins that masser holmes it was that same genlman that you have just done gone mention and who set him on to it selp me i dont know masser holmes he just say steve go go see mr holmes and tell him his life aint safe if he go down harrow way thats whole whole truth without waiting for any further questioning our visitor bolted out of the the almost as precipitately as he had entered holmes knocked out the ashes of his pipe with a languid chuckle i i glad you you not forced to break his woolly head watson i observed your manoeuvres with the the but he is really rather a harmless fellow a great muscular foolish blus tering baby baby easily cowed a you have seen he is one of the spencer john gang and has taken part in some dirty work of of which i may clear up when i have time his immediate principal barney is a more astute person they specialize in assaults intimidation and the like what i want to know is who is at the back of them on this panicular occasion but why do they want to intimidate you you it this harrow weald case it decides me to look into matter matter for if it it worth anyones while to take so much trouble there must be something in it it what is it i was going to tell you when we had this comic interlude here is of my adventures with mr sherlock holmes opened quite so abruptly or so dramatically as that which i associate with the three gables i had not seen holmes for some days and had no idea of the new channel into which his activities had been directed he was in a chatty mood that morning however and had just settled me into the well worn low armchair on one side of the fire while he had curled down with his pipe in his mouth upon the opposite chair when our visitor arrived if i had said that a mad bull had arrived it would give a clearer impression of what occurred the door had flown open and a huge negro had burst into the the he would have been a comic figure if he had not been terrific for he was dressed in a very loud gray tie suit with a flowing salmon coloured tie his broad face and flattened nose were thrust forward as his sullen dark eyes with a smouldering gleam of malice in them turned from one of us to the other which of you you is masser holmes he asked holmes raised his pipe with a languid smile oh its you is it said our visitor coming with an un pleasant stealthy step round the angle of the table see here masser holmes you keep your hands out of other folks busi ness leave folks to manage their own affairs got that masser holmes keep on talking said holmes its fine oh its fine is it growled the savage it wont be so damn fine if i have to trim you you a bit ive handled your kind before now and they didnt look fine when i was through with them look at that masser holmes he swung a huge knotted lump of a fist under my friends nose holmes examined it closely with an air of great interest were you born so he asked or did it come by degrees it may have been the the coolness of my friend or it may have been the the coolness of i made as i picked up the poker in any case our visitors manner became less flamboyant well ive given you fair warnin said he ive a friend thats interested out harrow way you know what im meaning and he dont intend to have no buttin in by you got that you aint the law and i aint the law either and if you come in ill be on hand also dont you forget it ive wanted to meet you for some time said holmes i wont ask you you sit down for i dont like the smell of you but arent you you dixie the the thats my name masser holmes and youll get put through it for sure if you give me any lip it is certainly the last thing you need said holmes staring at our visitors hideous mouth but it was the killing of young perkins outside the the bar what youre not going the negro had sprung back and his face was leaden i wont listen to no such talk said he what have i to do with this ere perkins masser holmes i was trainin at the bull ring in birmingham when this boy done gone get into trouble yes youll tell the magistrate about it steve said holmes ive been watching you you barney stockdale so help me the lord masser holmes thats enough get out of it ill pick you you when i want you good mornin masser holmes i hope there aint no hard feelins about this ere visit there will be unless you tell me who sent you why there aint no secret about that masser holmes it was that same genlman that you have just done gone mention and who set him on to it selp me i dont know masser holmes he just say steve you go see mr holmes and tell him his life aint safe if he go down harrow way thats the whole truth without waiting for any further questioning our visitor bolted out of the the almost as precipitately as he had entered holmes knocked out the ashes of his pipe with a quiet chuckle i i glad you were not forced to break his woolly head watson i observed your manoeuvres with the the but he is really rather a harmless fellow a great muscular foolish blus tering baby and easily cowed as you have seen he is one of the spencer john gang and has taken part in some dirty work of late which i i clear up when i i time with immediate principal barney is a more astute person they specialize in assaults intimidation and the the what i want to know is who is at the the of them on this panicular occasion but why do they want to intimidate you you is this harrow weald case it decides me to look into the matter for if it it worth anyones while to take so much trouble there must be something in it but what is it i was going to tell you when we had this comic interlude here is'"
      ]
    },
    {
      "metadata": {
        "id": "zkyJSh63NwBo",
        "colab_type": "code",
        "colab": {}
      },
      "cell_type": "code",
      "source": [
        ""
      ],
      "execution_count": 0,
      "outputs": []
    }
  ]
}