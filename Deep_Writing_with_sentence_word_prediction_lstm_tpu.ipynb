{
  "nbformat": 4,
  "nbformat_minor": 0,
  "metadata": {
    "colab": {
      "name": "Deep_Writing_with_sentence-word_prediction-tpu.ipynb",
      "version": "0.3.2",
      "provenance": [],
      "collapsed_sections": [],
      "include_colab_link": true
    },
    "kernelspec": {
      "name": "python3",
      "display_name": "Python 3"
    },
    "accelerator": "TPU"
  },
  "cells": [
    {
      "cell_type": "markdown",
      "metadata": {
        "id": "view-in-github",
        "colab_type": "text"
      },
      "source": [
        "<a href=\"https://colab.research.google.com/github/Nik8x/Deep_writing_generating_text/blob/master/Deep_Writing_with_sentence_word_prediction_lstm_tpu.ipynb\" target=\"_parent\"><img src=\"https://colab.research.google.com/assets/colab-badge.svg\" alt=\"Open In Colab\"/></a>"
      ]
    },
    {
      "metadata": {
        "id": "vUb856aHtNq_",
        "colab_type": "code",
        "outputId": "41e8d1d4-5c45-47e6-80f8-b6b9dd34b5a1",
        "colab": {
          "base_uri": "https://localhost:8080/",
          "height": 255
        }
      },
      "cell_type": "code",
      "source": [
        "import pandas as pd\n",
        "import numpy as np\n",
        "import matplotlib.pyplot as plt\n",
        "\n",
        "import regex as re\n",
        "\n",
        "import nltk\n",
        "from nltk.draw.dispersion import dispersion_plot\n",
        "from nltk.corpus import stopwords\n",
        "nltk.download('stopwords')\n",
        "from nltk.probability import FreqDist\n",
        "from textblob import TextBlob\n",
        "from nltk.stem import WordNetLemmatizer\n",
        "nltk.download('wordnet')\n",
        "from nltk.corpus.reader.plaintext import PlaintextCorpusReader\n",
        "nltk.download('averaged_perceptron_tagger')\n",
        "from nltk.util import ngrams\n",
        "from nltk.sentiment import SentimentIntensityAnalyzer\n",
        "nltk.download('vader_lexicon')\n",
        "\n",
        "from sklearn.preprocessing import StandardScaler\n",
        "from sklearn.preprocessing import LabelBinarizer\n",
        "\n",
        "import tensorflow as tf\n",
        "import keras\n",
        "from keras.models import Sequential\n",
        "from keras.layers import Dense\n",
        "from keras.layers import Dropout\n",
        "from keras.layers import LSTM\n",
        "from keras.utils import np_utils\n",
        "from keras.callbacks import EarlyStopping\n",
        "\n",
        "from keras.preprocessing.text import Tokenizer\n",
        "from keras.utils.np_utils import to_categorical\n",
        "\n",
        "import tensorflow as tf\n",
        "import keras\n",
        "from keras.models import Sequential\n",
        "from keras.layers import Dense, Dropout, LSTM, Embedding\n",
        "\n",
        "from keras.preprocessing.text import Tokenizer\n",
        "from keras.utils.np_utils import to_categorical\n",
        "\n",
        "import urllib\n",
        "\n",
        "import os\n",
        "\n",
        "# Any results you write to the current directory are saved as output.\n",
        "# from google.colab import drive\n",
        "# drive.mount('/content/gdrive')"
      ],
      "execution_count": 1,
      "outputs": [
        {
          "output_type": "stream",
          "text": [
            "[nltk_data] Downloading package stopwords to /root/nltk_data...\n",
            "[nltk_data]   Package stopwords is already up-to-date!\n",
            "[nltk_data] Downloading package wordnet to /root/nltk_data...\n",
            "[nltk_data]   Package wordnet is already up-to-date!\n",
            "[nltk_data] Downloading package averaged_perceptron_tagger to\n",
            "[nltk_data]     /root/nltk_data...\n",
            "[nltk_data]   Package averaged_perceptron_tagger is already up-to-\n",
            "[nltk_data]       date!\n",
            "[nltk_data] Downloading package vader_lexicon to /root/nltk_data...\n",
            "[nltk_data]   Package vader_lexicon is already up-to-date!\n"
          ],
          "name": "stdout"
        },
        {
          "output_type": "stream",
          "text": [
            "/usr/local/lib/python3.6/dist-packages/nltk/twitter/__init__.py:20: UserWarning: The twython library has not been installed. Some functionality from the twitter package will not be available.\n",
            "  warnings.warn(\"The twython library has not been installed. \"\n",
            "Using TensorFlow backend.\n"
          ],
          "name": "stderr"
        }
      ]
    },
    {
      "metadata": {
        "id": "f3MnaG43tZeA",
        "colab_type": "code",
        "outputId": "16a19f4f-d5f3-4fce-e85b-c99170938078",
        "colab": {
          "base_uri": "https://localhost:8080/",
          "height": 54
        }
      },
      "cell_type": "code",
      "source": [
        "text = urllib.request.urlopen('http://www.textfiles.com/stories/3gables.txt').read().decode('utf8')\n",
        "text = text.replace('\\n', ' ').replace('\\r', '').replace(\"\\'\", \"\").replace('\\w+', '')[348:]\n",
        "text[0:1000]"
      ],
      "execution_count": 2,
      "outputs": [
        {
          "output_type": "execute_result",
          "data": {
            "text/plain": [
              "'   I dont think that any of my adventures with Mr. Sherlock Holmes opened quite so abruptly, or so dramatically, as that which I associate with The Three Gables. I had not seen Holmes for some days and had no idea of the new channel into which his activities had been directed. He was in a chatty mood that morning, however, and had just settled me into the well-worn low armchair on one side of the fire, while he had curled down with his pipe in his mouth upon the opposite chair, when our visitor arrived. If I had said that a mad bull had arrived it would give a clearer impression of what occurred.   The door had flown open and a huge negro had burst into the room. He would have been a comic figure if he had not been terrific, for he was dressed in a very loud gray check suit with a flowing salmon-coloured tie. His broad face and flattened nose were thrust forward, as his sullen dark eyes, with a smouldering gleam of malice in them, turned from one of us to the other.   \"Which of you gen'"
            ]
          },
          "metadata": {
            "tags": []
          },
          "execution_count": 2
        }
      ]
    },
    {
      "metadata": {
        "id": "mS16E8LAtfBA",
        "colab_type": "code",
        "colab": {}
      },
      "cell_type": "code",
      "source": [
        "# I will first convert all the words to numbers, then normalize them, then make a dataframe with two columns, \n",
        "# one with sentences(one word, then two words, and so on), the other with the exact next word"
      ],
      "execution_count": 0,
      "outputs": []
    },
    {
      "metadata": {
        "id": "JnHkDWF6uB-7",
        "colab_type": "code",
        "colab": {}
      },
      "cell_type": "code",
      "source": [
        "# integer encode text\n",
        "tokenizer = Tokenizer()\n",
        "tokenizer.fit_on_texts([text])\n",
        "encoded = tokenizer.texts_to_sequences([text])[0]"
      ],
      "execution_count": 0,
      "outputs": []
    },
    {
      "metadata": {
        "id": "hLRyJWV7aF_i",
        "colab_type": "code",
        "colab": {
          "base_uri": "https://localhost:8080/",
          "height": 54
        },
        "outputId": "0db370fc-ac62-4b14-e090-c50ce4c9cb62"
      },
      "cell_type": "code",
      "source": [
        "tokenizer.sequences_to_texts([encoded])"
      ],
      "execution_count": 5,
      "outputs": [
        {
          "output_type": "execute_result",
          "data": {
            "text/plain": [
              "['i dont think that any of my adventures with mr sherlock holmes opened quite so abruptly or so dramatically as that which i associate with the three gables i had not seen holmes for some days and had no idea of the new channel into which his activities had been directed he was in a chatty mood that morning however and had just settled me into the well worn low armchair on one side of the fire while he had curled down with his pipe in his mouth upon the opposite chair when our visitor arrived if i had said that a mad bull had arrived it would give a clearer impression of what occurred the door had flown open and a huge negro had burst into the room he would have been a comic figure if he had not been terrific for he was dressed in a very loud gray check suit with a flowing salmon coloured tie his broad face and flattened nose were thrust forward as his sullen dark eyes with a smouldering gleam of malice in them turned from one of us to the other which of you genlmen is masser holmes he asked holmes raised his pipe with a languid smile oh its you is it said our visitor coming with an un pleasant stealthy step round the angle of the table see here masser holmes you keep your hands out of other folks busi ness leave folks to manage their own affairs got that masser holmes keep on talking said holmes its fine oh its fine is it growled the savage it wont be so damn fine if i have to trim you up a bit ive handled your kind before now and they didnt look fine when i was through with them look at that masser holmes he swung a huge knotted lump of a fist under my friends nose holmes examined it closely with an air of great interest were you born so he asked or did it come by degrees it may have been the icy coolness of my friend or it may have been the slight clatter which i made as i picked up the poker in any case our visitors manner became less flamboyant well ive given you fair warnin said he ive a friend thats interested out harrow way you know what im meaning and he dont intend to have no buttin in by you got that you aint the law and i aint the law either and if you come in ill be on hand also dont you forget it ive wanted to meet you for some time said holmes i wont ask you to sit down for i dont like the smell of you but arent you steve dixie the bruiser thats my name masser holmes and youll get put through it for sure if you give me any lip it is certainly the last thing you need said holmes staring at our visitors hideous mouth but it was the killing of young perkins outside the holborn bar what youre not going the negro had sprung back and his face was leaden i wont listen to no such talk said he what have i to do with this ere perkins masser holmes i was trainin at the bull ring in birmingham when this boy done gone get into trouble yes youll tell the magistrate about it steve said holmes ive been watching you and barney stockdale so help me the lord masser holmes thats enough get out of it ill pick you up when i want you good mornin masser holmes i hope there aint no hard feelins about this ere visit there will be unless you tell me who sent you why there aint no secret about that masser holmes it was that same genlman that you have just done gone mention and who set him on to it selp me i dont know masser holmes he just say steve you go see mr holmes and tell him his life aint safe if he go down harrow way thats the whole truth without waiting for any further questioning our visitor bolted out of the room almost as precipitately as he had entered holmes knocked out the ashes of his pipe with a quiet chuckle i am glad you were not forced to break his woolly head watson i observed your manoeuvres with the poker but he is really rather a harmless fellow a great muscular foolish blus tering baby and easily cowed as you have seen he is one of the spencer john gang and has taken part in some dirty work of late which i may clear up when i have time his immediate principal barney is a more astute person they specialize in assaults intimidation and the like what i want to know is who is at the back of them on this panicular occasion but why do they want to intimidate you it is this harrow weald case it decides me to look into the matter for if it is worth anyones while to take so much trouble there must be something in it but what is it i was going to tell you when we had this comic interlude here is mrs maberleys note if you care to come with me we will wire her and go out at once dear mr sherlock holmes i read i have had a succession of strange incidents occur to me in connection with this house and i should much value your advice you would find me at home any time to morrow the house is within a short walk of the weald station i believe that my late husband mortimer maberley was one of your early clients yours faithfully mary maberley the address was the three gables harrow weald so thats that said holmes and now if you can spare the time watson we will get upon our way a short railway journey and a shorter drive brought us to the house a brick and timber villa standing in its own acre of undeveloped grassland three small projections above the upper windows made a feeble attempt to justify its name behind was a grove of melancholy half grown pines and the whole aspect of the place was poor and depressing none the less we found the house to be well furnished and the lady who received us was a most engaging elderly person who bore every mark of refine ment and culture i remember your husband well madam said holmes though it is some years since he used my services in some trifling matter probably you would be more familiar with the name of my son douglas holmes looked at her with great interest dear me are you the mother of douglas maberley i knew him slightly but of course all london knew him what a magnificent creature he was where is he now dead mr holmes dead he was attache at rome and he died there of pneumonia last month i am sorry one could not connect death with such a man i have never known anyone so vitally alive he lived intensely every fibre of him too intensely mr holmes that was the ruin of him you remember him as he was debonair and splendid you did not see the moody morose brooding creature into which he devel oped his heart was broken in a single month i seemed to see my gallant boy turn into a worn out cynical man a love affair a woman or a fiend well it was not to talk of my poor lad that i asked you to come mr holmes dr watson and i are at your service there have been some very strange happenings i have been in this house more than a year now and as i wished to lead a retired life i have seen little of my neighbours three days ago i had a call from a man who said that he was a house agent he said that this house would exactly suit a client of his and that if i would part with it money would be no object it seemed to me very strange as there are several empty houses on the market which appear to be equally eligible but naturally i was interested in what he said i therefore named a price which was five hundred pounds more than i gave he at once closed with the offer but added that his client desired to buy the furniture as well and would i put a price upon it some of this furniture is from my old home and it is as you see very good so that i named a good round sum to this also he at once agreed i had always wanted to travel and the bargain was so good a one that it really seemed that i should be my own mistress for the rest of my life yesterday the man arrived with the agreement all drawn out luckily i showed it to mr sutro my lawyer who lives in harrow he said to me this is a very strange document are you aware that if you sign it you could not legally take anything out of the house not even your own private possessions when the man came again in the evening i pointed this out and i said that i meant only to sell the furniture no no everything said he but my clothes my jewels well well some concession might be made for your per sonal effects but nothing shall go out of the house unchecked my client is a very liberal man but he has his fads and his own way of doing things it is everything or nothing with him then it must be nothing said i and there the matter was left but the whole thing seemed to me to be so unusual that i thought here we had a very extraordinary interruption holmes raised his hand for silence then he strode across the room flung open the door and dragged in a great gaunt woman whom he had seized by the shoulder she entered with ungainly struggle like some huge awkward chicken torn squawking out of its coop leave me alone what are you a doin of she screeched why susan what is this well maam i was comin in to ask if the visitors was stayin for lunch when this man jumped out at me i have been listening to her for the last five minutes but did not wish to interrupt your most interesting narrative just a little wheezy susan are you not you breathe too heavily for that kind of work susan turned a sulky but amazed face upon her captor who be you anyhow and what right have you a pullin me about like this it was merely that i wished to ask a question in your presence did you mrs maberley mention to anyone that you were going to write to me and consult me no mr holmes i did not who posted your letter susan did exactly now susan to whom was it that you wrote or sent a message to say that your mistress was asking advice from me its a lie i sent no message now susan wheezy people may not live long you know its a wicked thing to tell fibs whom did you tell susan cried her mistress i believe you are a bad treach erous woman i remember now that i saw you speaking to someone over the hedge that was my own business said the woman sullenly suppose i tell you that it was barney stockdale to whom you spoke said holmes well if you know what do you want to ask for i was not sure but i know now well now susan it will be worth ten pounds to you if you will tell me who is at the back of barney someone that could lay down a thousand pounds for every ten you have in the world so a rich man no you smiled a rich woman now we have got so far you may as well give the name and earn the tenner ill see you in hell first oh susan language i am clearing out of here ive had enough of you all ill send for my box to morrow she flounced for the door good bye susan paregoric is the stuff now he continued turning suddenly from lively to severe when the door had closed behind the flushed and angry woman this gang means business look how close they play the game your letter to me had the 10 p m postmark and yet susan passes the word to barney barney has time to go to his employer and get instructions he or she i incline to the latter from susans grin when she thought i had blundered forms a plan black steve is called in and i am warned off by eleven oclock next morning thats quick work you know but what do they want yes thats the question who had the house before you a retired sea captain called ferguson anything remarkable about him not that ever i heard of i was wondering whether he could have buried something of course when people bury treasure nowadays they do it in the post office bank but there are always some lunatics about it would be a dull world without them at first i thought of some buried valuable but why in that case should they want your furniture you dont happen to have a raphael or a first folio shakespeare without knowing it no i dont think i have anything rarer than a crown derby tea set that would hardly justify all this mystery besides why should they not openly state what they want if they covet your tea set they can surely offer a price for it without buying you out lock stock and barrel no as i read it there is something which you do not know that you have and which you would not give up if you did know that is how i read it said i dr watson agrees so that settles it well mr holmes what can it be let us see whether by this purely mental analysis we can get it to a finer point you have been in this house a year nearly two all the better during this long period no one wants anything from you now suddenly within three or four days you have urgent demands what would you gather from that it can only mean said i that the object whatever it may be has only just come into the house settled once again said holmes now mrs maberley has any object just arrived no i have bought nothing new this year indeed that is very remarkable well i think we had best let matters develop a little further until we have clearer data is that lawyer of yours a capable man mr sutro is most capable have you another maid or was the fair susan who has just banged your front door alone i have a young girl try and get sutro to spend a night or two in the house you might possibly want protection against whom who knows the matter is certainly obscure if i cant find what they are after i must approach the matter from the other end and try to get at the principal did this house agent man give any address simply his card and occupation haines johnson auctioneer and valuer i dont think we shall find him in the directory honest business men dont conceal their place of business well you will let me know any fresh development i have taken up your case and you may rely upon it that i shall see it through as we passed through the hall holmess eyes which missed nothing lighted upon several trunks and cases which were piled in a corner the labels shone out upon them milano lucerne these are from italy they are poor douglass things you have not unpacked them how long have you had them they arrived last week but you said why surely this might be the missing link how do we know that there is not something of value there there could not possibly be mr holmes poor douglas had only his pay and a small annuity what could he have of value holmes was lost in thought delay no longer mrs maberley he said at last have these things taken upstairs to your bedroom examine them as soon as possible and see what they cohtain i will come to morrow and hear your report it was quite evident that the three gables was under very close surveillance for as we came round the high hedge at the end of the lane there was the negro prize fighter standing in the shadow we came on him quite suddenly and a grim and menacing figure he looked in that lonely place holmes clapped his hand to his pocket lookin for your gun masser holmes no for my scent bottle steve you are funny masser holmes aint you it wont be funny for you steve if i get after you i gave you fair warning this morning well masser holmes i done gone think over what you said and i dont want no more talk about that affair of masser perkins spose i can help you masser holmes i will well then tell me who is behind you on this job so help me the lord masser holmes i told you the truth before i dont know my boss barney gives me orders and thats all well just bear in mind steve that the lady in that house and everything under that roof is under my protection dont forget it all right masser holmes ill remember ive got him thoroughly frightened for his own skin wat son holmes remarked as we walked on i think he would double cross his employer if he knew who he was it was lucky i had some knowledge of the spencer john crowd and that steve was one of them now watson this is a case for langdale pike and i am going to see him now when i get back i may be clearer in the matter i saw no more of holmes during the day but i could well imagine how he spent it for langdale pike was his human book of reference upon all matters of social scandal this strange languid creature spent his waking hours in the bow window of a st jamess street club and was the receiving station as well as the transmitter for all the gossip of the metropolis he made it was said a four figure income by the paragraphs which he contributed every week to the gar bage papers which cater to an inquisitive public if ever far down in the turbid depths of london life there was some strange swirl or eddy it was marked with automatic exact ness by this human dial upon the surface holmes discreetly helped langdale to knowledge and on occasion was helped in turn when i met my friend in his room early next morning i was conscious from his bearing that all was well but none the less a most unpleasant surprise was awaiting us it took the shape of the following telegram please come out at once clients house burgled in the night police in possession sutro holmes whistled the drama has come to a crisis and quicker than i had expected there is a great driving power at the back of this business watson which does not surprise me after what i have heard this sutro of course is her lawyer i made a mistake i fear in not asking you to spend the night on guard this fellow has clearly proved a broken reed well there is nothing for it but another journey to harrow weald we found the three gables a very different establishment to the orderly household of the previous day a small group of idlers had assembled at the garden gate while a couple of constables were examining the windows and the geranium beds within we met a gray old gentleman who introduced himself as the lawyer together with a bustling rubicund inspector who greeted hoimes as an old friend well mr holmes no chance for you in this case im afraid just a common ordinary burglary and well within the capacity of the poor old police no experts need apply i am sure the case is in very good hands said holmes merely a common burglary you say quite so we know pretty well who the men are and where to find them it is that gang of barney stockdale with the big nigger in it theyve been seen about here excellent what did they get well they dont seem to have got much mrs maberley was chloroformed and the house was ah here is the lady herself our friend of yesterday looking very pale and ill had entered the room leaning upon a little maidservant you gave me good advice mr holmes said she smiling ruefully alas i did not take it i did not wish to trouble mr sutro and so i was unprotected i only heard of it this morning the lawyer explained mr holmes advised me to have some friend in the house i neglected his advice and i have paid for it you look wretchedly ill said holmes perhaps you are hardly equal to telling me what occurred it is all here said the inspector tapping a bulky notebook still if the lady is not too exhausted there is really so little to tell i have no doubt that wicked susan had planned an entrance for them they must have known the house to an inch i was conscious for a moment of the chloroform rag which was thrust over my mouth but i have no notion how long i may have been senseless when i woke one man was at the bedside and another was rising with a bundle in his hand from among my sons baggage which was partially opened and littered over the floor before he could get away i sprang up and seized him you took a big risk said the inspector i clung to him but he shook me off and the other may have struck me for i can remember no more mary the maid heard the noise and began screaming out of the window that brought the police but the rascals had got away what did they take well i dont think there is anything of value missing i am sure there was nothing in my sons trunks did the men leave no clue there was one sheet of paper which i may have torn from the man that i grasped it was lying all crumpled on the floor it is in my sons handwriting which means that it is not of much use said the inspector now if it had been in the burglars exactly said holmes what rugged common sense none the less i should be curious to see it the inspector drew a folded sheet of foolscap from his pocketbook i never pass anything however trifling said he with some pomposity that is my advice to you mr holmes in twenty five years experience i have learned my lesson there is always the chance of finger marks or something holmes inspected the sheet of paper what do you make of it inspector seems to be the end of some queer novel so far as i can see it may certainly prove to be the end of a queer tale said holmes you have noticed the number on the top of the page it is two hundred and forty five where are the odd two hundred and forty four pages well i suppose the burglars got those much good may it do them it seems a queer thing to break into a house in order to steal such papers as that does it suggest anything to you inspector yes sir it suggests that in their hurry the rascals just grabbed at what came first to hand i wish them joy of what they got why should they go to my sons things asked mrs maberley well they found nothing valuable downstairs so they tried their luck upstairs that is how i read it what do you make of it mr holmes i must think it over inspector come to the window wat son then as we stood together he read over the fragment of paper it began in the middle of a sentence and ran like this face bled considerably from the cuts and blows but it was nothing to the bleeding of his heart as he saw that lovely face the face for which he had been prepared to sacrifice his very life looking out at his agony and humilia tion she smiled yes by heaven she smiled like the heartless fiend she was as he looked up at her it was at that moment that love died and hate was born man must live for something if it is not for your embrace my lady then it shall surely be for your undoing and my complete revenge queer grammar said holmes with a smile as he handed the paper back to the inspector did you notice how the he suddenly changed to my the writer was so carried away by his own story that he imagined himself at the supreme moment to be the hero it seemed mighty poor stuff said the inspector as he re placed it in his book what are you off mr holmes i dont think there is anything more for me to do now that the case is in such capable hands by the way mrs maberley did you say you wished to travel it has always been my dream mr holmes where would you like to go cairo madeira the riviera oh if i had the money i would go round the world quite so round the world well good morning i may drop you a line in the evening as we passed the window i caught a glimpse of the inspectors smile and shake of the head these clever fellows have always a touch of madness that was what i read in the inspectors smile now watson we are at the last lap of our little journey said holmes when we were back in the roar of central london once more i think we had best clear the matter up at once and it would be well that you should come with me for it is safer to have a witness when you are dealing with such a lady as isadora klein we had taken a cab and were speeding to some address in grosvenor square holmes had been sunk in thought but he roused himself suddenly by the way watson i suppose you see it all clearly no i cant say that i do i only gather that we are going to see the lady who is behind all this mischief exactly but does the name isadora klein convey nothing to you she was of course the celebrated beauty there was never a woman to touch her she is pure spanish the real blood of the masterfui conquistadors and her people have been leaders in pernambuco for generations she married the aged german sugar king klein and presently found herself the richest as well as the most lovely widow upon earth then there was an interval of adventure when she pleased her own tastes she had several lovers and douglas maberley one of the most striking men in london was one of them it was by all accounts more than an adventure with him he was not a society butterfly but a strong proud man who gave and expected all but she is the belle dame sans merci of fiction when her caprice is satisfied the matter is ended and if the other party in the matter cant take her word for it she knows how to bring it home to him then that was his own story ah you are piecing it together now i hear that she is about to marry the young duke of lomond who might almost be her son his graces ma might overlook the age but a big scandal would be a different matter so it is imperative ah here we are it was one of the finest corner houses of the west end a machine like footman took up our cards and returned with word that the lady was not at home then we shall wait until she is said holmes cheerfully the machine broke down not at home means not at home to you said the footman good holmes answered that means that we shall not have to wait kindly give this note to your mistress he scribbled three or four words upon a sheet of his notebook folded it and handed it to the man what did you say holmes i asked i simply wrote shall it be the police then i think that should pass us in it did with amazing celerity a minute later we were in an arabian nights drawing room vast and wonderful in a half gloom picked out with an occasional pink electric light the lady had come i felt to that time of life when even the proudest beauty finds the half light more welcome she rose from a settee as we entered tall queenly a perfect figure a lovely mask like face with two wonderful spanish eyes which looked murder at us both what is this intrusion and this insulting message she asked holding up the slip of paper i need not explain madame i have too much respect for your intelligence to do so though i confess that intelligence has been surprisingly at fault of late how so sir by supposing that your hired bullies could frighten me from my work surely no man would take up my profession if it were not that danger attracts him it was you then who forced me to examine the case of young maberley i have no idea what you are talking about what have i to do with hired bullies holmes turned away wearily yes i have underrated your intelligence well good after noon stop where are you going to scotland yard we had not got halfway to the door before she had overtaken us and was holding his arm she had turned in a moment from steel to velvet come and sit down gentlemen let us talk this matter over i feel that i may be frank with you mr holmes you have the feelings of a gentleman how quick a womans instinct is to find it out i will treat you as a friend i cannot promise to reciprocate madame i am not the law but i represent justice so far as my feeble powers go i am ready to listen and then i will tell you how i will act no doubt it was foolish of me to threaten a brave man like yourself what was really foolish madame is that you have placed yourself in the power of a band of rascals who may blackmail or give you away no no i am not so simple since i have promised to be frank i may say that no one save barney stockdale and susan his wife have the least idea who their employer is as to them well it is not the first she smiled and nodded with a charming coquettish intimacy l see youve tested them before they are good hounds who run silent such hounds have a way sooner or later of biting the hand that feeds them they will be arrested for this burglary the police are already after them they will take what comes to them that is what they are paid for i shall not appear in the matter unless i bring you into it no no you would not you are a gentleman it is a wom ans secret in the first place you must give back this manuscript she broke into a ripple of laughter and walked to the fireplace there was a calcined mass which she broke up with the poker shall i give this back she asked so roguish and exquisite did she look as she stood before us with a challenging smile that i felt of all holmess criminals this was the one whom he would find it hardest to face however he was immune from sentiment that seals your fate he said coldly you are very prompt in your actions madame but you have overdone it on this occasion she threw the poker down with a clatter how hard you are she cried may i tell you the whole story i fancy i could tell it to you but you must look at it with my eyes mr holmes you must realize it from the point of view of a woman who sees all her lifes ambition about to be ruined at the last moment is such a woman to be blamed if she protects herself the original sin was yours yes yes i admit it he was a dear boy douglas but it so chanced that he could not fit into my plans he wanted marriage marriage mr holmes with a penniless commoner nothing less would serve him then he became pertinacious because i had given he seemed to think that i still must give and to him only it was intolerable at last i had to make him realize it by hiring ruffians to beat him under your own window you do indeed seem to know everything well it is true barney and the boys drove him away and were i admit a little rough in doing so but what did he do then could i have believed that a gentleman would do such an act he wrote a book in which he described his own story i of course was the wolf he the lamb it was all there under different names of course but who in all london would have failed to recognize it what do you say to that mr holmes well he was within his rights it was as if the air of italy had got into his blood and brought with it the old cruel italian spirit he wrote to me and sent me a copy of his book that i might have the torture of anticipation there were two copies he said one for me one for his publisher how did you know the publishers had not reached him i knew who his publisher was it is not his only novel you know i found out that he had not heard from italy then came douglass sudden death so long as that other manuscript was in the world there was no safety for me of course it must be among his effects and these would be returned to his mother i set the gang at work one of them got into the house as servant i wanted to do the thing honestly i really and truly did i was ready to buy the house and everything in it i offered any price she cared to ask i only tried the other way when everything else had failed now mr holmes granting that i was too hard on douglas and god knows i am sorry for it what else could i do with my whole future at stake sherlock holmes shrugged his shoulders well well said he i suppose i shall have to compound a felony as usual how much does it cost to go round the world in first class style the lady stared in amazement could it be done on five thousand pounds well i should think so indeed very good i think you will sign me a check for that and i will see that it comes to mrs maberley you owe her a little change of air meantime lady he wagged a cautionary forefinger have a care have a care you cant play with edged tools forever without cutting those dainty hands \\x1a']"
            ]
          },
          "metadata": {
            "tags": []
          },
          "execution_count": 5
        }
      ]
    },
    {
      "metadata": {
        "id": "ntGz5c9lukSF",
        "colab_type": "code",
        "outputId": "29e7cde0-b75d-4368-b093-949390cb7094",
        "colab": {
          "base_uri": "https://localhost:8080/",
          "height": 34
        }
      },
      "cell_type": "code",
      "source": [
        "# determine the vocabulary size\n",
        "vocab_size = len(tokenizer.word_index) + 1\n",
        "print('Vocabulary Size: %d' % vocab_size)"
      ],
      "execution_count": 6,
      "outputs": [
        {
          "output_type": "stream",
          "text": [
            "Vocabulary Size: 1442\n"
          ],
          "name": "stdout"
        }
      ]
    },
    {
      "metadata": {
        "id": "olhiAHoo5Q26",
        "colab_type": "code",
        "colab": {}
      },
      "cell_type": "code",
      "source": [
        "# x = pd.DataFrame(pd.Series([encoded[:i] for i in range(len(encoded))]))\n",
        "# x['label'] = pd.DataFrame([i for i in encoded])\n",
        "# x.head()"
      ],
      "execution_count": 0,
      "outputs": []
    },
    {
      "metadata": {
        "id": "Aa77eQj05bpI",
        "colab_type": "code",
        "outputId": "9f0e933c-24db-4f54-acbe-f16599e24a9b",
        "colab": {
          "base_uri": "https://localhost:8080/",
          "height": 34
        }
      },
      "cell_type": "code",
      "source": [
        "listy = []\n",
        "\n",
        "for i in range(len(encoded)):\n",
        "  listy.append(encoded[:i])\n",
        "  \n",
        "len(listy)"
      ],
      "execution_count": 8,
      "outputs": [
        {
          "output_type": "execute_result",
          "data": {
            "text/plain": [
              "6110"
            ]
          },
          "metadata": {
            "tags": []
          },
          "execution_count": 8
        }
      ]
    },
    {
      "metadata": {
        "id": "gO15yM1vdofW",
        "colab_type": "code",
        "outputId": "efb448d5-c2b7-4acc-f8e6-e95a25af39e3",
        "colab": {
          "base_uri": "https://localhost:8080/",
          "height": 168
        }
      },
      "cell_type": "code",
      "source": [
        "listy[1:10]"
      ],
      "execution_count": 9,
      "outputs": [
        {
          "output_type": "execute_result",
          "data": {
            "text/plain": [
              "[[2],\n",
              " [2, 64],\n",
              " [2, 64, 69],\n",
              " [2, 64, 69, 9],\n",
              " [2, 64, 69, 9, 102],\n",
              " [2, 64, 69, 9, 102, 7],\n",
              " [2, 64, 69, 9, 102, 7, 26],\n",
              " [2, 64, 69, 9, 102, 7, 26, 562],\n",
              " [2, 64, 69, 9, 102, 7, 26, 562, 19]]"
            ]
          },
          "metadata": {
            "tags": []
          },
          "execution_count": 9
        }
      ]
    },
    {
      "metadata": {
        "id": "UHAmZBhhYFzv",
        "colab_type": "code",
        "colab": {}
      },
      "cell_type": "code",
      "source": [
        "# np.array([np.array(xi) for xi in listy[1:]]) # creating array retaining the shape"
      ],
      "execution_count": 0,
      "outputs": []
    },
    {
      "metadata": {
        "id": "LH0pUQEJZuNw",
        "colab_type": "code",
        "outputId": "eedd257b-07f7-4768-8727-9b809d5fb4fb",
        "colab": {
          "base_uri": "https://localhost:8080/",
          "height": 34
        }
      },
      "cell_type": "code",
      "source": [
        "length = len(sorted(listy[1:],key = len, reverse = True)[0])   # creating array by adding 0 to make all rows equal\n",
        "X = np.array([xi + [0] * (length - len(xi)) for xi in listy[1:]])\n",
        "X.shape  # creating X array"
      ],
      "execution_count": 11,
      "outputs": [
        {
          "output_type": "execute_result",
          "data": {
            "text/plain": [
              "(6109, 6109)"
            ]
          },
          "metadata": {
            "tags": []
          },
          "execution_count": 11
        }
      ]
    },
    {
      "metadata": {
        "id": "YOpL0qlCsVff",
        "colab_type": "code",
        "outputId": "a5c74471-2a36-4056-cb3a-01b99104e667",
        "colab": {
          "base_uri": "https://localhost:8080/",
          "height": 84
        }
      },
      "cell_type": "code",
      "source": [
        "scaler = StandardScaler()\n",
        "X = scaler.fit_transform(X)"
      ],
      "execution_count": 12,
      "outputs": [
        {
          "output_type": "stream",
          "text": [
            "/usr/local/lib/python3.6/dist-packages/sklearn/utils/validation.py:595: DataConversionWarning: Data with input dtype int64 was converted to float64 by StandardScaler.\n",
            "  warnings.warn(msg, DataConversionWarning)\n",
            "/usr/local/lib/python3.6/dist-packages/sklearn/utils/validation.py:595: DataConversionWarning: Data with input dtype int64 was converted to float64 by StandardScaler.\n",
            "  warnings.warn(msg, DataConversionWarning)\n"
          ],
          "name": "stderr"
        }
      ]
    },
    {
      "metadata": {
        "id": "EaIZP8UtX0J9",
        "colab_type": "code",
        "colab": {
          "base_uri": "https://localhost:8080/",
          "height": 235
        },
        "outputId": "547bdbf5-d4d0-4774-c4b8-cbd274561f02"
      },
      "cell_type": "code",
      "source": [
        "X[0:100]"
      ],
      "execution_count": 13,
      "outputs": [
        {
          "output_type": "execute_result",
          "data": {
            "text/plain": [
              "array([[ 0.00000000e+00, -7.81536947e+01, -5.52584835e+01, ...,\n",
              "        -2.21657396e-02, -1.80967688e-02, -1.27953004e-02],\n",
              "       [ 0.00000000e+00,  1.27953004e-02, -5.52584835e+01, ...,\n",
              "        -2.21657396e-02, -1.80967688e-02, -1.27953004e-02],\n",
              "       [ 0.00000000e+00,  1.27953004e-02,  1.80967688e-02, ...,\n",
              "        -2.21657396e-02, -1.80967688e-02, -1.27953004e-02],\n",
              "       ...,\n",
              "       [ 0.00000000e+00,  1.27953004e-02,  1.80967688e-02, ...,\n",
              "        -2.21657396e-02, -1.80967688e-02, -1.27953004e-02],\n",
              "       [ 0.00000000e+00,  1.27953004e-02,  1.80967688e-02, ...,\n",
              "        -2.21657396e-02, -1.80967688e-02, -1.27953004e-02],\n",
              "       [ 0.00000000e+00,  1.27953004e-02,  1.80967688e-02, ...,\n",
              "        -2.21657396e-02, -1.80967688e-02, -1.27953004e-02]])"
            ]
          },
          "metadata": {
            "tags": []
          },
          "execution_count": 13
        }
      ]
    },
    {
      "metadata": {
        "id": "bMq9FIMbN7tq",
        "colab_type": "code",
        "outputId": "c9b65abb-b777-48da-955f-60c9b756d77d",
        "colab": {
          "base_uri": "https://localhost:8080/",
          "height": 34
        }
      },
      "cell_type": "code",
      "source": [
        "y = [i for i in encoded][1:] # creating y array\n",
        "len(y)"
      ],
      "execution_count": 14,
      "outputs": [
        {
          "output_type": "execute_result",
          "data": {
            "text/plain": [
              "6109"
            ]
          },
          "metadata": {
            "tags": []
          },
          "execution_count": 14
        }
      ]
    },
    {
      "metadata": {
        "id": "kBtV_MblN_ly",
        "colab_type": "code",
        "colab": {}
      },
      "cell_type": "code",
      "source": [
        "# one hot encode outputs\n",
        "y = to_categorical(y, num_classes = vocab_size)"
      ],
      "execution_count": 0,
      "outputs": []
    },
    {
      "metadata": {
        "id": "M8hS0EsOsHZK",
        "colab_type": "code",
        "outputId": "52960d21-5b5f-474e-8f5f-aef74248f751",
        "colab": {
          "base_uri": "https://localhost:8080/",
          "height": 134
        }
      },
      "cell_type": "code",
      "source": [
        "y[0:100]"
      ],
      "execution_count": 16,
      "outputs": [
        {
          "output_type": "execute_result",
          "data": {
            "text/plain": [
              "array([[0., 0., 0., ..., 0., 0., 0.],\n",
              "       [0., 0., 0., ..., 0., 0., 0.],\n",
              "       [0., 0., 0., ..., 0., 0., 0.],\n",
              "       ...,\n",
              "       [0., 0., 0., ..., 0., 0., 0.],\n",
              "       [0., 0., 0., ..., 0., 0., 0.],\n",
              "       [0., 0., 0., ..., 0., 0., 0.]], dtype=float32)"
            ]
          },
          "metadata": {
            "tags": []
          },
          "execution_count": 16
        }
      ]
    },
    {
      "metadata": {
        "id": "fh72jiM3LZkH",
        "colab_type": "code",
        "outputId": "1953bbf4-876c-4301-d302-aae495d7eb0f",
        "colab": {
          "base_uri": "https://localhost:8080/",
          "height": 34
        }
      },
      "cell_type": "code",
      "source": [
        "X.shape, y.shape"
      ],
      "execution_count": 17,
      "outputs": [
        {
          "output_type": "execute_result",
          "data": {
            "text/plain": [
              "((6109, 6109), (6109, 1442))"
            ]
          },
          "metadata": {
            "tags": []
          },
          "execution_count": 17
        }
      ]
    },
    {
      "metadata": {
        "id": "lT6XGFybeuRM",
        "colab_type": "code",
        "colab": {
          "base_uri": "https://localhost:8080/",
          "height": 34
        },
        "outputId": "3699bef8-f024-4eb4-8117-a654d9286c33"
      },
      "cell_type": "code",
      "source": [
        "# LSTMs accept input in the form of (number_of_sequences, length_of_sequence, number_of_features)\n",
        "X_lstm = np.reshape(X, (X.shape[0], X.shape[1], 1))\n",
        "X_lstm.shape"
      ],
      "execution_count": 18,
      "outputs": [
        {
          "output_type": "execute_result",
          "data": {
            "text/plain": [
              "(6109, 6109, 1)"
            ]
          },
          "metadata": {
            "tags": []
          },
          "execution_count": 18
        }
      ]
    },
    {
      "metadata": {
        "id": "AiS7DGsZfg4A",
        "colab_type": "code",
        "colab": {
          "base_uri": "https://localhost:8080/",
          "height": 507
        },
        "outputId": "ee903922-29db-4971-8559-39dfd1aaa32c"
      },
      "cell_type": "code",
      "source": [
        "model = tf.keras.models.Sequential()\n",
        "model.add(tf.keras.layers.LSTM(50, input_shape = (X_lstm.shape[1], X_lstm.shape[2]), return_sequences = True))\n",
        "model.add(tf.keras.layers.Dropout(0.2))\n",
        "model.add(tf.keras.layers.LSTM(50, return_sequences = True))\n",
        "model.add(tf.keras.layers.Dropout(0.2))\n",
        "# model.add(tf.keras.layers.LSTM(500, return_sequences = True))\n",
        "# model.add(tf.keras.layers.Dropout(0.2))\n",
        "# model.add(tf.keras.layers.LSTM(500, return_sequences = True))\n",
        "# model.add(tf.keras.layers.Dropout(0.2))\n",
        "# model.add(tf.keras.layers.LSTM(2500, return_sequences = True))\n",
        "# model.add(tf.keras.layers.Dropout(0.2))\n",
        "model.add(tf.keras.layers.LSTM(50))\n",
        "model.add(tf.keras.layers.Dropout(0.2))\n",
        "model.add(tf.keras.layers.Dense(y.shape[1], activation='softmax'))\n",
        "model.compile(loss = 'categorical_crossentropy', optimizer = 'adam', metrics = ['accuracy'])\n",
        "print(model.summary())"
      ],
      "execution_count": 19,
      "outputs": [
        {
          "output_type": "stream",
          "text": [
            "WARNING:tensorflow:From /usr/local/lib/python3.6/dist-packages/tensorflow/python/ops/resource_variable_ops.py:435: colocate_with (from tensorflow.python.framework.ops) is deprecated and will be removed in a future version.\n",
            "Instructions for updating:\n",
            "Colocations handled automatically by placer.\n",
            "WARNING:tensorflow:From /usr/local/lib/python3.6/dist-packages/tensorflow/python/keras/layers/core.py:143: calling dropout (from tensorflow.python.ops.nn_ops) with keep_prob is deprecated and will be removed in a future version.\n",
            "Instructions for updating:\n",
            "Please use `rate` instead of `keep_prob`. Rate should be set to `rate = 1 - keep_prob`.\n",
            "_________________________________________________________________\n",
            "Layer (type)                 Output Shape              Param #   \n",
            "=================================================================\n",
            "lstm (LSTM)                  (None, 6109, 50)          10400     \n",
            "_________________________________________________________________\n",
            "dropout (Dropout)            (None, 6109, 50)          0         \n",
            "_________________________________________________________________\n",
            "lstm_1 (LSTM)                (None, 6109, 50)          20200     \n",
            "_________________________________________________________________\n",
            "dropout_1 (Dropout)          (None, 6109, 50)          0         \n",
            "_________________________________________________________________\n",
            "lstm_2 (LSTM)                (None, 50)                20200     \n",
            "_________________________________________________________________\n",
            "dropout_2 (Dropout)          (None, 50)                0         \n",
            "_________________________________________________________________\n",
            "dense (Dense)                (None, 1442)              73542     \n",
            "=================================================================\n",
            "Total params: 124,342\n",
            "Trainable params: 124,342\n",
            "Non-trainable params: 0\n",
            "_________________________________________________________________\n",
            "None\n"
          ],
          "name": "stdout"
        }
      ]
    },
    {
      "metadata": {
        "id": "XDd_BheDe5jb",
        "colab_type": "code",
        "outputId": "3b5adb49-47a3-4856-adc2-3ec038e116a2",
        "colab": {
          "base_uri": "https://localhost:8080/",
          "height": 454
        }
      },
      "cell_type": "code",
      "source": [
        "TPU_WORKER = 'grpc://' + os.environ['COLAB_TPU_ADDR']\n",
        "tf.logging.set_verbosity(tf.logging.INFO)\n",
        "\n",
        "tpu_model = tf.contrib.tpu.keras_to_tpu_model(\n",
        "    model,\n",
        "    strategy=tf.contrib.tpu.TPUDistributionStrategy(\n",
        "        tf.contrib.cluster_resolver.TPUClusterResolver(TPU_WORKER)))"
      ],
      "execution_count": 20,
      "outputs": [
        {
          "output_type": "stream",
          "text": [
            "\n",
            "WARNING: The TensorFlow contrib module will not be included in TensorFlow 2.0.\n",
            "For more information, please see:\n",
            "  * https://github.com/tensorflow/community/blob/master/rfcs/20180907-contrib-sunset.md\n",
            "  * https://github.com/tensorflow/addons\n",
            "If you depend on functionality not listed there, please file an issue.\n",
            "\n",
            "INFO:tensorflow:Querying Tensorflow master (grpc://10.80.46.26:8470) for TPU system metadata.\n",
            "INFO:tensorflow:Found TPU system:\n",
            "INFO:tensorflow:*** Num TPU Cores: 8\n",
            "INFO:tensorflow:*** Num TPU Workers: 1\n",
            "INFO:tensorflow:*** Num TPU Cores Per Worker: 8\n",
            "INFO:tensorflow:*** Available Device: _DeviceAttributes(/job:worker/replica:0/task:0/device:CPU:0, CPU, -1, 8675534048844622726)\n",
            "INFO:tensorflow:*** Available Device: _DeviceAttributes(/job:worker/replica:0/task:0/device:XLA_CPU:0, XLA_CPU, 17179869184, 8104626418201717315)\n",
            "INFO:tensorflow:*** Available Device: _DeviceAttributes(/job:worker/replica:0/task:0/device:TPU:0, TPU, 17179869184, 11794380128605886940)\n",
            "INFO:tensorflow:*** Available Device: _DeviceAttributes(/job:worker/replica:0/task:0/device:TPU:1, TPU, 17179869184, 11302746065549707223)\n",
            "INFO:tensorflow:*** Available Device: _DeviceAttributes(/job:worker/replica:0/task:0/device:TPU:2, TPU, 17179869184, 9518061741617135973)\n",
            "INFO:tensorflow:*** Available Device: _DeviceAttributes(/job:worker/replica:0/task:0/device:TPU:3, TPU, 17179869184, 10667748713328554598)\n",
            "INFO:tensorflow:*** Available Device: _DeviceAttributes(/job:worker/replica:0/task:0/device:TPU:4, TPU, 17179869184, 2080749384844344676)\n",
            "INFO:tensorflow:*** Available Device: _DeviceAttributes(/job:worker/replica:0/task:0/device:TPU:5, TPU, 17179869184, 15028972617387679751)\n",
            "INFO:tensorflow:*** Available Device: _DeviceAttributes(/job:worker/replica:0/task:0/device:TPU:6, TPU, 17179869184, 4835612234437141215)\n",
            "INFO:tensorflow:*** Available Device: _DeviceAttributes(/job:worker/replica:0/task:0/device:TPU:7, TPU, 17179869184, 133878908654985825)\n",
            "INFO:tensorflow:*** Available Device: _DeviceAttributes(/job:worker/replica:0/task:0/device:TPU_SYSTEM:0, TPU_SYSTEM, 17179869184, 14863125292790482144)\n",
            "WARNING:tensorflow:tpu_model (from tensorflow.contrib.tpu.python.tpu.keras_support) is experimental and may change or be removed at any time, and without warning.\n",
            "INFO:tensorflow:Cloning Adam {'lr': 0.0010000000474974513, 'beta_1': 0.8999999761581421, 'beta_2': 0.9990000128746033, 'decay': 0.0, 'epsilon': 1e-07, 'amsgrad': False}\n",
            "INFO:tensorflow:Cloning Adam {'lr': 0.0010000000474974513, 'beta_1': 0.8999999761581421, 'beta_2': 0.9990000128746033, 'decay': 0.0, 'epsilon': 1e-07, 'amsgrad': False}\n"
          ],
          "name": "stdout"
        }
      ]
    },
    {
      "metadata": {
        "id": "54bVMlFbfAJU",
        "colab_type": "code",
        "outputId": "5acda594-660a-4abe-d7e2-0115d6994def",
        "colab": {
          "base_uri": "https://localhost:8080/",
          "height": 403
        }
      },
      "cell_type": "code",
      "source": [
        "tpu_model.summary()"
      ],
      "execution_count": 21,
      "outputs": [
        {
          "output_type": "stream",
          "text": [
            "_________________________________________________________________\n",
            "Layer (type)                 Output Shape              Param #   \n",
            "=================================================================\n",
            "lstm_input (InputLayer)      (None, 6109, 1)           0         \n",
            "_________________________________________________________________\n",
            "lstm (LSTM)                  (None, 6109, 50)          10400     \n",
            "_________________________________________________________________\n",
            "dropout (Dropout)            (None, 6109, 50)          0         \n",
            "_________________________________________________________________\n",
            "lstm_1 (LSTM)                (None, 6109, 50)          20200     \n",
            "_________________________________________________________________\n",
            "dropout_1 (Dropout)          (None, 6109, 50)          0         \n",
            "_________________________________________________________________\n",
            "lstm_2 (LSTM)                (None, 50)                20200     \n",
            "_________________________________________________________________\n",
            "dropout_2 (Dropout)          (None, 50)                0         \n",
            "_________________________________________________________________\n",
            "dense (Dense)                (None, 1442)              73542     \n",
            "=================================================================\n",
            "Total params: 124,342\n",
            "Trainable params: 124,342\n",
            "Non-trainable params: 0\n",
            "_________________________________________________________________\n"
          ],
          "name": "stdout"
        }
      ]
    },
    {
      "metadata": {
        "id": "HnaZY1IrfEso",
        "colab_type": "code",
        "outputId": "d02ddd93-cb53-4198-c122-832ab6442ca0",
        "colab": {
          "base_uri": "https://localhost:8080/",
          "height": 742
        }
      },
      "cell_type": "code",
      "source": [
        "#early_stopping_monitor = EarlyStopping(patience = 4)\n",
        "tpu_model.fit(X_lstm, y, epochs = 100, batch_size = 100)#, callbacks = [early_stopping_monitor])"
      ],
      "execution_count": 0,
      "outputs": [
        {
          "output_type": "stream",
          "text": [
            "Epoch 1/100\n",
            "INFO:tensorflow:New input shapes; (re-)compiling: mode=train (# of cores 8), [TensorSpec(shape=(12,), dtype=tf.int32, name='core_id0'), TensorSpec(shape=(12, 6109, 1), dtype=tf.float32, name='lstm_input_10'), TensorSpec(shape=(12, 1442), dtype=tf.float32, name='dense_target_30')]\n",
            "INFO:tensorflow:Overriding default placeholder.\n",
            "INFO:tensorflow:Cloning Adam {'lr': 0.0010000000474974513, 'beta_1': 0.8999999761581421, 'beta_2': 0.9990000128746033, 'decay': 0.0, 'epsilon': 1e-07, 'amsgrad': False}\n",
            "INFO:tensorflow:Remapping placeholder for lstm_input\n",
            "WARNING:tensorflow:From /usr/local/lib/python3.6/dist-packages/tensorflow/contrib/tpu/python/tpu/keras_support.py:302: to_float (from tensorflow.python.ops.math_ops) is deprecated and will be removed in a future version.\n",
            "Instructions for updating:\n",
            "Use tf.cast instead.\n",
            "INFO:tensorflow:KerasCrossShard: <tensorflow.python.keras.optimizers.Adam object at 0x7f212ce6fbe0> []\n",
            "WARNING:tensorflow:From /usr/local/lib/python3.6/dist-packages/tensorflow/python/ops/math_ops.py:3066: to_int32 (from tensorflow.python.ops.math_ops) is deprecated and will be removed in a future version.\n",
            "Instructions for updating:\n",
            "Use tf.cast instead.\n",
            "INFO:tensorflow:Started compiling\n",
            "INFO:tensorflow:Finished compiling. Time elapsed: 11.09944772720337 secs\n",
            "INFO:tensorflow:Setting weights on TPU model.\n",
            "INFO:tensorflow:CPU -> TPU lr: 0.0010000000474974513 {0.001}\n",
            "INFO:tensorflow:CPU -> TPU beta_1: 0.8999999761581421 {0.9}\n",
            "INFO:tensorflow:CPU -> TPU beta_2: 0.9990000128746033 {0.999}\n",
            "INFO:tensorflow:CPU -> TPU decay: 0.0 {0.0}\n",
            "WARNING:tensorflow:Cannot update non-variable config: epsilon\n",
            "WARNING:tensorflow:Cannot update non-variable config: amsgrad\n",
            "6000/6109 [============================>.] - ETA: 1s - loss: 6.7144 - acc: 0.0337INFO:tensorflow:New input shapes; (re-)compiling: mode=train (# of cores 8), [TensorSpec(shape=(1,), dtype=tf.int32, name='core_id0'), TensorSpec(shape=(1, 6109, 1), dtype=tf.float32, name='lstm_input_10'), TensorSpec(shape=(1, 1442), dtype=tf.float32, name='dense_target_30')]\n",
            "INFO:tensorflow:Overriding default placeholder.\n",
            "INFO:tensorflow:Remapping placeholder for lstm_input\n",
            "INFO:tensorflow:KerasCrossShard: <tensorflow.python.keras.optimizers.Adam object at 0x7f212ce6fbe0> [<tf.Variable 'tpu_139780598889216/Adam/iterations:0' shape=() dtype=int64>, <tensorflow.contrib.tpu.python.tpu.keras_tpu_variables.ReplicatedVariable object at 0x7f212a262b70>, <tensorflow.contrib.tpu.python.tpu.keras_tpu_variables.ReplicatedVariable object at 0x7f212a27c320>, <tensorflow.contrib.tpu.python.tpu.keras_tpu_variables.ReplicatedVariable object at 0x7f212a27c6a0>, <tensorflow.contrib.tpu.python.tpu.keras_tpu_variables.ReplicatedVariable object at 0x7f212a23e2b0>, <tensorflow.contrib.tpu.python.tpu.keras_tpu_variables.ReplicatedVariable object at 0x7f212a208e10>, <tensorflow.contrib.tpu.python.tpu.keras_tpu_variables.ReplicatedVariable object at 0x7f212a17f748>, <tensorflow.contrib.tpu.python.tpu.keras_tpu_variables.ReplicatedVariable object at 0x7f212a147fd0>, <tensorflow.contrib.tpu.python.tpu.keras_tpu_variables.ReplicatedVariable object at 0x7f212a1132b0>, <tensorflow.contrib.tpu.python.tpu.keras_tpu_variables.ReplicatedVariable object at 0x7f212a062278>, <tensorflow.contrib.tpu.python.tpu.keras_tpu_variables.ReplicatedVariable object at 0x7f212a02d898>, <tensorflow.contrib.tpu.python.tpu.keras_tpu_variables.ReplicatedVariable object at 0x7f212a01cef0>, <tensorflow.contrib.tpu.python.tpu.keras_tpu_variables.ReplicatedVariable object at 0x7f2129f6ba58>, <tensorflow.contrib.tpu.python.tpu.keras_tpu_variables.ReplicatedVariable object at 0x7f2129f342e8>, <tensorflow.contrib.tpu.python.tpu.keras_tpu_variables.ReplicatedVariable object at 0x7f2129f036d8>, <tensorflow.contrib.tpu.python.tpu.keras_tpu_variables.ReplicatedVariable object at 0x7f2129eca828>, <tensorflow.contrib.tpu.python.tpu.keras_tpu_variables.ReplicatedVariable object at 0x7f2129e97be0>, <tensorflow.contrib.tpu.python.tpu.keras_tpu_variables.ReplicatedVariable object at 0x7f2129e09160>, <tensorflow.contrib.tpu.python.tpu.keras_tpu_variables.ReplicatedVariable object at 0x7f2129dd7160>, <tensorflow.contrib.tpu.python.tpu.keras_tpu_variables.ReplicatedVariable object at 0x7f2129d209b0>, <tensorflow.contrib.tpu.python.tpu.keras_tpu_variables.ReplicatedVariable object at 0x7f2129cedac8>, <tensorflow.contrib.tpu.python.tpu.keras_tpu_variables.ReplicatedVariable object at 0x7f2129cb7f98>, <tensorflow.contrib.tpu.python.tpu.keras_tpu_variables.ReplicatedVariable object at 0x7f2129c2e080>, <tensorflow.contrib.tpu.python.tpu.keras_tpu_variables.ReplicatedVariable object at 0x7f2129bfa588>, <tensorflow.contrib.tpu.python.tpu.keras_tpu_variables.ReplicatedVariable object at 0x7f2129bc5e80>, <tensorflow.contrib.tpu.python.tpu.keras_tpu_variables.ReplicatedVariable object at 0x7f2129b39da0>, <tensorflow.contrib.tpu.python.tpu.keras_tpu_variables.ReplicatedVariable object at 0x7f2129b03908>, <tensorflow.contrib.tpu.python.tpu.keras_tpu_variables.ReplicatedVariable object at 0x7f2129ad0550>, <tensorflow.contrib.tpu.python.tpu.keras_tpu_variables.ReplicatedVariable object at 0x7f2129a9ae48>, <tensorflow.contrib.tpu.python.tpu.keras_tpu_variables.ReplicatedVariable object at 0x7f21299e5860>, <tensorflow.contrib.tpu.python.tpu.keras_tpu_variables.ReplicatedVariable object at 0x7f21299d5908>, <tensorflow.contrib.tpu.python.tpu.keras_tpu_variables.ReplicatedVariable object at 0x7f2129924550>, <tensorflow.contrib.tpu.python.tpu.keras_tpu_variables.ReplicatedVariable object at 0x7f21298ece48>, <tensorflow.contrib.tpu.python.tpu.keras_tpu_variables.ReplicatedVariable object at 0x7f21298b8860>]\n",
            "INFO:tensorflow:Started compiling\n",
            "INFO:tensorflow:Finished compiling. Time elapsed: 14.3698890209198 secs\n",
            "6109/6109 [==============================] - 140s 23ms/sample - loss: 6.7051 - acc: 0.0338\n",
            "Epoch 2/100\n",
            "6109/6109 [==============================] - 70s 11ms/sample - loss: 6.0565 - acc: 0.0414\n",
            "Epoch 3/100\n",
            "6109/6109 [==============================] - 70s 11ms/sample - loss: 6.0306 - acc: 0.0423\n",
            "Epoch 4/100\n",
            "6109/6109 [==============================] - 70s 11ms/sample - loss: 6.0196 - acc: 0.0408\n",
            "Epoch 5/100\n",
            "6109/6109 [==============================] - 70s 11ms/sample - loss: 6.0165 - acc: 0.0409\n",
            "Epoch 6/100\n",
            "6109/6109 [==============================] - 70s 11ms/sample - loss: 6.0041 - acc: 0.0420\n",
            "Epoch 7/100\n",
            "6109/6109 [==============================] - 70s 11ms/sample - loss: 6.0065 - acc: 0.0454\n",
            "Epoch 8/100\n",
            "1700/6109 [=======>......................] - ETA: 49s - loss: 5.9835 - acc: 0.0392"
          ],
          "name": "stdout"
        }
      ]
    },
    {
      "metadata": {
        "id": "YzZe48vENjUN",
        "colab_type": "code",
        "colab": {}
      },
      "cell_type": "code",
      "source": [
        "# Create the plot\n",
        "plt.plot(tpu_model.history.history['acc'], 'r', tpu_model.history.history['loss'], 'b')\n",
        "plt.xlabel('Epochs')\n",
        "plt.ylabel('Validation score')\n",
        "plt.legend()\n",
        "plt.show()"
      ],
      "execution_count": 0,
      "outputs": []
    },
    {
      "metadata": {
        "id": "ueawbr1eGsVL",
        "colab_type": "code",
        "colab": {}
      },
      "cell_type": "code",
      "source": [
        "cpu_model = tpu_model.sync_to_cpu()"
      ],
      "execution_count": 0,
      "outputs": []
    },
    {
      "metadata": {
        "id": "I4XK5eh-VSb4",
        "colab_type": "code",
        "colab": {}
      },
      "cell_type": "code",
      "source": [
        "cpu_model.save_weights('Deep_Writing_with_sentence-word_prediction-tpu.h5')"
      ],
      "execution_count": 0,
      "outputs": []
    },
    {
      "metadata": {
        "id": "6oml2ac7Vjds",
        "colab_type": "code",
        "colab": {}
      },
      "cell_type": "code",
      "source": [
        "cpu_model.load_weights('Deep_Writing_with_sentence-word_prediction-tpu.h5')"
      ],
      "execution_count": 0,
      "outputs": []
    },
    {
      "metadata": {
        "id": "npQJ92OeXPp-",
        "colab_type": "code",
        "colab": {}
      },
      "cell_type": "code",
      "source": [
        "X[99]"
      ],
      "execution_count": 0,
      "outputs": []
    },
    {
      "metadata": {
        "id": "-2FfpFmij3oC",
        "colab_type": "code",
        "colab": {}
      },
      "cell_type": "code",
      "source": [
        "X_lstm[0:10].shape"
      ],
      "execution_count": 0,
      "outputs": []
    },
    {
      "metadata": {
        "id": "CIE3gxpeGtLr",
        "colab_type": "code",
        "colab": {}
      },
      "cell_type": "code",
      "source": [
        "pred = cpu_model.predict(X_lstm[10:20])"
      ],
      "execution_count": 0,
      "outputs": []
    },
    {
      "metadata": {
        "id": "7qckBBGtnq1I",
        "colab_type": "code",
        "colab": {}
      },
      "cell_type": "code",
      "source": [
        "print(pred.shape)\n",
        "pred"
      ],
      "execution_count": 0,
      "outputs": []
    },
    {
      "metadata": {
        "id": "ytDk_iltoqZR",
        "colab_type": "code",
        "colab": {}
      },
      "cell_type": "code",
      "source": [
        "for i in range(len(pred)):\n",
        "  print(tokenizer.index_word[np.argmax(pred[i])])"
      ],
      "execution_count": 0,
      "outputs": []
    },
    {
      "metadata": {
        "id": "aNZbZv6HouIB",
        "colab_type": "code",
        "colab": {}
      },
      "cell_type": "code",
      "source": [
        ""
      ],
      "execution_count": 0,
      "outputs": []
    }
  ]
}