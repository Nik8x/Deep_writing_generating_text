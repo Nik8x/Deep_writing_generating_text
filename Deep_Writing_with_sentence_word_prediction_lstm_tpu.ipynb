{
  "nbformat": 4,
  "nbformat_minor": 0,
  "metadata": {
    "colab": {
      "name": "Deep_Writing_with_sentence-word_prediction-tpu.ipynb",
      "version": "0.3.2",
      "provenance": [],
      "collapsed_sections": [],
      "include_colab_link": true
    },
    "kernelspec": {
      "name": "python3",
      "display_name": "Python 3"
    },
    "accelerator": "TPU"
  },
  "cells": [
    {
      "cell_type": "markdown",
      "metadata": {
        "id": "view-in-github",
        "colab_type": "text"
      },
      "source": [
        "<a href=\"https://colab.research.google.com/github/Nik8x/Deep_writing_generating_text/blob/master/Deep_Writing_with_sentence_word_prediction_lstm_tpu.ipynb\" target=\"_parent\"><img src=\"https://colab.research.google.com/assets/colab-badge.svg\" alt=\"Open In Colab\"/></a>"
      ]
    },
    {
      "metadata": {
        "id": "vUb856aHtNq_",
        "colab_type": "code",
        "outputId": "d7b8044a-8484-469d-b56d-f21f24318dff",
        "colab": {
          "base_uri": "https://localhost:8080/",
          "height": 232
        }
      },
      "cell_type": "code",
      "source": [
        "import pandas as pd\n",
        "import numpy as np\n",
        "import matplotlib.pyplot as plt\n",
        "\n",
        "import regex as re\n",
        "\n",
        "import nltk\n",
        "from nltk.draw.dispersion import dispersion_plot\n",
        "from nltk.corpus import stopwords\n",
        "nltk.download('stopwords')\n",
        "from nltk.probability import FreqDist\n",
        "from textblob import TextBlob\n",
        "from nltk.stem import WordNetLemmatizer\n",
        "nltk.download('wordnet')\n",
        "from nltk.corpus.reader.plaintext import PlaintextCorpusReader\n",
        "nltk.download('averaged_perceptron_tagger')\n",
        "from nltk.util import ngrams\n",
        "from nltk.sentiment import SentimentIntensityAnalyzer\n",
        "nltk.download('vader_lexicon')\n",
        "\n",
        "from sklearn.preprocessing import StandardScaler\n",
        "from sklearn.preprocessing import LabelBinarizer\n",
        "\n",
        "import tensorflow as tf\n",
        "import keras\n",
        "from keras.models import Sequential\n",
        "from keras.layers import Dense\n",
        "from keras.layers import Dropout\n",
        "from keras.layers import LSTM\n",
        "from keras.utils import np_utils\n",
        "from keras.callbacks import EarlyStopping\n",
        "\n",
        "from keras.preprocessing.text import Tokenizer\n",
        "from keras.utils.np_utils import to_categorical\n",
        "\n",
        "import tensorflow as tf\n",
        "import keras\n",
        "from keras.models import Sequential\n",
        "from keras.layers import Dense, Dropout, LSTM, Embedding\n",
        "\n",
        "from keras.preprocessing.text import Tokenizer\n",
        "from keras.utils.np_utils import to_categorical\n",
        "\n",
        "import urllib\n",
        "\n",
        "import os\n",
        "\n",
        "# Any results you write to the current directory are saved as output.\n",
        "# from google.colab import drive\n",
        "# drive.mount('/content/gdrive')"
      ],
      "execution_count": 1,
      "outputs": [
        {
          "output_type": "stream",
          "text": [
            "[nltk_data] Downloading package stopwords to /root/nltk_data...\n",
            "[nltk_data]   Unzipping corpora/stopwords.zip.\n",
            "[nltk_data] Downloading package wordnet to /root/nltk_data...\n",
            "[nltk_data]   Unzipping corpora/wordnet.zip.\n",
            "[nltk_data] Downloading package averaged_perceptron_tagger to\n",
            "[nltk_data]     /root/nltk_data...\n",
            "[nltk_data]   Unzipping taggers/averaged_perceptron_tagger.zip.\n",
            "[nltk_data] Downloading package vader_lexicon to /root/nltk_data...\n"
          ],
          "name": "stdout"
        },
        {
          "output_type": "stream",
          "text": [
            "/usr/local/lib/python3.6/dist-packages/nltk/twitter/__init__.py:20: UserWarning: The twython library has not been installed. Some functionality from the twitter package will not be available.\n",
            "  warnings.warn(\"The twython library has not been installed. \"\n",
            "Using TensorFlow backend.\n"
          ],
          "name": "stderr"
        }
      ]
    },
    {
      "metadata": {
        "id": "f3MnaG43tZeA",
        "colab_type": "code",
        "outputId": "7c884320-232a-4737-8b0c-65a61bed712a",
        "colab": {
          "base_uri": "https://localhost:8080/",
          "height": 55
        }
      },
      "cell_type": "code",
      "source": [
        "text = urllib.request.urlopen('http://www.textfiles.com/stories/3gables.txt').read().decode('utf8')\n",
        "text = text.replace('\\n', ' ').replace('\\r', '').replace(\"\\'\", \"\").replace('\\w+', '')[348:500]\n",
        "text[0:1000]"
      ],
      "execution_count": 2,
      "outputs": [
        {
          "output_type": "execute_result",
          "data": {
            "text/plain": [
              "'   I dont think that any of my adventures with Mr. Sherlock Holmes opened quite so abruptly, or so dramatically, as that which I associate with The Thre'"
            ]
          },
          "metadata": {
            "tags": []
          },
          "execution_count": 2
        }
      ]
    },
    {
      "metadata": {
        "id": "mS16E8LAtfBA",
        "colab_type": "code",
        "colab": {}
      },
      "cell_type": "code",
      "source": [
        "# I will first convert all the words to numbers, then normalize them, then make a dataframe with two columns, \n",
        "# one with sentences(one word, then two words, and so on), the other with the exact next word"
      ],
      "execution_count": 0,
      "outputs": []
    },
    {
      "metadata": {
        "id": "JnHkDWF6uB-7",
        "colab_type": "code",
        "colab": {}
      },
      "cell_type": "code",
      "source": [
        "# integer encode text\n",
        "tokenizer = Tokenizer()\n",
        "tokenizer.fit_on_texts([text])\n",
        "encoded = tokenizer.texts_to_sequences([text])[0]"
      ],
      "execution_count": 0,
      "outputs": []
    },
    {
      "metadata": {
        "id": "ntGz5c9lukSF",
        "colab_type": "code",
        "outputId": "8fa4e794-9b25-4cd8-951f-d4e24ae50b68",
        "colab": {
          "base_uri": "https://localhost:8080/",
          "height": 35
        }
      },
      "cell_type": "code",
      "source": [
        "# determine the vocabulary size\n",
        "vocab_size = len(tokenizer.word_index) + 1\n",
        "print('Vocabulary Size: %d' % vocab_size)"
      ],
      "execution_count": 5,
      "outputs": [
        {
          "output_type": "stream",
          "text": [
            "Vocabulary Size: 24\n"
          ],
          "name": "stdout"
        }
      ]
    },
    {
      "metadata": {
        "id": "olhiAHoo5Q26",
        "colab_type": "code",
        "colab": {}
      },
      "cell_type": "code",
      "source": [
        "# x = pd.DataFrame(pd.Series([encoded[:i] for i in range(len(encoded))]))\n",
        "# x['label'] = pd.DataFrame([i for i in encoded])\n",
        "# x.head()"
      ],
      "execution_count": 0,
      "outputs": []
    },
    {
      "metadata": {
        "id": "Aa77eQj05bpI",
        "colab_type": "code",
        "outputId": "676aa0b2-8fc3-4579-b3e1-8cd0b426519f",
        "colab": {
          "base_uri": "https://localhost:8080/",
          "height": 35
        }
      },
      "cell_type": "code",
      "source": [
        "listy = []\n",
        "\n",
        "for i in range(len(encoded)):\n",
        "  listy.append(encoded[:i])\n",
        "  \n",
        "len(listy)"
      ],
      "execution_count": 7,
      "outputs": [
        {
          "output_type": "execute_result",
          "data": {
            "text/plain": [
              "27"
            ]
          },
          "metadata": {
            "tags": []
          },
          "execution_count": 7
        }
      ]
    },
    {
      "metadata": {
        "id": "gO15yM1vdofW",
        "colab_type": "code",
        "outputId": "a939c914-285b-43a4-9e60-901d7f6c1b07",
        "colab": {
          "base_uri": "https://localhost:8080/",
          "height": 177
        }
      },
      "cell_type": "code",
      "source": [
        "listy[1:10]"
      ],
      "execution_count": 8,
      "outputs": [
        {
          "output_type": "execute_result",
          "data": {
            "text/plain": [
              "[[1],\n",
              " [1, 5],\n",
              " [1, 5, 6],\n",
              " [1, 5, 6, 2],\n",
              " [1, 5, 6, 2, 7],\n",
              " [1, 5, 6, 2, 7, 8],\n",
              " [1, 5, 6, 2, 7, 8, 9],\n",
              " [1, 5, 6, 2, 7, 8, 9, 10],\n",
              " [1, 5, 6, 2, 7, 8, 9, 10, 3]]"
            ]
          },
          "metadata": {
            "tags": []
          },
          "execution_count": 8
        }
      ]
    },
    {
      "metadata": {
        "id": "UHAmZBhhYFzv",
        "colab_type": "code",
        "colab": {}
      },
      "cell_type": "code",
      "source": [
        "# np.array([np.array(xi) for xi in listy[1:]]) # creating array retaining the shape"
      ],
      "execution_count": 0,
      "outputs": []
    },
    {
      "metadata": {
        "id": "LH0pUQEJZuNw",
        "colab_type": "code",
        "outputId": "72c4417c-4cb4-4265-e80d-7605d0ed97b6",
        "colab": {
          "base_uri": "https://localhost:8080/",
          "height": 35
        }
      },
      "cell_type": "code",
      "source": [
        "length = len(sorted(listy[1:],key = len, reverse = True)[0])   # creating array by adding 0 to make all rows equal\n",
        "X = np.array([xi + [0] * (length - len(xi)) for xi in listy[1:]])\n",
        "X.shape  # creating X array"
      ],
      "execution_count": 10,
      "outputs": [
        {
          "output_type": "execute_result",
          "data": {
            "text/plain": [
              "(26, 26)"
            ]
          },
          "metadata": {
            "tags": []
          },
          "execution_count": 10
        }
      ]
    },
    {
      "metadata": {
        "id": "YOpL0qlCsVff",
        "colab_type": "code",
        "outputId": "c1b67b25-80a5-42a2-d486-bb253b6e0743",
        "colab": {
          "base_uri": "https://localhost:8080/",
          "height": 108
        }
      },
      "cell_type": "code",
      "source": [
        "scaler = StandardScaler()\n",
        "X = scaler.fit_transform(X)"
      ],
      "execution_count": 11,
      "outputs": [
        {
          "output_type": "stream",
          "text": [
            "/usr/local/lib/python3.6/dist-packages/sklearn/utils/validation.py:595: DataConversionWarning: Data with input dtype int64 was converted to float64 by StandardScaler.\n",
            "  warnings.warn(msg, DataConversionWarning)\n",
            "/usr/local/lib/python3.6/dist-packages/sklearn/utils/validation.py:595: DataConversionWarning: Data with input dtype int64 was converted to float64 by StandardScaler.\n",
            "  warnings.warn(msg, DataConversionWarning)\n"
          ],
          "name": "stderr"
        }
      ]
    },
    {
      "metadata": {
        "id": "EaIZP8UtX0J9",
        "colab_type": "code",
        "outputId": "4af27a60-ae39-4b8a-d540-dda30f0238d6",
        "colab": {
          "base_uri": "https://localhost:8080/",
          "height": 124
        }
      },
      "cell_type": "code",
      "source": [
        "X[0]"
      ],
      "execution_count": 36,
      "outputs": [
        {
          "output_type": "execute_result",
          "data": {
            "text/plain": [
              "array([ 0.        , -5.        , -3.46410162, -2.76887462, -2.34520788,\n",
              "       -2.04939015, -1.82574186, -1.64750894, -1.5       , -1.37436854,\n",
              "       -1.26491106, -1.16774842, -1.08012345, -1.        , -0.9258201 ,\n",
              "       -0.85634884, -0.79056942, -0.72760688, -0.66666667, -0.60697698,\n",
              "       -0.54772256, -0.48795004, -0.42640143, -0.36115756, -0.28867513,\n",
              "       -0.2       ])"
            ]
          },
          "metadata": {
            "tags": []
          },
          "execution_count": 36
        }
      ]
    },
    {
      "metadata": {
        "id": "bMq9FIMbN7tq",
        "colab_type": "code",
        "outputId": "22cbd840-36a1-44a9-f118-bb686b0a6232",
        "colab": {
          "base_uri": "https://localhost:8080/",
          "height": 35
        }
      },
      "cell_type": "code",
      "source": [
        "y = [i for i in encoded][1:] # creating y array\n",
        "len(y)"
      ],
      "execution_count": 13,
      "outputs": [
        {
          "output_type": "execute_result",
          "data": {
            "text/plain": [
              "26"
            ]
          },
          "metadata": {
            "tags": []
          },
          "execution_count": 13
        }
      ]
    },
    {
      "metadata": {
        "id": "kBtV_MblN_ly",
        "colab_type": "code",
        "colab": {}
      },
      "cell_type": "code",
      "source": [
        "# one hot encode outputs\n",
        "y = to_categorical(y, num_classes = vocab_size)"
      ],
      "execution_count": 0,
      "outputs": []
    },
    {
      "metadata": {
        "id": "M8hS0EsOsHZK",
        "colab_type": "code",
        "outputId": "fd522677-25a1-45fc-a770-6a449b6e6ab1",
        "colab": {
          "base_uri": "https://localhost:8080/",
          "height": 52
        }
      },
      "cell_type": "code",
      "source": [
        "y[0]"
      ],
      "execution_count": 37,
      "outputs": [
        {
          "output_type": "execute_result",
          "data": {
            "text/plain": [
              "array([0., 0., 0., 0., 0., 1., 0., 0., 0., 0., 0., 0., 0., 0., 0., 0., 0.,\n",
              "       0., 0., 0., 0., 0., 0., 0.], dtype=float32)"
            ]
          },
          "metadata": {
            "tags": []
          },
          "execution_count": 37
        }
      ]
    },
    {
      "metadata": {
        "id": "fh72jiM3LZkH",
        "colab_type": "code",
        "outputId": "d4f9d6be-4605-42b4-95b1-6e3c0a67814a",
        "colab": {
          "base_uri": "https://localhost:8080/",
          "height": 35
        }
      },
      "cell_type": "code",
      "source": [
        "X.shape, y.shape"
      ],
      "execution_count": 16,
      "outputs": [
        {
          "output_type": "execute_result",
          "data": {
            "text/plain": [
              "((26, 26), (26, 24))"
            ]
          },
          "metadata": {
            "tags": []
          },
          "execution_count": 16
        }
      ]
    },
    {
      "metadata": {
        "id": "lT6XGFybeuRM",
        "colab_type": "code",
        "outputId": "7a6e0e7a-a0c3-4fca-f38a-e6854d2370ce",
        "colab": {
          "base_uri": "https://localhost:8080/",
          "height": 35
        }
      },
      "cell_type": "code",
      "source": [
        "# LSTMs accept input in the form of (number_of_sequences, length_of_sequence, number_of_features)\n",
        "X_lstm = np.reshape(X, (X.shape[0], X.shape[1], 1))\n",
        "X_lstm.shape"
      ],
      "execution_count": 17,
      "outputs": [
        {
          "output_type": "execute_result",
          "data": {
            "text/plain": [
              "(26, 26, 1)"
            ]
          },
          "metadata": {
            "tags": []
          },
          "execution_count": 17
        }
      ]
    },
    {
      "metadata": {
        "id": "AiS7DGsZfg4A",
        "colab_type": "code",
        "outputId": "9fd53ede-f381-416a-df27-1c2284cf7c66",
        "colab": {
          "base_uri": "https://localhost:8080/",
          "height": 392
        }
      },
      "cell_type": "code",
      "source": [
        "model = tf.keras.models.Sequential()\n",
        "model.add(tf.keras.layers.LSTM(50, input_shape = (X_lstm.shape[1], X_lstm.shape[2])))#, return_sequences = True))\n",
        "model.add(tf.keras.layers.Dropout(0.2))\n",
        "# model.add(tf.keras.layers.LSTM(50, return_sequences = True))\n",
        "# model.add(tf.keras.layers.Dropout(0.2))\n",
        "# model.add(tf.keras.layers.LSTM(500, return_sequences = True))\n",
        "# model.add(tf.keras.layers.Dropout(0.2))\n",
        "# model.add(tf.keras.layers.LSTM(500, return_sequences = True))\n",
        "# model.add(tf.keras.layers.Dropout(0.2))\n",
        "# model.add(tf.keras.layers.LSTM(2500, return_sequences = True))\n",
        "# model.add(tf.keras.layers.Dropout(0.2))\n",
        "# model.add(tf.keras.layers.LSTM(50))\n",
        "# model.add(tf.keras.layers.Dropout(0.2))\n",
        "model.add(tf.keras.layers.Dense(y.shape[1], activation='softmax'))\n",
        "model.compile(loss = 'categorical_crossentropy', optimizer = 'adam', metrics = ['accuracy'])\n",
        "print(model.summary())"
      ],
      "execution_count": 18,
      "outputs": [
        {
          "output_type": "stream",
          "text": [
            "WARNING:tensorflow:From /usr/local/lib/python3.6/dist-packages/tensorflow/python/ops/resource_variable_ops.py:435: colocate_with (from tensorflow.python.framework.ops) is deprecated and will be removed in a future version.\n",
            "Instructions for updating:\n",
            "Colocations handled automatically by placer.\n",
            "WARNING:tensorflow:From /usr/local/lib/python3.6/dist-packages/tensorflow/python/keras/layers/core.py:143: calling dropout (from tensorflow.python.ops.nn_ops) with keep_prob is deprecated and will be removed in a future version.\n",
            "Instructions for updating:\n",
            "Please use `rate` instead of `keep_prob`. Rate should be set to `rate = 1 - keep_prob`.\n",
            "_________________________________________________________________\n",
            "Layer (type)                 Output Shape              Param #   \n",
            "=================================================================\n",
            "lstm (LSTM)                  (None, 50)                10400     \n",
            "_________________________________________________________________\n",
            "dropout (Dropout)            (None, 50)                0         \n",
            "_________________________________________________________________\n",
            "dense (Dense)                (None, 24)                1224      \n",
            "=================================================================\n",
            "Total params: 11,624\n",
            "Trainable params: 11,624\n",
            "Non-trainable params: 0\n",
            "_________________________________________________________________\n",
            "None\n"
          ],
          "name": "stdout"
        }
      ]
    },
    {
      "metadata": {
        "id": "XDd_BheDe5jb",
        "colab_type": "code",
        "outputId": "d6bea933-116e-4a5e-960c-fa2fe14f515f",
        "colab": {
          "base_uri": "https://localhost:8080/",
          "height": 499
        }
      },
      "cell_type": "code",
      "source": [
        "TPU_WORKER = 'grpc://' + os.environ['COLAB_TPU_ADDR']\n",
        "tf.logging.set_verbosity(tf.logging.INFO)\n",
        "\n",
        "tpu_model = tf.contrib.tpu.keras_to_tpu_model(\n",
        "    model,\n",
        "    strategy=tf.contrib.tpu.TPUDistributionStrategy(\n",
        "        tf.contrib.cluster_resolver.TPUClusterResolver(TPU_WORKER)))"
      ],
      "execution_count": 19,
      "outputs": [
        {
          "output_type": "stream",
          "text": [
            "\n",
            "WARNING: The TensorFlow contrib module will not be included in TensorFlow 2.0.\n",
            "For more information, please see:\n",
            "  * https://github.com/tensorflow/community/blob/master/rfcs/20180907-contrib-sunset.md\n",
            "  * https://github.com/tensorflow/addons\n",
            "If you depend on functionality not listed there, please file an issue.\n",
            "\n",
            "INFO:tensorflow:Querying Tensorflow master (grpc://10.94.156.26:8470) for TPU system metadata.\n",
            "INFO:tensorflow:Found TPU system:\n",
            "INFO:tensorflow:*** Num TPU Cores: 8\n",
            "INFO:tensorflow:*** Num TPU Workers: 1\n",
            "INFO:tensorflow:*** Num TPU Cores Per Worker: 8\n",
            "INFO:tensorflow:*** Available Device: _DeviceAttributes(/job:worker/replica:0/task:0/device:CPU:0, CPU, -1, 3566480658991856900)\n",
            "INFO:tensorflow:*** Available Device: _DeviceAttributes(/job:worker/replica:0/task:0/device:XLA_CPU:0, XLA_CPU, 17179869184, 17212933578758057838)\n",
            "INFO:tensorflow:*** Available Device: _DeviceAttributes(/job:worker/replica:0/task:0/device:TPU:0, TPU, 17179869184, 13481736650929986321)\n",
            "INFO:tensorflow:*** Available Device: _DeviceAttributes(/job:worker/replica:0/task:0/device:TPU:1, TPU, 17179869184, 768218785289235016)\n",
            "INFO:tensorflow:*** Available Device: _DeviceAttributes(/job:worker/replica:0/task:0/device:TPU:2, TPU, 17179869184, 2522603521490514475)\n",
            "INFO:tensorflow:*** Available Device: _DeviceAttributes(/job:worker/replica:0/task:0/device:TPU:3, TPU, 17179869184, 13108019931984311059)\n",
            "INFO:tensorflow:*** Available Device: _DeviceAttributes(/job:worker/replica:0/task:0/device:TPU:4, TPU, 17179869184, 13779723367914735299)\n",
            "INFO:tensorflow:*** Available Device: _DeviceAttributes(/job:worker/replica:0/task:0/device:TPU:5, TPU, 17179869184, 9962943762118349744)\n",
            "INFO:tensorflow:*** Available Device: _DeviceAttributes(/job:worker/replica:0/task:0/device:TPU:6, TPU, 17179869184, 13019648169068274998)\n",
            "INFO:tensorflow:*** Available Device: _DeviceAttributes(/job:worker/replica:0/task:0/device:TPU:7, TPU, 17179869184, 12687249396682232144)\n",
            "INFO:tensorflow:*** Available Device: _DeviceAttributes(/job:worker/replica:0/task:0/device:TPU_SYSTEM:0, TPU_SYSTEM, 17179869184, 2335844898909077989)\n",
            "WARNING:tensorflow:tpu_model (from tensorflow.contrib.tpu.python.tpu.keras_support) is experimental and may change or be removed at any time, and without warning.\n",
            "INFO:tensorflow:Cloning Adam {'lr': 0.0010000000474974513, 'beta_1': 0.8999999761581421, 'beta_2': 0.9990000128746033, 'decay': 0.0, 'epsilon': 1e-07, 'amsgrad': False}\n",
            "INFO:tensorflow:Cloning Adam {'lr': 0.0010000000474974513, 'beta_1': 0.8999999761581421, 'beta_2': 0.9990000128746033, 'decay': 0.0, 'epsilon': 1e-07, 'amsgrad': False}\n"
          ],
          "name": "stdout"
        }
      ]
    },
    {
      "metadata": {
        "id": "54bVMlFbfAJU",
        "colab_type": "code",
        "outputId": "859a139b-74e0-4d76-f8c5-b134307ce73a",
        "colab": {
          "base_uri": "https://localhost:8080/",
          "height": 284
        }
      },
      "cell_type": "code",
      "source": [
        "tpu_model.summary()"
      ],
      "execution_count": 20,
      "outputs": [
        {
          "output_type": "stream",
          "text": [
            "_________________________________________________________________\n",
            "Layer (type)                 Output Shape              Param #   \n",
            "=================================================================\n",
            "lstm_input (InputLayer)      (None, 26, 1)             0         \n",
            "_________________________________________________________________\n",
            "lstm (LSTM)                  (None, 50)                10400     \n",
            "_________________________________________________________________\n",
            "dropout (Dropout)            (None, 50)                0         \n",
            "_________________________________________________________________\n",
            "dense (Dense)                (None, 24)                1224      \n",
            "=================================================================\n",
            "Total params: 11,624\n",
            "Trainable params: 11,624\n",
            "Non-trainable params: 0\n",
            "_________________________________________________________________\n"
          ],
          "name": "stdout"
        }
      ]
    },
    {
      "metadata": {
        "id": "HnaZY1IrfEso",
        "colab_type": "code",
        "outputId": "497fb6f2-14a4-4929-b598-f1f988a9abd0",
        "colab": {
          "base_uri": "https://localhost:8080/",
          "height": 18188
        }
      },
      "cell_type": "code",
      "source": [
        "#early_stopping_monitor = EarlyStopping(monitor = 'loss', patience = 4, verbose = 0, mode='auto')\n",
        "tpu_model.fit(X_lstm, y, epochs = 500, batch_size = 50)#, callbacks = [early_stopping_monitor])"
      ],
      "execution_count": 21,
      "outputs": [
        {
          "output_type": "stream",
          "text": [
            "Epoch 1/500\n",
            "INFO:tensorflow:New input shapes; (re-)compiling: mode=train (# of cores 8), [TensorSpec(shape=(3,), dtype=tf.int32, name='core_id0'), TensorSpec(shape=(3, 26, 1), dtype=tf.float32, name='lstm_input_10'), TensorSpec(shape=(3, 24), dtype=tf.float32, name='dense_target_30')]\n",
            "INFO:tensorflow:Overriding default placeholder.\n",
            "INFO:tensorflow:Cloning Adam {'lr': 0.0010000000474974513, 'beta_1': 0.8999999761581421, 'beta_2': 0.9990000128746033, 'decay': 0.0, 'epsilon': 1e-07, 'amsgrad': False}\n",
            "INFO:tensorflow:Remapping placeholder for lstm_input\n",
            "WARNING:tensorflow:From /usr/local/lib/python3.6/dist-packages/tensorflow/contrib/tpu/python/tpu/keras_support.py:302: to_float (from tensorflow.python.ops.math_ops) is deprecated and will be removed in a future version.\n",
            "Instructions for updating:\n",
            "Use tf.cast instead.\n",
            "INFO:tensorflow:KerasCrossShard: <tensorflow.python.keras.optimizers.Adam object at 0x7f94db0d3940> []\n",
            "WARNING:tensorflow:From /usr/local/lib/python3.6/dist-packages/tensorflow/python/ops/math_ops.py:3066: to_int32 (from tensorflow.python.ops.math_ops) is deprecated and will be removed in a future version.\n",
            "Instructions for updating:\n",
            "Use tf.cast instead.\n",
            "INFO:tensorflow:Started compiling\n",
            "INFO:tensorflow:Finished compiling. Time elapsed: 2.1261789798736572 secs\n",
            "INFO:tensorflow:Setting weights on TPU model.\n",
            "INFO:tensorflow:CPU -> TPU lr: 0.0010000000474974513 {0.001}\n",
            "INFO:tensorflow:CPU -> TPU beta_1: 0.8999999761581421 {0.9}\n",
            "INFO:tensorflow:CPU -> TPU beta_2: 0.9990000128746033 {0.999}\n",
            "INFO:tensorflow:CPU -> TPU decay: 0.0 {0.0}\n",
            "WARNING:tensorflow:Cannot update non-variable config: epsilon\n",
            "WARNING:tensorflow:Cannot update non-variable config: amsgrad\n",
            "26/26 [==============================] - 10s 402ms/sample - loss: 3.1914 - acc: 0.0417\n",
            "Epoch 2/500\n",
            "26/26 [==============================] - 0s 597us/sample - loss: 3.2051 - acc: 0.0417\n",
            "Epoch 3/500\n",
            "26/26 [==============================] - 0s 598us/sample - loss: 3.1742 - acc: 0.0417\n",
            "Epoch 4/500\n",
            "26/26 [==============================] - 0s 479us/sample - loss: 3.1832 - acc: 0.0000e+00\n",
            "Epoch 5/500\n",
            "26/26 [==============================] - 0s 568us/sample - loss: 3.1624 - acc: 0.0417\n",
            "Epoch 6/500\n",
            "26/26 [==============================] - 0s 497us/sample - loss: 3.1645 - acc: 0.0417\n",
            "Epoch 7/500\n",
            "26/26 [==============================] - 0s 490us/sample - loss: 3.1555 - acc: 0.1250\n",
            "Epoch 8/500\n",
            "26/26 [==============================] - 0s 546us/sample - loss: 3.1553 - acc: 0.0833\n",
            "Epoch 9/500\n",
            "26/26 [==============================] - 0s 487us/sample - loss: 3.1351 - acc: 0.0417\n",
            "Epoch 10/500\n",
            "26/26 [==============================] - 0s 522us/sample - loss: 3.1313 - acc: 0.0833\n",
            "Epoch 11/500\n",
            "26/26 [==============================] - 0s 470us/sample - loss: 3.1269 - acc: 0.0417\n",
            "Epoch 12/500\n",
            "26/26 [==============================] - 0s 521us/sample - loss: 3.1459 - acc: 0.0000e+00\n",
            "Epoch 13/500\n",
            "26/26 [==============================] - 0s 538us/sample - loss: 3.1234 - acc: 0.0833\n",
            "Epoch 14/500\n",
            "26/26 [==============================] - 0s 611us/sample - loss: 3.1227 - acc: 0.0417\n",
            "Epoch 15/500\n",
            "26/26 [==============================] - 0s 459us/sample - loss: 3.0985 - acc: 0.0833\n",
            "Epoch 16/500\n",
            "26/26 [==============================] - 0s 474us/sample - loss: 3.0924 - acc: 0.0417\n",
            "Epoch 17/500\n",
            "26/26 [==============================] - 0s 532us/sample - loss: 3.0799 - acc: 0.0833\n",
            "Epoch 18/500\n",
            "26/26 [==============================] - 0s 462us/sample - loss: 3.0869 - acc: 0.0833\n",
            "Epoch 19/500\n",
            "26/26 [==============================] - 0s 465us/sample - loss: 3.0773 - acc: 0.0833\n",
            "Epoch 20/500\n",
            "26/26 [==============================] - 0s 467us/sample - loss: 3.0483 - acc: 0.1250\n",
            "Epoch 21/500\n",
            "26/26 [==============================] - 0s 462us/sample - loss: 3.0439 - acc: 0.0833\n",
            "Epoch 22/500\n",
            "26/26 [==============================] - 0s 514us/sample - loss: 3.0359 - acc: 0.0417\n",
            "Epoch 23/500\n",
            "26/26 [==============================] - 0s 804us/sample - loss: 3.0392 - acc: 0.0833\n",
            "Epoch 24/500\n",
            "26/26 [==============================] - 0s 497us/sample - loss: 3.0169 - acc: 0.0417\n",
            "Epoch 25/500\n",
            "26/26 [==============================] - 0s 500us/sample - loss: 3.0193 - acc: 0.0417\n",
            "Epoch 26/500\n",
            "26/26 [==============================] - 0s 436us/sample - loss: 2.9838 - acc: 0.0833\n",
            "Epoch 27/500\n",
            "26/26 [==============================] - 0s 465us/sample - loss: 2.9817 - acc: 0.0833\n",
            "Epoch 28/500\n",
            "26/26 [==============================] - 0s 581us/sample - loss: 2.9655 - acc: 0.0833\n",
            "Epoch 29/500\n",
            "26/26 [==============================] - 0s 454us/sample - loss: 2.9800 - acc: 0.1250\n",
            "Epoch 30/500\n",
            "26/26 [==============================] - 0s 527us/sample - loss: 2.9268 - acc: 0.1250\n",
            "Epoch 31/500\n",
            "26/26 [==============================] - 0s 488us/sample - loss: 2.8697 - acc: 0.1250\n",
            "Epoch 32/500\n",
            "26/26 [==============================] - 0s 640us/sample - loss: 2.9020 - acc: 0.0833\n",
            "Epoch 33/500\n",
            "26/26 [==============================] - 0s 510us/sample - loss: 2.9246 - acc: 0.0417\n",
            "Epoch 34/500\n",
            "26/26 [==============================] - 0s 642us/sample - loss: 2.8525 - acc: 0.0833\n",
            "Epoch 35/500\n",
            "26/26 [==============================] - 0s 493us/sample - loss: 2.9207 - acc: 0.0833\n",
            "Epoch 36/500\n",
            "26/26 [==============================] - 0s 471us/sample - loss: 2.8662 - acc: 0.0833\n",
            "Epoch 37/500\n",
            "26/26 [==============================] - 0s 539us/sample - loss: 2.8319 - acc: 0.1250\n",
            "Epoch 38/500\n",
            "26/26 [==============================] - 0s 564us/sample - loss: 2.8927 - acc: 0.0417\n",
            "Epoch 39/500\n",
            "26/26 [==============================] - 0s 508us/sample - loss: 2.7613 - acc: 0.1250\n",
            "Epoch 40/500\n",
            "26/26 [==============================] - 0s 477us/sample - loss: 2.8386 - acc: 0.0417\n",
            "Epoch 41/500\n",
            "26/26 [==============================] - 0s 580us/sample - loss: 2.7733 - acc: 0.1250\n",
            "Epoch 42/500\n",
            "26/26 [==============================] - 0s 497us/sample - loss: 2.7379 - acc: 0.1250\n",
            "Epoch 43/500\n",
            "26/26 [==============================] - 0s 517us/sample - loss: 2.7476 - acc: 0.1250\n",
            "Epoch 44/500\n",
            "26/26 [==============================] - 0s 528us/sample - loss: 2.7516 - acc: 0.0833\n",
            "Epoch 45/500\n",
            "26/26 [==============================] - 0s 477us/sample - loss: 2.6711 - acc: 0.2083\n",
            "Epoch 46/500\n",
            "26/26 [==============================] - 0s 455us/sample - loss: 2.6924 - acc: 0.1250\n",
            "Epoch 47/500\n",
            "26/26 [==============================] - 0s 497us/sample - loss: 2.8027 - acc: 0.0833\n",
            "Epoch 48/500\n",
            "26/26 [==============================] - 0s 470us/sample - loss: 2.7766 - acc: 0.0833\n",
            "Epoch 49/500\n",
            "26/26 [==============================] - 0s 451us/sample - loss: 2.6747 - acc: 0.1667\n",
            "Epoch 50/500\n",
            "26/26 [==============================] - 0s 609us/sample - loss: 2.6454 - acc: 0.1667\n",
            "Epoch 51/500\n",
            "26/26 [==============================] - 0s 496us/sample - loss: 2.6839 - acc: 0.1250\n",
            "Epoch 52/500\n",
            "26/26 [==============================] - 0s 737us/sample - loss: 2.5702 - acc: 0.1667\n",
            "Epoch 53/500\n",
            "26/26 [==============================] - 0s 470us/sample - loss: 2.6575 - acc: 0.0833\n",
            "Epoch 54/500\n",
            "26/26 [==============================] - 0s 617us/sample - loss: 2.5706 - acc: 0.2083\n",
            "Epoch 55/500\n",
            "26/26 [==============================] - 0s 526us/sample - loss: 2.6489 - acc: 0.0417\n",
            "Epoch 56/500\n",
            "26/26 [==============================] - 0s 513us/sample - loss: 2.5520 - acc: 0.1667\n",
            "Epoch 57/500\n",
            "26/26 [==============================] - 0s 514us/sample - loss: 2.5467 - acc: 0.1250\n",
            "Epoch 58/500\n",
            "26/26 [==============================] - 0s 653us/sample - loss: 2.5909 - acc: 0.1667\n",
            "Epoch 59/500\n",
            "26/26 [==============================] - 0s 628us/sample - loss: 2.4968 - acc: 0.2083\n",
            "Epoch 60/500\n",
            "26/26 [==============================] - 0s 570us/sample - loss: 2.4869 - acc: 0.3333\n",
            "Epoch 61/500\n",
            "26/26 [==============================] - 0s 566us/sample - loss: 2.5332 - acc: 0.1667\n",
            "Epoch 62/500\n",
            "26/26 [==============================] - 0s 634us/sample - loss: 2.4361 - acc: 0.2917\n",
            "Epoch 63/500\n",
            "26/26 [==============================] - 0s 519us/sample - loss: 2.4653 - acc: 0.2083\n",
            "Epoch 64/500\n",
            "26/26 [==============================] - 0s 463us/sample - loss: 2.5135 - acc: 0.1250\n",
            "Epoch 65/500\n",
            "26/26 [==============================] - 0s 488us/sample - loss: 2.4514 - acc: 0.2083\n",
            "Epoch 66/500\n",
            "26/26 [==============================] - 0s 554us/sample - loss: 2.4730 - acc: 0.2083\n",
            "Epoch 67/500\n",
            "26/26 [==============================] - 0s 491us/sample - loss: 2.4391 - acc: 0.2917\n",
            "Epoch 68/500\n",
            "26/26 [==============================] - 0s 534us/sample - loss: 2.2955 - acc: 0.2500\n",
            "Epoch 69/500\n",
            "26/26 [==============================] - 0s 510us/sample - loss: 2.4181 - acc: 0.2083\n",
            "Epoch 70/500\n",
            "26/26 [==============================] - 0s 695us/sample - loss: 2.3969 - acc: 0.1667\n",
            "Epoch 71/500\n",
            "26/26 [==============================] - 0s 568us/sample - loss: 2.2172 - acc: 0.2500\n",
            "Epoch 72/500\n",
            "26/26 [==============================] - 0s 527us/sample - loss: 2.2655 - acc: 0.2083\n",
            "Epoch 73/500\n",
            "26/26 [==============================] - 0s 441us/sample - loss: 2.2908 - acc: 0.2917\n",
            "Epoch 74/500\n",
            "26/26 [==============================] - 0s 542us/sample - loss: 2.2800 - acc: 0.2917\n",
            "Epoch 75/500\n",
            "26/26 [==============================] - 0s 513us/sample - loss: 2.2552 - acc: 0.2917\n",
            "Epoch 76/500\n",
            "26/26 [==============================] - 0s 513us/sample - loss: 2.2751 - acc: 0.2917\n",
            "Epoch 77/500\n",
            "26/26 [==============================] - 0s 527us/sample - loss: 2.3044 - acc: 0.2917\n",
            "Epoch 78/500\n",
            "26/26 [==============================] - 0s 458us/sample - loss: 2.2699 - acc: 0.2500\n",
            "Epoch 79/500\n",
            "26/26 [==============================] - 0s 549us/sample - loss: 2.1895 - acc: 0.2500\n",
            "Epoch 80/500\n",
            "26/26 [==============================] - 0s 484us/sample - loss: 2.1695 - acc: 0.4167\n",
            "Epoch 81/500\n",
            "26/26 [==============================] - 0s 523us/sample - loss: 2.2812 - acc: 0.2083\n",
            "Epoch 82/500\n",
            "26/26 [==============================] - 0s 511us/sample - loss: 2.0604 - acc: 0.3333\n",
            "Epoch 83/500\n",
            "26/26 [==============================] - 0s 515us/sample - loss: 2.2044 - acc: 0.2083\n",
            "Epoch 84/500\n",
            "26/26 [==============================] - 0s 481us/sample - loss: 2.2998 - acc: 0.2083\n",
            "Epoch 85/500\n",
            "26/26 [==============================] - 0s 470us/sample - loss: 2.0721 - acc: 0.3750\n",
            "Epoch 86/500\n",
            "26/26 [==============================] - 0s 488us/sample - loss: 2.1225 - acc: 0.2083\n",
            "Epoch 87/500\n",
            "26/26 [==============================] - 0s 541us/sample - loss: 2.2543 - acc: 0.1250\n",
            "Epoch 88/500\n",
            "26/26 [==============================] - 0s 474us/sample - loss: 2.1361 - acc: 0.2500\n",
            "Epoch 89/500\n",
            "26/26 [==============================] - 0s 504us/sample - loss: 2.0258 - acc: 0.4167\n",
            "Epoch 90/500\n",
            "26/26 [==============================] - 0s 552us/sample - loss: 2.0683 - acc: 0.2917\n",
            "Epoch 91/500\n",
            "26/26 [==============================] - 0s 508us/sample - loss: 2.0581 - acc: 0.2917\n",
            "Epoch 92/500\n",
            "26/26 [==============================] - 0s 471us/sample - loss: 2.0915 - acc: 0.1667\n",
            "Epoch 93/500\n",
            "26/26 [==============================] - 0s 580us/sample - loss: 2.1346 - acc: 0.2917\n",
            "Epoch 94/500\n",
            "26/26 [==============================] - 0s 587us/sample - loss: 2.0938 - acc: 0.2083\n",
            "Epoch 95/500\n",
            "26/26 [==============================] - 0s 468us/sample - loss: 2.0907 - acc: 0.2083\n",
            "Epoch 96/500\n",
            "26/26 [==============================] - 0s 486us/sample - loss: 1.9480 - acc: 0.3333\n",
            "Epoch 97/500\n",
            "26/26 [==============================] - 0s 465us/sample - loss: 1.9892 - acc: 0.2500\n",
            "Epoch 98/500\n",
            "26/26 [==============================] - 0s 516us/sample - loss: 2.1237 - acc: 0.2083\n",
            "Epoch 99/500\n",
            "26/26 [==============================] - 0s 562us/sample - loss: 2.0802 - acc: 0.1667\n",
            "Epoch 100/500\n",
            "26/26 [==============================] - 0s 575us/sample - loss: 1.8830 - acc: 0.4583\n",
            "Epoch 101/500\n",
            "26/26 [==============================] - 0s 587us/sample - loss: 2.0001 - acc: 0.2083\n",
            "Epoch 102/500\n",
            "26/26 [==============================] - 0s 560us/sample - loss: 1.9609 - acc: 0.3333\n",
            "Epoch 103/500\n",
            "26/26 [==============================] - 0s 549us/sample - loss: 2.0050 - acc: 0.2917\n",
            "Epoch 104/500\n",
            "26/26 [==============================] - 0s 502us/sample - loss: 1.9845 - acc: 0.3333\n",
            "Epoch 105/500\n",
            "26/26 [==============================] - 0s 588us/sample - loss: 1.8960 - acc: 0.4167\n",
            "Epoch 106/500\n",
            "26/26 [==============================] - 0s 474us/sample - loss: 1.9538 - acc: 0.3333\n",
            "Epoch 107/500\n",
            "26/26 [==============================] - 0s 479us/sample - loss: 2.0785 - acc: 0.2083\n",
            "Epoch 108/500\n",
            "26/26 [==============================] - 0s 586us/sample - loss: 1.9584 - acc: 0.2917\n",
            "Epoch 109/500\n",
            "26/26 [==============================] - 0s 556us/sample - loss: 1.9283 - acc: 0.3333\n",
            "Epoch 110/500\n",
            "26/26 [==============================] - 0s 524us/sample - loss: 1.8986 - acc: 0.4167\n",
            "Epoch 111/500\n",
            "26/26 [==============================] - 0s 496us/sample - loss: 1.8005 - acc: 0.3750\n",
            "Epoch 112/500\n",
            "26/26 [==============================] - 0s 446us/sample - loss: 1.9112 - acc: 0.4167\n",
            "Epoch 113/500\n",
            "26/26 [==============================] - 0s 513us/sample - loss: 1.8611 - acc: 0.3750\n",
            "Epoch 114/500\n",
            "26/26 [==============================] - 0s 648us/sample - loss: 1.8500 - acc: 0.4167\n",
            "Epoch 115/500\n",
            "26/26 [==============================] - 0s 478us/sample - loss: 1.9011 - acc: 0.3333\n",
            "Epoch 116/500\n",
            "26/26 [==============================] - 0s 567us/sample - loss: 1.9656 - acc: 0.2500\n",
            "Epoch 117/500\n",
            "26/26 [==============================] - 0s 485us/sample - loss: 1.7985 - acc: 0.4583\n",
            "Epoch 118/500\n",
            "26/26 [==============================] - 0s 525us/sample - loss: 1.8976 - acc: 0.3750\n",
            "Epoch 119/500\n",
            "26/26 [==============================] - 0s 505us/sample - loss: 1.8591 - acc: 0.3750\n",
            "Epoch 120/500\n",
            "26/26 [==============================] - 0s 678us/sample - loss: 1.8993 - acc: 0.3333\n",
            "Epoch 121/500\n",
            "26/26 [==============================] - 0s 598us/sample - loss: 1.8434 - acc: 0.3750\n",
            "Epoch 122/500\n",
            "26/26 [==============================] - 0s 540us/sample - loss: 1.7492 - acc: 0.3750\n",
            "Epoch 123/500\n",
            "26/26 [==============================] - 0s 559us/sample - loss: 1.9586 - acc: 0.2500\n",
            "Epoch 124/500\n",
            "26/26 [==============================] - 0s 492us/sample - loss: 1.8087 - acc: 0.4583\n",
            "Epoch 125/500\n",
            "26/26 [==============================] - 0s 501us/sample - loss: 1.7555 - acc: 0.5417\n",
            "Epoch 126/500\n",
            "26/26 [==============================] - 0s 484us/sample - loss: 1.6829 - acc: 0.5000\n",
            "Epoch 127/500\n",
            "26/26 [==============================] - 0s 549us/sample - loss: 1.8639 - acc: 0.3750\n",
            "Epoch 128/500\n",
            "26/26 [==============================] - 0s 453us/sample - loss: 1.7607 - acc: 0.2917\n",
            "Epoch 129/500\n",
            "26/26 [==============================] - 0s 475us/sample - loss: 1.7404 - acc: 0.5000\n",
            "Epoch 130/500\n",
            "26/26 [==============================] - 0s 571us/sample - loss: 1.8848 - acc: 0.3750\n",
            "Epoch 131/500\n",
            "26/26 [==============================] - 0s 1ms/sample - loss: 1.7734 - acc: 0.4167\n",
            "Epoch 132/500\n",
            "26/26 [==============================] - 0s 510us/sample - loss: 1.7074 - acc: 0.5833\n",
            "Epoch 133/500\n",
            "26/26 [==============================] - 0s 514us/sample - loss: 1.8673 - acc: 0.3750\n",
            "Epoch 134/500\n",
            "26/26 [==============================] - 0s 592us/sample - loss: 1.5748 - acc: 0.5833\n",
            "Epoch 135/500\n",
            "26/26 [==============================] - 0s 544us/sample - loss: 1.8473 - acc: 0.4167\n",
            "Epoch 136/500\n",
            "26/26 [==============================] - 0s 614us/sample - loss: 1.6523 - acc: 0.5417\n",
            "Epoch 137/500\n",
            "26/26 [==============================] - 0s 571us/sample - loss: 1.8415 - acc: 0.3333\n",
            "Epoch 138/500\n",
            "26/26 [==============================] - 0s 515us/sample - loss: 1.6891 - acc: 0.5000\n",
            "Epoch 139/500\n",
            "26/26 [==============================] - 0s 535us/sample - loss: 1.7120 - acc: 0.4583\n",
            "Epoch 140/500\n",
            "26/26 [==============================] - 0s 509us/sample - loss: 1.7668 - acc: 0.4167\n",
            "Epoch 141/500\n",
            "26/26 [==============================] - 0s 543us/sample - loss: 1.6676 - acc: 0.5000\n",
            "Epoch 142/500\n",
            "26/26 [==============================] - 0s 504us/sample - loss: 1.6297 - acc: 0.5000\n",
            "Epoch 143/500\n",
            "26/26 [==============================] - 0s 502us/sample - loss: 1.6187 - acc: 0.5417\n",
            "Epoch 144/500\n",
            "26/26 [==============================] - 0s 510us/sample - loss: 1.6644 - acc: 0.5000\n",
            "Epoch 145/500\n",
            "26/26 [==============================] - 0s 440us/sample - loss: 1.7642 - acc: 0.2917\n",
            "Epoch 146/500\n",
            "26/26 [==============================] - 0s 506us/sample - loss: 1.6758 - acc: 0.5833\n",
            "Epoch 147/500\n",
            "26/26 [==============================] - 0s 476us/sample - loss: 1.5736 - acc: 0.5000\n",
            "Epoch 148/500\n",
            "26/26 [==============================] - 0s 470us/sample - loss: 1.6562 - acc: 0.4167\n",
            "Epoch 149/500\n",
            "26/26 [==============================] - 0s 483us/sample - loss: 1.7282 - acc: 0.3750\n",
            "Epoch 150/500\n",
            "26/26 [==============================] - 0s 553us/sample - loss: 1.6213 - acc: 0.5833\n",
            "Epoch 151/500\n",
            "26/26 [==============================] - 0s 643us/sample - loss: 1.5767 - acc: 0.5000\n",
            "Epoch 152/500\n",
            "26/26 [==============================] - 0s 461us/sample - loss: 1.5966 - acc: 0.5417\n",
            "Epoch 153/500\n",
            "26/26 [==============================] - 0s 498us/sample - loss: 1.6259 - acc: 0.5000\n",
            "Epoch 154/500\n",
            "26/26 [==============================] - 0s 487us/sample - loss: 1.6343 - acc: 0.5833\n",
            "Epoch 155/500\n",
            "26/26 [==============================] - 0s 522us/sample - loss: 1.6114 - acc: 0.6250\n",
            "Epoch 156/500\n",
            "26/26 [==============================] - 0s 520us/sample - loss: 1.5898 - acc: 0.4583\n",
            "Epoch 157/500\n",
            "26/26 [==============================] - 0s 525us/sample - loss: 1.6022 - acc: 0.5417\n",
            "Epoch 158/500\n",
            "26/26 [==============================] - 0s 569us/sample - loss: 1.6515 - acc: 0.4167\n",
            "Epoch 159/500\n",
            "26/26 [==============================] - 0s 604us/sample - loss: 1.6094 - acc: 0.4167\n",
            "Epoch 160/500\n",
            "26/26 [==============================] - 0s 533us/sample - loss: 1.5268 - acc: 0.4167\n",
            "Epoch 161/500\n",
            "26/26 [==============================] - 0s 505us/sample - loss: 1.6149 - acc: 0.5417\n",
            "Epoch 162/500\n",
            "26/26 [==============================] - 0s 447us/sample - loss: 1.4856 - acc: 0.4583\n",
            "Epoch 163/500\n",
            "26/26 [==============================] - 0s 503us/sample - loss: 1.6147 - acc: 0.5417\n",
            "Epoch 164/500\n",
            "26/26 [==============================] - 0s 726us/sample - loss: 1.6300 - acc: 0.5000\n",
            "Epoch 165/500\n",
            "26/26 [==============================] - 0s 465us/sample - loss: 1.5375 - acc: 0.5833\n",
            "Epoch 166/500\n",
            "26/26 [==============================] - 0s 549us/sample - loss: 1.4402 - acc: 0.6667\n",
            "Epoch 167/500\n",
            "26/26 [==============================] - 0s 496us/sample - loss: 1.5346 - acc: 0.5417\n",
            "Epoch 168/500\n",
            "26/26 [==============================] - 0s 512us/sample - loss: 1.5034 - acc: 0.7083\n",
            "Epoch 169/500\n",
            "26/26 [==============================] - 0s 942us/sample - loss: 1.5988 - acc: 0.4583\n",
            "Epoch 170/500\n",
            "26/26 [==============================] - 0s 664us/sample - loss: 1.5717 - acc: 0.6250\n",
            "Epoch 171/500\n",
            "26/26 [==============================] - 0s 850us/sample - loss: 1.4852 - acc: 0.5000\n",
            "Epoch 172/500\n",
            "26/26 [==============================] - 0s 509us/sample - loss: 1.5882 - acc: 0.5000\n",
            "Epoch 173/500\n",
            "26/26 [==============================] - 0s 534us/sample - loss: 1.5271 - acc: 0.5833\n",
            "Epoch 174/500\n",
            "26/26 [==============================] - 0s 569us/sample - loss: 1.3665 - acc: 0.7083\n",
            "Epoch 175/500\n",
            "26/26 [==============================] - 0s 524us/sample - loss: 1.3534 - acc: 0.6667\n",
            "Epoch 176/500\n",
            "26/26 [==============================] - 0s 462us/sample - loss: 1.5531 - acc: 0.5833\n",
            "Epoch 177/500\n",
            "26/26 [==============================] - 0s 547us/sample - loss: 1.4214 - acc: 0.5417\n",
            "Epoch 178/500\n",
            "26/26 [==============================] - 0s 540us/sample - loss: 1.5126 - acc: 0.5000\n",
            "Epoch 179/500\n",
            "26/26 [==============================] - 0s 516us/sample - loss: 1.3330 - acc: 0.7500\n",
            "Epoch 180/500\n",
            "26/26 [==============================] - 0s 453us/sample - loss: 1.3548 - acc: 0.7083\n",
            "Epoch 181/500\n",
            "26/26 [==============================] - 0s 410us/sample - loss: 1.4541 - acc: 0.5417\n",
            "Epoch 182/500\n",
            "26/26 [==============================] - 0s 499us/sample - loss: 1.2894 - acc: 0.5417\n",
            "Epoch 183/500\n",
            "26/26 [==============================] - 0s 498us/sample - loss: 1.3201 - acc: 0.6250\n",
            "Epoch 184/500\n",
            "26/26 [==============================] - 0s 474us/sample - loss: 1.5682 - acc: 0.4583\n",
            "Epoch 185/500\n",
            "26/26 [==============================] - 0s 493us/sample - loss: 1.5105 - acc: 0.5000\n",
            "Epoch 186/500\n",
            "26/26 [==============================] - 0s 497us/sample - loss: 1.3467 - acc: 0.6250\n",
            "Epoch 187/500\n",
            "26/26 [==============================] - 0s 444us/sample - loss: 1.5001 - acc: 0.3750\n",
            "Epoch 188/500\n",
            "26/26 [==============================] - 0s 421us/sample - loss: 1.6027 - acc: 0.4583\n",
            "Epoch 189/500\n",
            "26/26 [==============================] - 0s 678us/sample - loss: 1.4066 - acc: 0.5417\n",
            "Epoch 190/500\n",
            "26/26 [==============================] - 0s 491us/sample - loss: 1.4458 - acc: 0.6250\n",
            "Epoch 191/500\n",
            "26/26 [==============================] - 0s 454us/sample - loss: 1.3798 - acc: 0.5833\n",
            "Epoch 192/500\n",
            "26/26 [==============================] - 0s 554us/sample - loss: 1.3814 - acc: 0.5833\n",
            "Epoch 193/500\n",
            "26/26 [==============================] - 0s 563us/sample - loss: 1.3760 - acc: 0.7083\n",
            "Epoch 194/500\n",
            "26/26 [==============================] - 0s 560us/sample - loss: 1.2807 - acc: 0.7917\n",
            "Epoch 195/500\n",
            "26/26 [==============================] - 0s 486us/sample - loss: 1.4878 - acc: 0.5417\n",
            "Epoch 196/500\n",
            "26/26 [==============================] - 0s 479us/sample - loss: 1.4262 - acc: 0.5417\n",
            "Epoch 197/500\n",
            "26/26 [==============================] - 0s 513us/sample - loss: 1.3191 - acc: 0.6250\n",
            "Epoch 198/500\n",
            "26/26 [==============================] - 0s 508us/sample - loss: 1.3792 - acc: 0.5833\n",
            "Epoch 199/500\n",
            "26/26 [==============================] - 0s 617us/sample - loss: 1.3070 - acc: 0.6250\n",
            "Epoch 200/500\n",
            "26/26 [==============================] - 0s 631us/sample - loss: 1.3971 - acc: 0.4583\n",
            "Epoch 201/500\n",
            "26/26 [==============================] - 0s 513us/sample - loss: 1.2601 - acc: 0.6250\n",
            "Epoch 202/500\n",
            "26/26 [==============================] - 0s 588us/sample - loss: 1.3646 - acc: 0.5417\n",
            "Epoch 203/500\n",
            "26/26 [==============================] - 0s 463us/sample - loss: 1.1954 - acc: 0.6250\n",
            "Epoch 204/500\n",
            "26/26 [==============================] - 0s 456us/sample - loss: 1.4896 - acc: 0.4583\n",
            "Epoch 205/500\n",
            "26/26 [==============================] - 0s 484us/sample - loss: 1.3721 - acc: 0.5833\n",
            "Epoch 206/500\n",
            "26/26 [==============================] - 0s 485us/sample - loss: 1.2110 - acc: 0.6250\n",
            "Epoch 207/500\n",
            "26/26 [==============================] - 0s 542us/sample - loss: 1.1941 - acc: 0.7500\n",
            "Epoch 208/500\n",
            "26/26 [==============================] - 0s 438us/sample - loss: 1.2637 - acc: 0.7083\n",
            "Epoch 209/500\n",
            "26/26 [==============================] - 0s 568us/sample - loss: 1.1824 - acc: 0.6667\n",
            "Epoch 210/500\n",
            "26/26 [==============================] - 0s 540us/sample - loss: 1.2910 - acc: 0.6667\n",
            "Epoch 211/500\n",
            "26/26 [==============================] - 0s 481us/sample - loss: 1.3616 - acc: 0.5833\n",
            "Epoch 212/500\n",
            "26/26 [==============================] - 0s 442us/sample - loss: 1.0939 - acc: 0.8333\n",
            "Epoch 213/500\n",
            "26/26 [==============================] - 0s 556us/sample - loss: 1.2777 - acc: 0.5833\n",
            "Epoch 214/500\n",
            "26/26 [==============================] - 0s 463us/sample - loss: 1.2673 - acc: 0.6250\n",
            "Epoch 215/500\n",
            "26/26 [==============================] - 0s 554us/sample - loss: 1.2687 - acc: 0.6667\n",
            "Epoch 216/500\n",
            "26/26 [==============================] - 0s 538us/sample - loss: 1.2483 - acc: 0.7083\n",
            "Epoch 217/500\n",
            "26/26 [==============================] - 0s 454us/sample - loss: 1.1871 - acc: 0.6250\n",
            "Epoch 218/500\n",
            "26/26 [==============================] - 0s 625us/sample - loss: 1.2543 - acc: 0.6667\n",
            "Epoch 219/500\n",
            "26/26 [==============================] - 0s 791us/sample - loss: 1.2784 - acc: 0.5833\n",
            "Epoch 220/500\n",
            "26/26 [==============================] - 0s 577us/sample - loss: 1.1682 - acc: 0.6667\n",
            "Epoch 221/500\n",
            "26/26 [==============================] - 0s 600us/sample - loss: 1.2473 - acc: 0.6250\n",
            "Epoch 222/500\n",
            "26/26 [==============================] - 0s 509us/sample - loss: 1.3022 - acc: 0.7083\n",
            "Epoch 223/500\n",
            "26/26 [==============================] - 0s 574us/sample - loss: 1.2259 - acc: 0.7083\n",
            "Epoch 224/500\n",
            "26/26 [==============================] - 0s 556us/sample - loss: 1.1425 - acc: 0.6667\n",
            "Epoch 225/500\n",
            "26/26 [==============================] - 0s 491us/sample - loss: 1.2618 - acc: 0.5000\n",
            "Epoch 226/500\n",
            "26/26 [==============================] - 0s 571us/sample - loss: 1.1103 - acc: 0.7500\n",
            "Epoch 227/500\n",
            "26/26 [==============================] - 0s 636us/sample - loss: 1.2700 - acc: 0.5000\n",
            "Epoch 228/500\n",
            "26/26 [==============================] - 0s 671us/sample - loss: 1.1003 - acc: 0.7500\n",
            "Epoch 229/500\n",
            "26/26 [==============================] - 0s 461us/sample - loss: 1.1579 - acc: 0.6250\n",
            "Epoch 230/500\n",
            "26/26 [==============================] - 0s 418us/sample - loss: 1.2868 - acc: 0.5000\n",
            "Epoch 231/500\n",
            "26/26 [==============================] - 0s 455us/sample - loss: 1.0498 - acc: 0.7917\n",
            "Epoch 232/500\n",
            "26/26 [==============================] - 0s 521us/sample - loss: 1.2080 - acc: 0.6250\n",
            "Epoch 233/500\n",
            "26/26 [==============================] - 0s 571us/sample - loss: 1.1338 - acc: 0.5833\n",
            "Epoch 234/500\n",
            "26/26 [==============================] - 0s 600us/sample - loss: 1.1372 - acc: 0.6667\n",
            "Epoch 235/500\n",
            "26/26 [==============================] - 0s 439us/sample - loss: 1.1708 - acc: 0.7500\n",
            "Epoch 236/500\n",
            "26/26 [==============================] - 0s 540us/sample - loss: 1.1974 - acc: 0.6250\n",
            "Epoch 237/500\n",
            "26/26 [==============================] - 0s 515us/sample - loss: 1.2107 - acc: 0.5833\n",
            "Epoch 238/500\n",
            "26/26 [==============================] - 0s 515us/sample - loss: 1.2707 - acc: 0.4583\n",
            "Epoch 239/500\n",
            "26/26 [==============================] - 0s 493us/sample - loss: 1.1552 - acc: 0.7500\n",
            "Epoch 240/500\n",
            "26/26 [==============================] - 0s 524us/sample - loss: 1.1831 - acc: 0.6250\n",
            "Epoch 241/500\n",
            "26/26 [==============================] - 0s 458us/sample - loss: 1.0653 - acc: 0.7083\n",
            "Epoch 242/500\n",
            "26/26 [==============================] - 0s 457us/sample - loss: 1.0659 - acc: 0.7500\n",
            "Epoch 243/500\n",
            "26/26 [==============================] - 0s 478us/sample - loss: 1.2062 - acc: 0.6250\n",
            "Epoch 244/500\n",
            "26/26 [==============================] - 0s 486us/sample - loss: 1.1815 - acc: 0.6667\n",
            "Epoch 245/500\n",
            "26/26 [==============================] - 0s 451us/sample - loss: 1.1533 - acc: 0.6667\n",
            "Epoch 246/500\n",
            "26/26 [==============================] - 0s 456us/sample - loss: 1.0967 - acc: 0.7083\n",
            "Epoch 247/500\n",
            "26/26 [==============================] - 0s 554us/sample - loss: 1.0629 - acc: 0.7917\n",
            "Epoch 248/500\n",
            "26/26 [==============================] - 0s 608us/sample - loss: 1.1216 - acc: 0.5833\n",
            "Epoch 249/500\n",
            "26/26 [==============================] - 0s 566us/sample - loss: 1.1030 - acc: 0.7083\n",
            "Epoch 250/500\n",
            "26/26 [==============================] - 0s 538us/sample - loss: 0.9583 - acc: 0.7917\n",
            "Epoch 251/500\n",
            "26/26 [==============================] - 0s 487us/sample - loss: 1.1709 - acc: 0.5833\n",
            "Epoch 252/500\n",
            "26/26 [==============================] - 0s 488us/sample - loss: 1.0533 - acc: 0.7917\n",
            "Epoch 253/500\n",
            "26/26 [==============================] - 0s 421us/sample - loss: 1.1248 - acc: 0.7500\n",
            "Epoch 254/500\n",
            "26/26 [==============================] - 0s 526us/sample - loss: 1.1882 - acc: 0.5417\n",
            "Epoch 255/500\n",
            "26/26 [==============================] - 0s 566us/sample - loss: 1.1647 - acc: 0.6250\n",
            "Epoch 256/500\n",
            "26/26 [==============================] - 0s 558us/sample - loss: 1.0661 - acc: 0.7500\n",
            "Epoch 257/500\n",
            "26/26 [==============================] - 0s 551us/sample - loss: 0.9874 - acc: 0.7917\n",
            "Epoch 258/500\n",
            "26/26 [==============================] - 0s 474us/sample - loss: 1.0278 - acc: 0.7083\n",
            "Epoch 259/500\n",
            "26/26 [==============================] - 0s 490us/sample - loss: 1.0666 - acc: 0.7083\n",
            "Epoch 260/500\n",
            "26/26 [==============================] - 0s 505us/sample - loss: 1.1203 - acc: 0.6250\n",
            "Epoch 261/500\n",
            "26/26 [==============================] - 0s 479us/sample - loss: 1.0106 - acc: 0.7083\n",
            "Epoch 262/500\n",
            "26/26 [==============================] - 0s 517us/sample - loss: 1.0249 - acc: 0.7917\n",
            "Epoch 263/500\n",
            "26/26 [==============================] - 0s 506us/sample - loss: 0.9986 - acc: 0.6667\n",
            "Epoch 264/500\n",
            "26/26 [==============================] - 0s 514us/sample - loss: 1.0186 - acc: 0.7083\n",
            "Epoch 265/500\n",
            "26/26 [==============================] - 0s 713us/sample - loss: 1.1052 - acc: 0.6667\n",
            "Epoch 266/500\n",
            "26/26 [==============================] - 0s 472us/sample - loss: 1.1469 - acc: 0.6250\n",
            "Epoch 267/500\n",
            "26/26 [==============================] - 0s 570us/sample - loss: 1.0361 - acc: 0.7917\n",
            "Epoch 268/500\n",
            "26/26 [==============================] - 0s 547us/sample - loss: 0.9795 - acc: 0.7917\n",
            "Epoch 269/500\n",
            "26/26 [==============================] - 0s 529us/sample - loss: 0.9551 - acc: 0.7500\n",
            "Epoch 270/500\n",
            "26/26 [==============================] - 0s 855us/sample - loss: 0.9226 - acc: 0.8333\n",
            "Epoch 271/500\n",
            "26/26 [==============================] - 0s 712us/sample - loss: 0.9235 - acc: 0.8333\n",
            "Epoch 272/500\n",
            "26/26 [==============================] - 0s 656us/sample - loss: 0.9746 - acc: 0.7917\n",
            "Epoch 273/500\n",
            "26/26 [==============================] - 0s 561us/sample - loss: 0.9650 - acc: 0.7083\n",
            "Epoch 274/500\n",
            "26/26 [==============================] - 0s 457us/sample - loss: 0.9342 - acc: 0.7500\n",
            "Epoch 275/500\n",
            "26/26 [==============================] - 0s 633us/sample - loss: 0.9974 - acc: 0.7917\n",
            "Epoch 276/500\n",
            "26/26 [==============================] - 0s 744us/sample - loss: 1.0472 - acc: 0.7083\n",
            "Epoch 277/500\n",
            "26/26 [==============================] - 0s 537us/sample - loss: 0.9993 - acc: 0.7500\n",
            "Epoch 278/500\n",
            "26/26 [==============================] - 0s 537us/sample - loss: 0.9162 - acc: 0.7500\n",
            "Epoch 279/500\n",
            "26/26 [==============================] - 0s 496us/sample - loss: 0.8987 - acc: 0.8333\n",
            "Epoch 280/500\n",
            "26/26 [==============================] - 0s 546us/sample - loss: 1.0481 - acc: 0.6667\n",
            "Epoch 281/500\n",
            "26/26 [==============================] - 0s 621us/sample - loss: 0.9240 - acc: 0.8333\n",
            "Epoch 282/500\n",
            "26/26 [==============================] - 0s 494us/sample - loss: 0.9751 - acc: 0.7917\n",
            "Epoch 283/500\n",
            "26/26 [==============================] - 0s 456us/sample - loss: 0.9648 - acc: 0.7083\n",
            "Epoch 284/500\n",
            "26/26 [==============================] - 0s 587us/sample - loss: 0.9624 - acc: 0.7083\n",
            "Epoch 285/500\n",
            "26/26 [==============================] - 0s 619us/sample - loss: 0.9712 - acc: 0.8333\n",
            "Epoch 286/500\n",
            "26/26 [==============================] - 0s 480us/sample - loss: 0.9150 - acc: 0.7917\n",
            "Epoch 287/500\n",
            "26/26 [==============================] - 0s 659us/sample - loss: 0.9955 - acc: 0.7500\n",
            "Epoch 288/500\n",
            "26/26 [==============================] - 0s 634us/sample - loss: 0.9304 - acc: 0.7917\n",
            "Epoch 289/500\n",
            "26/26 [==============================] - 0s 575us/sample - loss: 0.9612 - acc: 0.6250\n",
            "Epoch 290/500\n",
            "26/26 [==============================] - 0s 464us/sample - loss: 0.9130 - acc: 0.7917\n",
            "Epoch 291/500\n",
            "26/26 [==============================] - 0s 521us/sample - loss: 0.9848 - acc: 0.7917\n",
            "Epoch 292/500\n",
            "26/26 [==============================] - 0s 477us/sample - loss: 0.8978 - acc: 0.7083\n",
            "Epoch 293/500\n",
            "26/26 [==============================] - 0s 447us/sample - loss: 0.8088 - acc: 0.8750\n",
            "Epoch 294/500\n",
            "26/26 [==============================] - 0s 572us/sample - loss: 0.9572 - acc: 0.7083\n",
            "Epoch 295/500\n",
            "26/26 [==============================] - 0s 529us/sample - loss: 0.8597 - acc: 0.8750\n",
            "Epoch 296/500\n",
            "26/26 [==============================] - 0s 478us/sample - loss: 0.8884 - acc: 0.7500\n",
            "Epoch 297/500\n",
            "26/26 [==============================] - 0s 557us/sample - loss: 0.9605 - acc: 0.7500\n",
            "Epoch 298/500\n",
            "26/26 [==============================] - 0s 457us/sample - loss: 0.9262 - acc: 0.7083\n",
            "Epoch 299/500\n",
            "26/26 [==============================] - 0s 441us/sample - loss: 0.9264 - acc: 0.7917\n",
            "Epoch 300/500\n",
            "26/26 [==============================] - 0s 461us/sample - loss: 0.8701 - acc: 0.7917\n",
            "Epoch 301/500\n",
            "26/26 [==============================] - 0s 452us/sample - loss: 0.9001 - acc: 0.8750\n",
            "Epoch 302/500\n",
            "26/26 [==============================] - 0s 444us/sample - loss: 0.8804 - acc: 0.8750\n",
            "Epoch 303/500\n",
            "26/26 [==============================] - 0s 483us/sample - loss: 0.9453 - acc: 0.6667\n",
            "Epoch 304/500\n",
            "26/26 [==============================] - 0s 663us/sample - loss: 0.9204 - acc: 0.7500\n",
            "Epoch 305/500\n",
            "26/26 [==============================] - 0s 462us/sample - loss: 0.7935 - acc: 0.7917\n",
            "Epoch 306/500\n",
            "26/26 [==============================] - 0s 437us/sample - loss: 0.9126 - acc: 0.7500\n",
            "Epoch 307/500\n",
            "26/26 [==============================] - 0s 567us/sample - loss: 0.8722 - acc: 0.7917\n",
            "Epoch 308/500\n",
            "26/26 [==============================] - 0s 480us/sample - loss: 0.8517 - acc: 0.7917\n",
            "Epoch 309/500\n",
            "26/26 [==============================] - 0s 529us/sample - loss: 0.8746 - acc: 0.7917\n",
            "Epoch 310/500\n",
            "26/26 [==============================] - 0s 922us/sample - loss: 0.8547 - acc: 0.7917\n",
            "Epoch 311/500\n",
            "26/26 [==============================] - 0s 538us/sample - loss: 0.8197 - acc: 0.7500\n",
            "Epoch 312/500\n",
            "26/26 [==============================] - 0s 538us/sample - loss: 0.8640 - acc: 0.7083\n",
            "Epoch 313/500\n",
            "26/26 [==============================] - 0s 570us/sample - loss: 0.8973 - acc: 0.6667\n",
            "Epoch 314/500\n",
            "26/26 [==============================] - 0s 568us/sample - loss: 0.7174 - acc: 0.9167\n",
            "Epoch 315/500\n",
            "26/26 [==============================] - 0s 467us/sample - loss: 0.8374 - acc: 0.7083\n",
            "Epoch 316/500\n",
            "26/26 [==============================] - 0s 444us/sample - loss: 0.8871 - acc: 0.7500\n",
            "Epoch 317/500\n",
            "26/26 [==============================] - 0s 520us/sample - loss: 0.9213 - acc: 0.7917\n",
            "Epoch 318/500\n",
            "26/26 [==============================] - 0s 520us/sample - loss: 0.7142 - acc: 0.8750\n",
            "Epoch 319/500\n",
            "26/26 [==============================] - 0s 753us/sample - loss: 0.8390 - acc: 0.8333\n",
            "Epoch 320/500\n",
            "26/26 [==============================] - 0s 533us/sample - loss: 0.7772 - acc: 0.9167\n",
            "Epoch 321/500\n",
            "26/26 [==============================] - 0s 507us/sample - loss: 0.8830 - acc: 0.7083\n",
            "Epoch 322/500\n",
            "26/26 [==============================] - 0s 533us/sample - loss: 0.8680 - acc: 0.7500\n",
            "Epoch 323/500\n",
            "26/26 [==============================] - 0s 497us/sample - loss: 0.8037 - acc: 0.7500\n",
            "Epoch 324/500\n",
            "26/26 [==============================] - 0s 546us/sample - loss: 0.9268 - acc: 0.7500\n",
            "Epoch 325/500\n",
            "26/26 [==============================] - 0s 579us/sample - loss: 0.8202 - acc: 0.7083\n",
            "Epoch 326/500\n",
            "26/26 [==============================] - 0s 485us/sample - loss: 0.8376 - acc: 0.7500\n",
            "Epoch 327/500\n",
            "26/26 [==============================] - 0s 559us/sample - loss: 0.8076 - acc: 0.7917\n",
            "Epoch 328/500\n",
            "26/26 [==============================] - 0s 433us/sample - loss: 0.7602 - acc: 0.8750\n",
            "Epoch 329/500\n",
            "26/26 [==============================] - 0s 508us/sample - loss: 0.8211 - acc: 0.8333\n",
            "Epoch 330/500\n",
            "26/26 [==============================] - 0s 578us/sample - loss: 0.8471 - acc: 0.8333\n",
            "Epoch 331/500\n",
            "26/26 [==============================] - 0s 489us/sample - loss: 0.6956 - acc: 0.8750\n",
            "Epoch 332/500\n",
            "26/26 [==============================] - 0s 761us/sample - loss: 0.7097 - acc: 0.8750\n",
            "Epoch 333/500\n",
            "26/26 [==============================] - 0s 635us/sample - loss: 0.7312 - acc: 0.8333\n",
            "Epoch 334/500\n",
            "26/26 [==============================] - 0s 452us/sample - loss: 0.7814 - acc: 0.8333\n",
            "Epoch 335/500\n",
            "26/26 [==============================] - 0s 445us/sample - loss: 0.8586 - acc: 0.7917\n",
            "Epoch 336/500\n",
            "26/26 [==============================] - 0s 597us/sample - loss: 0.7863 - acc: 0.8333\n",
            "Epoch 337/500\n",
            "26/26 [==============================] - 0s 643us/sample - loss: 0.7685 - acc: 0.8750\n",
            "Epoch 338/500\n",
            "26/26 [==============================] - 0s 528us/sample - loss: 0.8298 - acc: 0.8333\n",
            "Epoch 339/500\n",
            "26/26 [==============================] - 0s 550us/sample - loss: 0.6482 - acc: 0.8750\n",
            "Epoch 340/500\n",
            "26/26 [==============================] - 0s 477us/sample - loss: 0.8061 - acc: 0.7500\n",
            "Epoch 341/500\n",
            "26/26 [==============================] - 0s 527us/sample - loss: 0.7623 - acc: 0.7083\n",
            "Epoch 342/500\n",
            "26/26 [==============================] - 0s 579us/sample - loss: 0.7990 - acc: 0.8333\n",
            "Epoch 343/500\n",
            "26/26 [==============================] - 0s 499us/sample - loss: 0.8638 - acc: 0.7083\n",
            "Epoch 344/500\n",
            "26/26 [==============================] - 0s 537us/sample - loss: 0.9228 - acc: 0.6667\n",
            "Epoch 345/500\n",
            "26/26 [==============================] - 0s 508us/sample - loss: 0.7669 - acc: 0.9167\n",
            "Epoch 346/500\n",
            "26/26 [==============================] - 0s 469us/sample - loss: 0.9271 - acc: 0.7083\n",
            "Epoch 347/500\n",
            "26/26 [==============================] - 0s 469us/sample - loss: 0.7883 - acc: 0.8750\n",
            "Epoch 348/500\n",
            "26/26 [==============================] - 0s 628us/sample - loss: 0.7578 - acc: 0.8333\n",
            "Epoch 349/500\n",
            "26/26 [==============================] - 0s 506us/sample - loss: 0.7965 - acc: 0.7500\n",
            "Epoch 350/500\n",
            "26/26 [==============================] - 0s 561us/sample - loss: 0.8421 - acc: 0.8333\n",
            "Epoch 351/500\n",
            "26/26 [==============================] - 0s 532us/sample - loss: 0.8661 - acc: 0.7083\n",
            "Epoch 352/500\n",
            "26/26 [==============================] - 0s 472us/sample - loss: 0.6926 - acc: 0.8750\n",
            "Epoch 353/500\n",
            "26/26 [==============================] - 0s 580us/sample - loss: 0.7810 - acc: 0.7917\n",
            "Epoch 354/500\n",
            "26/26 [==============================] - 0s 528us/sample - loss: 0.7800 - acc: 0.8333\n",
            "Epoch 355/500\n",
            "26/26 [==============================] - 0s 564us/sample - loss: 0.7748 - acc: 0.7500\n",
            "Epoch 356/500\n",
            "26/26 [==============================] - 0s 565us/sample - loss: 0.7726 - acc: 0.7083\n",
            "Epoch 357/500\n",
            "26/26 [==============================] - 0s 486us/sample - loss: 0.7766 - acc: 0.8333\n",
            "Epoch 358/500\n",
            "26/26 [==============================] - 0s 589us/sample - loss: 0.8265 - acc: 0.7500\n",
            "Epoch 359/500\n",
            "26/26 [==============================] - 0s 512us/sample - loss: 0.7761 - acc: 0.8750\n",
            "Epoch 360/500\n",
            "26/26 [==============================] - 0s 621us/sample - loss: 0.8774 - acc: 0.6250\n",
            "Epoch 361/500\n",
            "26/26 [==============================] - 0s 589us/sample - loss: 0.7385 - acc: 0.8750\n",
            "Epoch 362/500\n",
            "26/26 [==============================] - 0s 477us/sample - loss: 0.7712 - acc: 0.7917\n",
            "Epoch 363/500\n",
            "26/26 [==============================] - 0s 535us/sample - loss: 0.7360 - acc: 0.9167\n",
            "Epoch 364/500\n",
            "26/26 [==============================] - 0s 546us/sample - loss: 0.7594 - acc: 0.8333\n",
            "Epoch 365/500\n",
            "26/26 [==============================] - 0s 512us/sample - loss: 0.8146 - acc: 0.7083\n",
            "Epoch 366/500\n",
            "26/26 [==============================] - 0s 548us/sample - loss: 0.7132 - acc: 0.7917\n",
            "Epoch 367/500\n",
            "26/26 [==============================] - 0s 583us/sample - loss: 0.6449 - acc: 0.8333\n",
            "Epoch 368/500\n",
            "26/26 [==============================] - 0s 1ms/sample - loss: 0.7748 - acc: 0.7500\n",
            "Epoch 369/500\n",
            "26/26 [==============================] - 0s 1ms/sample - loss: 0.6759 - acc: 0.8333\n",
            "Epoch 370/500\n",
            "26/26 [==============================] - 0s 469us/sample - loss: 0.6527 - acc: 0.8333\n",
            "Epoch 371/500\n",
            "26/26 [==============================] - 0s 471us/sample - loss: 0.8142 - acc: 0.7500\n",
            "Epoch 372/500\n",
            "26/26 [==============================] - 0s 534us/sample - loss: 0.7533 - acc: 0.8333\n",
            "Epoch 373/500\n",
            "26/26 [==============================] - 0s 523us/sample - loss: 0.6288 - acc: 0.9583\n",
            "Epoch 374/500\n",
            "26/26 [==============================] - 0s 489us/sample - loss: 0.7107 - acc: 0.9167\n",
            "Epoch 375/500\n",
            "26/26 [==============================] - 0s 489us/sample - loss: 0.6549 - acc: 0.8750\n",
            "Epoch 376/500\n",
            "26/26 [==============================] - 0s 532us/sample - loss: 0.5715 - acc: 0.8750\n",
            "Epoch 377/500\n",
            "26/26 [==============================] - 0s 504us/sample - loss: 0.6681 - acc: 0.8750\n",
            "Epoch 378/500\n",
            "26/26 [==============================] - 0s 609us/sample - loss: 0.6573 - acc: 0.8750\n",
            "Epoch 379/500\n",
            "26/26 [==============================] - 0s 572us/sample - loss: 0.7351 - acc: 0.8333\n",
            "Epoch 380/500\n",
            "26/26 [==============================] - 0s 497us/sample - loss: 0.7869 - acc: 0.7917\n",
            "Epoch 381/500\n",
            "26/26 [==============================] - 0s 472us/sample - loss: 0.6804 - acc: 0.7917\n",
            "Epoch 382/500\n",
            "26/26 [==============================] - 0s 458us/sample - loss: 0.6331 - acc: 0.8333\n",
            "Epoch 383/500\n",
            "26/26 [==============================] - 0s 494us/sample - loss: 0.6972 - acc: 0.9167\n",
            "Epoch 384/500\n",
            "26/26 [==============================] - 0s 480us/sample - loss: 0.6161 - acc: 0.8333\n",
            "Epoch 385/500\n",
            "26/26 [==============================] - 0s 732us/sample - loss: 0.7790 - acc: 0.7083\n",
            "Epoch 386/500\n",
            "26/26 [==============================] - 0s 470us/sample - loss: 0.6341 - acc: 0.9583\n",
            "Epoch 387/500\n",
            "26/26 [==============================] - 0s 505us/sample - loss: 0.5889 - acc: 0.9583\n",
            "Epoch 388/500\n",
            "26/26 [==============================] - 0s 784us/sample - loss: 0.6071 - acc: 0.8750\n",
            "Epoch 389/500\n",
            "26/26 [==============================] - 0s 542us/sample - loss: 0.7684 - acc: 0.6667\n",
            "Epoch 390/500\n",
            "26/26 [==============================] - 0s 526us/sample - loss: 0.6058 - acc: 0.9167\n",
            "Epoch 391/500\n",
            "26/26 [==============================] - 0s 514us/sample - loss: 0.6425 - acc: 0.8750\n",
            "Epoch 392/500\n",
            "26/26 [==============================] - 0s 442us/sample - loss: 0.7622 - acc: 0.8750\n",
            "Epoch 393/500\n",
            "26/26 [==============================] - 0s 491us/sample - loss: 0.6432 - acc: 0.8750\n",
            "Epoch 394/500\n",
            "26/26 [==============================] - 0s 460us/sample - loss: 0.6548 - acc: 0.8750\n",
            "Epoch 395/500\n",
            "26/26 [==============================] - 0s 440us/sample - loss: 0.6781 - acc: 0.7917\n",
            "Epoch 396/500\n",
            "26/26 [==============================] - 0s 453us/sample - loss: 0.7175 - acc: 0.8333\n",
            "Epoch 397/500\n",
            "26/26 [==============================] - 0s 467us/sample - loss: 0.6371 - acc: 0.7917\n",
            "Epoch 398/500\n",
            "26/26 [==============================] - 0s 511us/sample - loss: 0.7025 - acc: 0.7917\n",
            "Epoch 399/500\n",
            "26/26 [==============================] - 0s 489us/sample - loss: 0.6273 - acc: 0.8750\n",
            "Epoch 400/500\n",
            "26/26 [==============================] - 0s 529us/sample - loss: 0.7185 - acc: 0.7917\n",
            "Epoch 401/500\n",
            "26/26 [==============================] - 0s 540us/sample - loss: 0.7012 - acc: 0.8750\n",
            "Epoch 402/500\n",
            "26/26 [==============================] - 0s 471us/sample - loss: 0.5943 - acc: 0.8750\n",
            "Epoch 403/500\n",
            "26/26 [==============================] - 0s 496us/sample - loss: 0.6408 - acc: 0.7917\n",
            "Epoch 404/500\n",
            "26/26 [==============================] - 0s 678us/sample - loss: 0.5345 - acc: 0.9167\n",
            "Epoch 405/500\n",
            "26/26 [==============================] - 0s 619us/sample - loss: 0.6405 - acc: 0.9167\n",
            "Epoch 406/500\n",
            "26/26 [==============================] - 0s 480us/sample - loss: 0.6533 - acc: 0.8333\n",
            "Epoch 407/500\n",
            "26/26 [==============================] - 0s 491us/sample - loss: 0.6218 - acc: 0.9167\n",
            "Epoch 408/500\n",
            "26/26 [==============================] - 0s 563us/sample - loss: 0.6543 - acc: 0.8333\n",
            "Epoch 409/500\n",
            "26/26 [==============================] - 0s 522us/sample - loss: 0.6252 - acc: 0.8750\n",
            "Epoch 410/500\n",
            "26/26 [==============================] - 0s 459us/sample - loss: 0.5752 - acc: 0.9167\n",
            "Epoch 411/500\n",
            "26/26 [==============================] - 0s 522us/sample - loss: 0.6140 - acc: 0.7917\n",
            "Epoch 412/500\n",
            "26/26 [==============================] - 0s 523us/sample - loss: 0.5807 - acc: 0.8750\n",
            "Epoch 413/500\n",
            "26/26 [==============================] - 0s 545us/sample - loss: 0.6112 - acc: 0.8750\n",
            "Epoch 414/500\n",
            "26/26 [==============================] - 0s 480us/sample - loss: 0.5401 - acc: 0.9167\n",
            "Epoch 415/500\n",
            "26/26 [==============================] - 0s 501us/sample - loss: 0.6374 - acc: 0.7917\n",
            "Epoch 416/500\n",
            "26/26 [==============================] - 0s 554us/sample - loss: 0.6365 - acc: 0.8333\n",
            "Epoch 417/500\n",
            "26/26 [==============================] - 0s 801us/sample - loss: 0.5722 - acc: 0.8750\n",
            "Epoch 418/500\n",
            "26/26 [==============================] - 0s 733us/sample - loss: 0.6010 - acc: 0.9167\n",
            "Epoch 419/500\n",
            "26/26 [==============================] - 0s 456us/sample - loss: 0.6329 - acc: 0.7917\n",
            "Epoch 420/500\n",
            "26/26 [==============================] - 0s 606us/sample - loss: 0.4847 - acc: 0.8750\n",
            "Epoch 421/500\n",
            "26/26 [==============================] - 0s 560us/sample - loss: 0.6853 - acc: 0.8750\n",
            "Epoch 422/500\n",
            "26/26 [==============================] - 0s 599us/sample - loss: 0.6234 - acc: 0.8333\n",
            "Epoch 423/500\n",
            "26/26 [==============================] - 0s 517us/sample - loss: 0.5234 - acc: 0.9583\n",
            "Epoch 424/500\n",
            "26/26 [==============================] - 0s 507us/sample - loss: 0.6347 - acc: 0.8333\n",
            "Epoch 425/500\n",
            "26/26 [==============================] - 0s 589us/sample - loss: 0.5684 - acc: 0.9167\n",
            "Epoch 426/500\n",
            "26/26 [==============================] - 0s 507us/sample - loss: 0.6902 - acc: 0.8333\n",
            "Epoch 427/500\n",
            "26/26 [==============================] - 0s 544us/sample - loss: 0.6143 - acc: 0.8750\n",
            "Epoch 428/500\n",
            "26/26 [==============================] - 0s 502us/sample - loss: 0.6833 - acc: 0.8333\n",
            "Epoch 429/500\n",
            "26/26 [==============================] - 0s 508us/sample - loss: 0.6369 - acc: 0.8333\n",
            "Epoch 430/500\n",
            "26/26 [==============================] - 0s 523us/sample - loss: 0.6335 - acc: 0.8333\n",
            "Epoch 431/500\n",
            "26/26 [==============================] - 0s 521us/sample - loss: 0.6355 - acc: 0.7917\n",
            "Epoch 432/500\n",
            "26/26 [==============================] - 0s 548us/sample - loss: 0.6093 - acc: 0.8333\n",
            "Epoch 433/500\n",
            "26/26 [==============================] - 0s 494us/sample - loss: 0.6009 - acc: 0.8333\n",
            "Epoch 434/500\n",
            "26/26 [==============================] - 0s 601us/sample - loss: 0.5816 - acc: 0.8333\n",
            "Epoch 435/500\n",
            "26/26 [==============================] - 0s 525us/sample - loss: 0.5623 - acc: 0.9583\n",
            "Epoch 436/500\n",
            "26/26 [==============================] - 0s 694us/sample - loss: 0.6023 - acc: 0.8750\n",
            "Epoch 437/500\n",
            "26/26 [==============================] - 0s 621us/sample - loss: 0.6780 - acc: 0.8333\n",
            "Epoch 438/500\n",
            "26/26 [==============================] - 0s 472us/sample - loss: 0.6203 - acc: 0.8750\n",
            "Epoch 439/500\n",
            "26/26 [==============================] - 0s 565us/sample - loss: 0.5519 - acc: 0.9167\n",
            "Epoch 440/500\n",
            "26/26 [==============================] - 0s 599us/sample - loss: 0.6978 - acc: 0.7500\n",
            "Epoch 441/500\n",
            "26/26 [==============================] - 0s 498us/sample - loss: 0.5910 - acc: 0.7917\n",
            "Epoch 442/500\n",
            "26/26 [==============================] - 0s 452us/sample - loss: 0.5895 - acc: 0.9167\n",
            "Epoch 443/500\n",
            "26/26 [==============================] - 0s 507us/sample - loss: 0.6236 - acc: 0.8750\n",
            "Epoch 444/500\n",
            "26/26 [==============================] - 0s 500us/sample - loss: 0.6037 - acc: 0.8750\n",
            "Epoch 445/500\n",
            "26/26 [==============================] - 0s 472us/sample - loss: 0.6718 - acc: 0.8333\n",
            "Epoch 446/500\n",
            "26/26 [==============================] - 0s 522us/sample - loss: 0.6073 - acc: 0.8333\n",
            "Epoch 447/500\n",
            "26/26 [==============================] - 0s 507us/sample - loss: 0.6372 - acc: 0.8750\n",
            "Epoch 448/500\n",
            "26/26 [==============================] - 0s 556us/sample - loss: 0.5851 - acc: 0.8750\n",
            "Epoch 449/500\n",
            "26/26 [==============================] - 0s 812us/sample - loss: 0.5406 - acc: 0.9583\n",
            "Epoch 450/500\n",
            "26/26 [==============================] - 0s 559us/sample - loss: 0.5855 - acc: 0.9167\n",
            "Epoch 451/500\n",
            "26/26 [==============================] - 0s 695us/sample - loss: 0.4750 - acc: 0.9167\n",
            "Epoch 452/500\n",
            "26/26 [==============================] - 0s 523us/sample - loss: 0.4811 - acc: 0.9583\n",
            "Epoch 453/500\n",
            "26/26 [==============================] - 0s 471us/sample - loss: 0.4920 - acc: 0.8750\n",
            "Epoch 454/500\n",
            "26/26 [==============================] - 0s 483us/sample - loss: 0.6511 - acc: 0.7917\n",
            "Epoch 455/500\n",
            "26/26 [==============================] - 0s 537us/sample - loss: 0.5359 - acc: 0.8750\n",
            "Epoch 456/500\n",
            "26/26 [==============================] - 0s 482us/sample - loss: 0.5028 - acc: 0.9583\n",
            "Epoch 457/500\n",
            "26/26 [==============================] - 0s 520us/sample - loss: 0.5581 - acc: 0.8750\n",
            "Epoch 458/500\n",
            "26/26 [==============================] - 0s 481us/sample - loss: 0.5830 - acc: 0.9167\n",
            "Epoch 459/500\n",
            "26/26 [==============================] - 0s 474us/sample - loss: 0.5972 - acc: 0.8333\n",
            "Epoch 460/500\n",
            "26/26 [==============================] - 0s 559us/sample - loss: 0.5830 - acc: 0.9583\n",
            "Epoch 461/500\n",
            "26/26 [==============================] - 0s 514us/sample - loss: 0.5518 - acc: 0.9167\n",
            "Epoch 462/500\n",
            "26/26 [==============================] - 0s 516us/sample - loss: 0.6393 - acc: 0.8750\n",
            "Epoch 463/500\n",
            "26/26 [==============================] - 0s 628us/sample - loss: 0.5041 - acc: 0.8750\n",
            "Epoch 464/500\n",
            "26/26 [==============================] - 0s 580us/sample - loss: 0.5357 - acc: 0.8750\n",
            "Epoch 465/500\n",
            "26/26 [==============================] - 0s 548us/sample - loss: 0.5458 - acc: 0.8750\n",
            "Epoch 466/500\n",
            "26/26 [==============================] - 0s 809us/sample - loss: 0.5753 - acc: 0.8333\n",
            "Epoch 467/500\n",
            "26/26 [==============================] - 0s 761us/sample - loss: 0.4802 - acc: 0.9167\n",
            "Epoch 468/500\n",
            "26/26 [==============================] - 0s 652us/sample - loss: 0.5747 - acc: 0.8333\n",
            "Epoch 469/500\n",
            "26/26 [==============================] - 0s 526us/sample - loss: 0.6117 - acc: 0.8333\n",
            "Epoch 470/500\n",
            "26/26 [==============================] - 0s 575us/sample - loss: 0.5226 - acc: 0.9167\n",
            "Epoch 471/500\n",
            "26/26 [==============================] - 0s 543us/sample - loss: 0.5357 - acc: 0.8750\n",
            "Epoch 472/500\n",
            "26/26 [==============================] - 0s 836us/sample - loss: 0.5865 - acc: 0.9167\n",
            "Epoch 473/500\n",
            "26/26 [==============================] - 0s 546us/sample - loss: 0.5567 - acc: 0.9583\n",
            "Epoch 474/500\n",
            "26/26 [==============================] - 0s 714us/sample - loss: 0.5142 - acc: 0.8750\n",
            "Epoch 475/500\n",
            "26/26 [==============================] - 0s 734us/sample - loss: 0.5451 - acc: 0.8750\n",
            "Epoch 476/500\n",
            "26/26 [==============================] - 0s 488us/sample - loss: 0.5304 - acc: 0.9167\n",
            "Epoch 477/500\n",
            "26/26 [==============================] - 0s 511us/sample - loss: 0.6342 - acc: 0.7917\n",
            "Epoch 478/500\n",
            "26/26 [==============================] - 0s 544us/sample - loss: 0.4664 - acc: 0.9167\n",
            "Epoch 479/500\n",
            "26/26 [==============================] - 0s 552us/sample - loss: 0.5016 - acc: 0.8750\n",
            "Epoch 480/500\n",
            "26/26 [==============================] - 0s 502us/sample - loss: 0.4896 - acc: 0.8750\n",
            "Epoch 481/500\n",
            "26/26 [==============================] - 0s 467us/sample - loss: 0.5508 - acc: 0.9167\n",
            "Epoch 482/500\n",
            "26/26 [==============================] - 0s 497us/sample - loss: 0.5355 - acc: 0.9167\n",
            "Epoch 483/500\n",
            "26/26 [==============================] - 0s 654us/sample - loss: 0.5372 - acc: 0.9167\n",
            "Epoch 484/500\n",
            "26/26 [==============================] - 0s 532us/sample - loss: 0.5005 - acc: 0.9167\n",
            "Epoch 485/500\n",
            "26/26 [==============================] - 0s 478us/sample - loss: 0.5167 - acc: 0.9583\n",
            "Epoch 486/500\n",
            "26/26 [==============================] - 0s 524us/sample - loss: 0.5202 - acc: 0.8750\n",
            "Epoch 487/500\n",
            "26/26 [==============================] - 0s 509us/sample - loss: 0.4973 - acc: 0.9167\n",
            "Epoch 488/500\n",
            "26/26 [==============================] - 0s 490us/sample - loss: 0.5139 - acc: 0.8750\n",
            "Epoch 489/500\n",
            "26/26 [==============================] - 0s 591us/sample - loss: 0.6195 - acc: 0.8333\n",
            "Epoch 490/500\n",
            "26/26 [==============================] - 0s 527us/sample - loss: 0.4966 - acc: 0.8750\n",
            "Epoch 491/500\n",
            "26/26 [==============================] - 0s 538us/sample - loss: 0.5403 - acc: 0.8750\n",
            "Epoch 492/500\n",
            "26/26 [==============================] - 0s 573us/sample - loss: 0.4741 - acc: 0.9167\n",
            "Epoch 493/500\n",
            "26/26 [==============================] - 0s 536us/sample - loss: 0.4630 - acc: 0.9583\n",
            "Epoch 494/500\n",
            "26/26 [==============================] - 0s 647us/sample - loss: 0.6159 - acc: 0.9167\n",
            "Epoch 495/500\n",
            "26/26 [==============================] - 0s 523us/sample - loss: 0.4027 - acc: 0.9167\n",
            "Epoch 496/500\n",
            "26/26 [==============================] - 0s 518us/sample - loss: 0.4523 - acc: 0.9583\n",
            "Epoch 497/500\n",
            "26/26 [==============================] - 0s 596us/sample - loss: 0.4233 - acc: 0.8750\n",
            "Epoch 498/500\n",
            "26/26 [==============================] - 0s 514us/sample - loss: 0.4449 - acc: 0.9167\n",
            "Epoch 499/500\n",
            "26/26 [==============================] - 0s 508us/sample - loss: 0.5010 - acc: 0.8333\n",
            "Epoch 500/500\n",
            "26/26 [==============================] - 0s 532us/sample - loss: 0.5408 - acc: 0.8750\n"
          ],
          "name": "stdout"
        },
        {
          "output_type": "execute_result",
          "data": {
            "text/plain": [
              "<tensorflow.python.keras.callbacks.History at 0x7f94e217c320>"
            ]
          },
          "metadata": {
            "tags": []
          },
          "execution_count": 21
        }
      ]
    },
    {
      "metadata": {
        "id": "YzZe48vENjUN",
        "colab_type": "code",
        "colab": {
          "base_uri": "https://localhost:8080/",
          "height": 379
        },
        "outputId": "3dcfe0f0-4452-4a14-9d6e-67a066661ac7"
      },
      "cell_type": "code",
      "source": [
        "# Create the plot\n",
        "plt.plot(tpu_model.history.history['acc'], 'r', tpu_model.history.history['loss'], 'b')\n",
        "plt.xlabel('Epochs')\n",
        "plt.ylabel('Validation score')\n",
        "plt.legend()\n",
        "plt.show()"
      ],
      "execution_count": 22,
      "outputs": [
        {
          "output_type": "stream",
          "text": [
            "No handles with labels found to put in legend.\n"
          ],
          "name": "stderr"
        },
        {
          "output_type": "display_data",
          "data": {
            "image/png": "[encoded data removed]",
            "text/plain": [
              "<Figure size 576x396 with 1 Axes>"
            ]
          },
          "metadata": {
            "tags": []
          }
        }
      ]
    },
    {
      "metadata": {
        "id": "ueawbr1eGsVL",
        "colab_type": "code",
        "colab": {
          "base_uri": "https://localhost:8080/",
          "height": 177
        },
        "outputId": "3dae22b1-55b5-4650-874c-710930532953"
      },
      "cell_type": "code",
      "source": [
        "cpu_model = tpu_model.sync_to_cpu()"
      ],
      "execution_count": 23,
      "outputs": [
        {
          "output_type": "stream",
          "text": [
            "INFO:tensorflow:Copying TPU weights to the CPU\n",
            "INFO:tensorflow:TPU -> CPU lr: 0.0010000000474974513\n",
            "INFO:tensorflow:TPU -> CPU beta_1: 0.8999999761581421\n",
            "INFO:tensorflow:TPU -> CPU beta_2: 0.9990000128746033\n",
            "INFO:tensorflow:TPU -> CPU decay: 0.0\n",
            "INFO:tensorflow:TPU -> CPU epsilon: 1e-07\n",
            "WARNING:tensorflow:Cannot update non-variable config: epsilon\n",
            "INFO:tensorflow:TPU -> CPU amsgrad: False\n",
            "WARNING:tensorflow:Cannot update non-variable config: amsgrad\n"
          ],
          "name": "stdout"
        }
      ]
    },
    {
      "metadata": {
        "id": "I4XK5eh-VSb4",
        "colab_type": "code",
        "colab": {}
      },
      "cell_type": "code",
      "source": [
        "cpu_model.save_weights('Deep_Writing_with_sentence-word_prediction-tpu.h5')"
      ],
      "execution_count": 0,
      "outputs": []
    },
    {
      "metadata": {
        "id": "6oml2ac7Vjds",
        "colab_type": "code",
        "colab": {}
      },
      "cell_type": "code",
      "source": [
        "cpu_model.load_weights('Deep_Writing_with_sentence-word_prediction-tpu.h5')"
      ],
      "execution_count": 0,
      "outputs": []
    },
    {
      "metadata": {
        "id": "npQJ92OeXPp-",
        "colab_type": "code",
        "colab": {
          "base_uri": "https://localhost:8080/",
          "height": 124
        },
        "outputId": "e453fdf8-5ce2-4fde-cc8a-f889ecec0b05"
      },
      "cell_type": "code",
      "source": [
        "print(X[0])\n",
        "X_lstm[0:].shape"
      ],
      "execution_count": 35,
      "outputs": [
        {
          "output_type": "stream",
          "text": [
            "[ 0.         -5.         -3.46410162 -2.76887462 -2.34520788 -2.04939015\n",
            " -1.82574186 -1.64750894 -1.5        -1.37436854 -1.26491106 -1.16774842\n",
            " -1.08012345 -1.         -0.9258201  -0.85634884 -0.79056942 -0.72760688\n",
            " -0.66666667 -0.60697698 -0.54772256 -0.48795004 -0.42640143 -0.36115756\n",
            " -0.28867513 -0.2       ]\n"
          ],
          "name": "stdout"
        },
        {
          "output_type": "execute_result",
          "data": {
            "text/plain": [
              "(26, 26, 1)"
            ]
          },
          "metadata": {
            "tags": []
          },
          "execution_count": 35
        }
      ]
    },
    {
      "metadata": {
        "id": "CIE3gxpeGtLr",
        "colab_type": "code",
        "colab": {
          "base_uri": "https://localhost:8080/",
          "height": 72
        },
        "outputId": "d2ac4623-667d-49b3-df43-8ee43562176b"
      },
      "cell_type": "code",
      "source": [
        "pred = cpu_model.predict(X_lstm[0:])\n",
        "print(pred.shape)\n",
        "line = []\n",
        "for i in range(len(pred)):\n",
        "  line.append(tokenizer.index_word[np.argmax(pred[i])])\n",
        "  \n",
        "' '.join(line)"
      ],
      "execution_count": 32,
      "outputs": [
        {
          "output_type": "stream",
          "text": [
            "(26, 24)\n"
          ],
          "name": "stdout"
        },
        {
          "output_type": "execute_result",
          "data": {
            "text/plain": [
              "'think think think any of my adventures with mr sherlock holmes opened quite so abruptly or so dramatically as that which i associate with the thre'"
            ]
          },
          "metadata": {
            "tags": []
          },
          "execution_count": 32
        }
      ]
    },
    {
      "metadata": {
        "id": "aNZbZv6HouIB",
        "colab_type": "code",
        "colab": {}
      },
      "cell_type": "code",
      "source": [
        ""
      ],
      "execution_count": 0,
      "outputs": []
    }
  ]
}